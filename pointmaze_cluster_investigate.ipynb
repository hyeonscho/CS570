{
 "cells": [
  {
   "cell_type": "code",
   "execution_count": 1,
   "id": "5ef7c155-4705-43a2-a7a3-8cfd82f6a029",
   "metadata": {},
   "outputs": [],
   "source": [
    "import numpy as np\n",
    "import os\n",
    "import pickle"
   ]
  },
  {
   "cell_type": "code",
   "execution_count": 2,
   "id": "01380107-595a-440c-ae75-b86d85c9101b",
   "metadata": {},
   "outputs": [
    {
     "name": "stdout",
     "output_type": "stream",
     "text": [
      "\u001b[31mML_LOGGER_USER is not set. This is required for online usage.\u001b[0m\n"
     ]
    }
   ],
   "source": [
    "import gymnasium as gym\n",
    "import matplotlib.pyplot as plt\n",
    "from scripts.buffer_utils import LoadSequenceDataset\n",
    "%matplotlib inline"
   ]
  },
  {
   "cell_type": "code",
   "execution_count": 3,
   "id": "5fd6b7e3-97df-4617-975f-4013867571cb",
   "metadata": {},
   "outputs": [],
   "source": [
    "from scripts.buffer_utils import OptimalBuffer"
   ]
  },
  {
   "cell_type": "code",
   "execution_count": 4,
   "id": "78f519c2-7912-4d54-bdfd-34357ff5e5ee",
   "metadata": {},
   "outputs": [],
   "source": [
    "from sklearn.cluster import KMeans"
   ]
  },
  {
   "cell_type": "code",
   "execution_count": 5,
   "id": "2e3bb877-254f-4bbf-a99c-5a67d443463d",
   "metadata": {},
   "outputs": [],
   "source": [
    "from sklearn.metrics import silhouette_score, davies_bouldin_score, calinski_harabasz_score\n",
    "from sklearn.metrics import mutual_info_score, adjusted_rand_score"
   ]
  },
  {
   "cell_type": "code",
   "execution_count": 6,
   "id": "b33bd2c4-972e-46a3-9e3f-300e934d2484",
   "metadata": {},
   "outputs": [],
   "source": [
    "import statistics\n",
    "from statistics import mode"
   ]
  },
  {
   "cell_type": "code",
   "execution_count": 43,
   "id": "97e59ed6-40bb-4ab2-beba-844ddffca420",
   "metadata": {},
   "outputs": [],
   "source": [
    "import random"
   ]
  },
  {
   "cell_type": "code",
   "execution_count": 7,
   "id": "cfc1cbb7-2cc9-4018-bb4c-065b866ef6d9",
   "metadata": {},
   "outputs": [],
   "source": [
    "env_name = 'PointMaze_Medium-v3'\n",
    "data_path = \"/common/users/cc1547/dataset/rainbow/stitching_maze/\"\n",
    "\n",
    "if \"AntMaze_UMaze-v4\" in env_name:\n",
    "    dataset_name = \"antmaze-umaze-v0\"\n",
    "elif \"AntMaze_Medium-v4\" in env_name:\n",
    "    dataset_name = \"antmaze-medium-v0\"\n",
    "elif \"AntMaze_Large-v4\" in env_name:\n",
    "    dataset_name = \"antmaze-large-v0\"\n",
    "elif \"PointMaze_UMaze-v3\" in env_name:\n",
    "    dataset_name = \"pointmaze-umaze-v1\"\n",
    "elif \"PointMaze_Medium-v3\" in env_name:\n",
    "    dataset_name = \"pointmaze-medium-v1\"\n",
    "elif \"PointMaze_Large-v3\" in env_name:\n",
    "    dataset_name = \"pointmaze-large-v1\"\n",
    "\n",
    "data_file = os.path.join(data_path, dataset_name + \".pkl\")"
   ]
  },
  {
   "cell_type": "code",
   "execution_count": 8,
   "id": "f40b43da-d0bd-4846-a567-2afaebe3b8a3",
   "metadata": {},
   "outputs": [],
   "source": [
    "with open(data_file, 'rb') as f:\n",
    "    data = pickle.load(f)"
   ]
  },
  {
   "cell_type": "code",
   "execution_count": 9,
   "id": "649c017c-cc04-4fae-b9ed-be5d14b69270",
   "metadata": {},
   "outputs": [
    {
     "data": {
      "text/plain": [
       "(1000000, 4)"
      ]
     },
     "execution_count": 9,
     "metadata": {},
     "output_type": "execute_result"
    }
   ],
   "source": [
    "data['observations']['observation'].shape"
   ]
  },
  {
   "cell_type": "code",
   "execution_count": 11,
   "id": "cb063f1f-df2a-4a90-b5c2-1fbc6e480164",
   "metadata": {},
   "outputs": [
    {
     "name": "stdout",
     "output_type": "stream",
     "text": [
      "\n",
      "number of offline data is 1000000\n",
      "\n",
      "False\n"
     ]
    }
   ],
   "source": [
    "env_dataset = LoadSequenceDataset(env_name = env_name, data_file=data_file)"
   ]
  },
  {
   "cell_type": "code",
   "execution_count": 12,
   "id": "e86f3f20-a67f-4fc7-ad1c-e0d8491a01f5",
   "metadata": {},
   "outputs": [],
   "source": [
    "horizon = 80\n",
    "data_buffer  = OptimalBuffer(horizon=horizon)\n",
    "for i in range(env_dataset.num_traj): \n",
    "    info = env_dataset.get_full_info_traj(i)  \n",
    "    data_buffer.insert_traj(info) "
   ]
  },
  {
   "cell_type": "code",
   "execution_count": 13,
   "id": "1b7f54e6-503e-48b2-ade7-3ca7d47a9a79",
   "metadata": {},
   "outputs": [],
   "source": [
    "training_split = 0.9"
   ]
  },
  {
   "cell_type": "code",
   "execution_count": 14,
   "id": "508b03df-6881-48cb-ac48-b2089defb640",
   "metadata": {},
   "outputs": [],
   "source": [
    "data_num = len(data_buffer.info)\n",
    "data_idx = np.arange(data_num)\n",
    "np.random.shuffle(data_idx)"
   ]
  },
  {
   "cell_type": "code",
   "execution_count": 15,
   "id": "15c7d210-df88-4a17-9a9d-3820a6af5221",
   "metadata": {},
   "outputs": [],
   "source": [
    "train_num = int(data_num * training_split)\n",
    "train_idx = data_idx[:train_num]\n",
    "test_idx = data_idx[train_num:]"
   ]
  },
  {
   "cell_type": "markdown",
   "id": "502a0cd4-f6ce-4faa-a730-5acc1c72a923",
   "metadata": {},
   "source": [
    "### Using whole sequence "
   ]
  },
  {
   "cell_type": "code",
   "execution_count": 16,
   "id": "0e22390f-53aa-432f-9032-5c36f10c180d",
   "metadata": {},
   "outputs": [],
   "source": [
    "train_seq_x = []\n",
    "train_seq_y = []\n",
    "for idx in train_idx:\n",
    "    train_seq_x.append(data_buffer.info[idx]['obs'].reshape(-1))\n",
    "    train_seq_y.append(data_buffer.info[idx]['region_idx'][0])\n",
    "\n",
    "test_seq_x = []\n",
    "test_seq_y = []\n",
    "for idx in test_idx:\n",
    "    test_seq_x.append(data_buffer.info[idx]['obs'].reshape(-1))\n",
    "    test_seq_y.append(data_buffer.info[idx]['region_idx'][0])"
   ]
  },
  {
   "cell_type": "code",
   "execution_count": 17,
   "id": "1545a3df-baeb-49a2-8e98-a0f450d55c83",
   "metadata": {},
   "outputs": [],
   "source": [
    "train_seq_x = np.array(train_seq_x)\n",
    "train_seq_y = np.array(train_seq_y)\n",
    "\n",
    "test_seq_x = np.array(test_seq_x)\n",
    "test_seq_y = np.array(test_seq_y)"
   ]
  },
  {
   "cell_type": "code",
   "execution_count": 18,
   "id": "2599e1c1-e74c-48e3-9971-4fdbe6dbb583",
   "metadata": {},
   "outputs": [],
   "source": [
    "kmeans = KMeans(n_clusters=5, n_init='auto').fit(train_seq_x)"
   ]
  },
  {
   "cell_type": "code",
   "execution_count": 19,
   "id": "9cbc53e7-1358-4d1b-99a0-40e9d6b63af0",
   "metadata": {},
   "outputs": [],
   "source": [
    "silhouette = silhouette_score(train_seq_x, kmeans.labels_)\n",
    "db_index = davies_bouldin_score(train_seq_x, kmeans.labels_)\n",
    "ch_index = calinski_harabasz_score(train_seq_x, kmeans.labels_)\n",
    "ari = adjusted_rand_score(train_seq_y, kmeans.labels_)\n",
    "mi = mutual_info_score(train_seq_y, kmeans.labels_)"
   ]
  },
  {
   "cell_type": "code",
   "execution_count": 20,
   "id": "8644ed6f-4726-4f99-a97f-08c1bc9483af",
   "metadata": {},
   "outputs": [
    {
     "name": "stdout",
     "output_type": "stream",
     "text": [
      "Silhouette Score: 0.26\n",
      "Davies-Bouldin Index: 1.53\n",
      "Calinski-Harabasz Index: 38819.70\n",
      "Adjusted Rand Index: 0.24\n",
      "Mutual Information (MI): 0.54\n"
     ]
    }
   ],
   "source": [
    "print(f\"Silhouette Score: {silhouette:.2f}\")\n",
    "print(f\"Davies-Bouldin Index: {db_index:.2f}\")\n",
    "print(f\"Calinski-Harabasz Index: {ch_index:.2f}\")\n",
    "print(f\"Adjusted Rand Index: {ari:.2f}\")\n",
    "print(f\"Mutual Information (MI): {mi:.2f}\")"
   ]
  },
  {
   "cell_type": "code",
   "execution_count": 61,
   "id": "66bbe84e-4b29-4c08-80bc-b7e6f1666927",
   "metadata": {},
   "outputs": [
    {
     "name": "stdout",
     "output_type": "stream",
     "text": [
      " ============= clustering with whole sequence ============ \n",
      "Silhouette Score: 0.22\n",
      "Davies-Bouldin Index: 1.61\n",
      "Calinski-Harabasz Index: 44250.58\n",
      "Adjusted Rand Index: 0.16\n",
      "Mutual Information (MI): 0.39\n",
      " ============= clustering with whole sequence ============ \n",
      "Silhouette Score: 0.25\n",
      "Davies-Bouldin Index: 1.51\n",
      "Calinski-Harabasz Index: 43750.91\n",
      "Adjusted Rand Index: 0.25\n",
      "Mutual Information (MI): 0.58\n",
      " ============= clustering with whole sequence ============ \n",
      "Silhouette Score: 0.34\n",
      "Davies-Bouldin Index: 1.29\n",
      "Calinski-Harabasz Index: 44322.99\n",
      "Adjusted Rand Index: 0.32\n",
      "Mutual Information (MI): 0.97\n",
      " ============= clustering with whole sequence ============ \n",
      "Silhouette Score: 0.41\n",
      "Davies-Bouldin Index: 1.04\n",
      "Calinski-Harabasz Index: 46741.22\n",
      "Adjusted Rand Index: 0.28\n",
      "Mutual Information (MI): 1.33\n",
      " ============= clustering with whole sequence ============ \n",
      "Silhouette Score: 0.41\n",
      "Davies-Bouldin Index: 0.95\n",
      "Calinski-Harabasz Index: 49085.61\n",
      "Adjusted Rand Index: 0.18\n",
      "Mutual Information (MI): 1.47\n"
     ]
    }
   ],
   "source": [
    "n_clusters = [3, 5, 10, 20,40]\n",
    "\n",
    "train_seq_x = []\n",
    "train_seq_y = []\n",
    "for idx in range(len(data_buffer.info)):\n",
    "\n",
    "    train_seq_x.append(data_buffer.info[idx]['obs'].reshape(-1))\n",
    "    train_seq_y.append(data_buffer.info[idx]['region_idx'][0])\n",
    "\n",
    "for n in n_clusters:\n",
    "    kmeans = KMeans(n_clusters=n, n_init='auto').fit(train_seq_x)\n",
    "    silhouette = silhouette_score(train_seq_x, kmeans.labels_)\n",
    "    db_index = davies_bouldin_score(train_seq_x, kmeans.labels_)\n",
    "    ch_index = calinski_harabasz_score(train_seq_x, kmeans.labels_)\n",
    "    ari = adjusted_rand_score(train_seq_y, kmeans.labels_)\n",
    "    mi = mutual_info_score(train_seq_y, kmeans.labels_)\n",
    "    \n",
    "    print(\" ============= clustering with whole sequence ============ \")\n",
    "\n",
    "    print(f\"Silhouette Score: {silhouette:.2f}\")\n",
    "    print(f\"Davies-Bouldin Index: {db_index:.2f}\")\n",
    "    print(f\"Calinski-Harabasz Index: {ch_index:.2f}\")\n",
    "    print(f\"Adjusted Rand Index: {ari:.2f}\")\n",
    "    print(f\"Mutual Information (MI): {mi:.2f}\")"
   ]
  },
  {
   "cell_type": "markdown",
   "id": "0652b192-1bb4-44ac-9978-ba5186e4f176",
   "metadata": {},
   "source": [
    "### Using the two end states"
   ]
  },
  {
   "cell_type": "code",
   "execution_count": 21,
   "id": "f87b10c8-3245-46cc-a1c0-054332e2d20f",
   "metadata": {},
   "outputs": [],
   "source": [
    "train_seq_x = []\n",
    "train_seq_y = []\n",
    "for idx in train_idx:\n",
    "    end_states = np.array([data_buffer.info[idx]['obs'][0], data_buffer.info[idx]['obs'][1]])\n",
    "    train_seq_x.append(end_states.reshape(-1))\n",
    "    train_seq_y.append(data_buffer.info[idx]['region_idx'][0])\n",
    "\n",
    "test_seq_x = []\n",
    "test_seq_y = []\n",
    "for idx in test_idx:\n",
    "    end_states = np.array([data_buffer.info[idx]['obs'][0], data_buffer.info[idx]['obs'][1]])\n",
    "    test_seq_x.append(end_states.reshape(-1))\n",
    "    test_seq_y.append(data_buffer.info[idx]['region_idx'][0])"
   ]
  },
  {
   "cell_type": "code",
   "execution_count": 22,
   "id": "833a86e3-2793-4a69-b04e-41c73bc85736",
   "metadata": {},
   "outputs": [],
   "source": [
    "train_seq_x = np.array(train_seq_x)\n",
    "train_seq_y = np.array(train_seq_y)\n",
    "\n",
    "test_seq_x = np.array(test_seq_x)\n",
    "test_seq_y = np.array(test_seq_y)"
   ]
  },
  {
   "cell_type": "code",
   "execution_count": 23,
   "id": "3c998ada-6642-4956-b27c-49e47fbe3832",
   "metadata": {},
   "outputs": [],
   "source": [
    "kmeans = KMeans(n_clusters=5, n_init='auto').fit(train_seq_x)"
   ]
  },
  {
   "cell_type": "code",
   "execution_count": 24,
   "id": "d3a34d80-229e-4df1-b534-7d548c1c93d7",
   "metadata": {},
   "outputs": [
    {
     "name": "stdout",
     "output_type": "stream",
     "text": [
      "Silhouette Score: 0.32\n",
      "Davies-Bouldin Index: 1.17\n",
      "Calinski-Harabasz Index: 66713.66\n",
      "Adjusted Rand Index: 0.20\n",
      "Mutual Information (MI): 0.49\n"
     ]
    }
   ],
   "source": [
    "silhouette = silhouette_score(train_seq_x, kmeans.labels_)\n",
    "db_index = davies_bouldin_score(train_seq_x, kmeans.labels_)\n",
    "ch_index = calinski_harabasz_score(train_seq_x, kmeans.labels_)\n",
    "ari = adjusted_rand_score(train_seq_y, kmeans.labels_)\n",
    "mi = mutual_info_score(train_seq_y, kmeans.labels_)\n",
    "\n",
    "print(f\"Silhouette Score: {silhouette:.2f}\")\n",
    "print(f\"Davies-Bouldin Index: {db_index:.2f}\")\n",
    "print(f\"Calinski-Harabasz Index: {ch_index:.2f}\")\n",
    "print(f\"Adjusted Rand Index: {ari:.2f}\")\n",
    "print(f\"Mutual Information (MI): {mi:.2f}\")"
   ]
  },
  {
   "cell_type": "code",
   "execution_count": 62,
   "id": "a78a69f6-ee0e-479e-bd50-61ea427bcd87",
   "metadata": {},
   "outputs": [
    {
     "name": "stdout",
     "output_type": "stream",
     "text": [
      " ============= clustering with two end states ============ \n",
      "Silhouette Score: 0.26\n",
      "Davies-Bouldin Index: 1.51\n",
      "Calinski-Harabasz Index: 59271.35\n",
      "Adjusted Rand Index: 0.09\n",
      "Mutual Information (MI): 0.17\n",
      " ============= clustering with two end states ============ \n",
      "Silhouette Score: 0.28\n",
      "Davies-Bouldin Index: 1.36\n",
      "Calinski-Harabasz Index: 54989.31\n",
      "Adjusted Rand Index: 0.16\n",
      "Mutual Information (MI): 0.40\n",
      " ============= clustering with two end states ============ \n",
      "Silhouette Score: 0.33\n",
      "Davies-Bouldin Index: 1.20\n",
      "Calinski-Harabasz Index: 51240.55\n",
      "Adjusted Rand Index: 0.32\n",
      "Mutual Information (MI): 0.99\n",
      " ============= clustering with two end states ============ \n",
      "Silhouette Score: 0.36\n",
      "Davies-Bouldin Index: 1.08\n",
      "Calinski-Harabasz Index: 46366.14\n",
      "Adjusted Rand Index: 0.24\n",
      "Mutual Information (MI): 1.25\n",
      " ============= clustering with two end states ============ \n",
      "Silhouette Score: 0.37\n",
      "Davies-Bouldin Index: 1.07\n",
      "Calinski-Harabasz Index: 41512.60\n",
      "Adjusted Rand Index: 0.18\n",
      "Mutual Information (MI): 1.40\n"
     ]
    }
   ],
   "source": [
    "n_clusters = [3, 5, 10, 20,40]\n",
    "\n",
    "train_seq_x = []\n",
    "train_seq_y = []\n",
    "for idx in range(len(data_buffer.info)):\n",
    "\n",
    "    end_states = np.array([data_buffer.info[idx]['obs'][0], data_buffer.info[idx]['obs'][-1]])\n",
    "    train_seq_x.append(end_states.reshape(-1))\n",
    "    train_seq_y.append(data_buffer.info[idx]['region_idx'][0])\n",
    "\n",
    "for n in n_clusters:\n",
    "    kmeans = KMeans(n_clusters=n, n_init='auto').fit(train_seq_x)\n",
    "    silhouette = silhouette_score(train_seq_x, kmeans.labels_)\n",
    "    db_index = davies_bouldin_score(train_seq_x, kmeans.labels_)\n",
    "    ch_index = calinski_harabasz_score(train_seq_x, kmeans.labels_)\n",
    "    ari = adjusted_rand_score(train_seq_y, kmeans.labels_)\n",
    "    mi = mutual_info_score(train_seq_y, kmeans.labels_)\n",
    "    \n",
    "    print(\" ============= clustering with two end states ============ \")\n",
    "\n",
    "    print(f\"Silhouette Score: {silhouette:.2f}\")\n",
    "    print(f\"Davies-Bouldin Index: {db_index:.2f}\")\n",
    "    print(f\"Calinski-Harabasz Index: {ch_index:.2f}\")\n",
    "    print(f\"Adjusted Rand Index: {ari:.2f}\")\n",
    "    print(f\"Mutual Information (MI): {mi:.2f}\")"
   ]
  },
  {
   "cell_type": "markdown",
   "id": "266442f4-d452-4edc-9a49-56ff6f9f8f6b",
   "metadata": {},
   "source": [
    "### Using mean of sequence"
   ]
  },
  {
   "cell_type": "code",
   "execution_count": 25,
   "id": "322b9956-efbb-45b0-8146-19d58cb4ca16",
   "metadata": {},
   "outputs": [],
   "source": [
    "train_seq_x = []\n",
    "train_seq_y = []\n",
    "for idx in train_idx:\n",
    "    mean_states = data_buffer.info[idx]['obs'].mean(axis=0)\n",
    "    train_seq_x.append(mean_states)\n",
    "    train_seq_y.append(data_buffer.info[idx]['region_idx'][0])\n",
    "\n",
    "test_seq_x = []\n",
    "test_seq_y = []\n",
    "for idx in test_idx:\n",
    "    mean_states = data_buffer.info[idx]['obs'].mean(axis=0)\n",
    "    test_seq_x.append(mean_states)\n",
    "    test_seq_y.append(data_buffer.info[idx]['region_idx'][0])"
   ]
  },
  {
   "cell_type": "code",
   "execution_count": 26,
   "id": "a8c4d849-7863-4adb-937a-2bd72e992585",
   "metadata": {},
   "outputs": [],
   "source": [
    "train_seq_x = np.array(train_seq_x)\n",
    "train_seq_y = np.array(train_seq_y)\n",
    "\n",
    "test_seq_x = np.array(test_seq_x)\n",
    "test_seq_y = np.array(test_seq_y)"
   ]
  },
  {
   "cell_type": "code",
   "execution_count": 27,
   "id": "73cc73b1-d86d-4797-a241-1ef2a6a0dd0d",
   "metadata": {},
   "outputs": [],
   "source": [
    "kmeans = KMeans(n_clusters=5, n_init='auto').fit(train_seq_x)"
   ]
  },
  {
   "cell_type": "code",
   "execution_count": 28,
   "id": "d88d1196-ca82-4089-a717-e9ffc376d695",
   "metadata": {},
   "outputs": [
    {
     "name": "stdout",
     "output_type": "stream",
     "text": [
      "Silhouette Score: 0.41\n",
      "Davies-Bouldin Index: 1.01\n",
      "Calinski-Harabasz Index: 80256.69\n",
      "Adjusted Rand Index: 0.34\n",
      "Mutual Information (MI): 0.75\n"
     ]
    }
   ],
   "source": [
    "silhouette = silhouette_score(train_seq_x, kmeans.labels_)\n",
    "db_index = davies_bouldin_score(train_seq_x, kmeans.labels_)\n",
    "ch_index = calinski_harabasz_score(train_seq_x, kmeans.labels_)\n",
    "ari = adjusted_rand_score(train_seq_y, kmeans.labels_)\n",
    "mi = mutual_info_score(train_seq_y, kmeans.labels_)\n",
    "\n",
    "print(f\"Silhouette Score: {silhouette:.2f}\")\n",
    "print(f\"Davies-Bouldin Index: {db_index:.2f}\")\n",
    "print(f\"Calinski-Harabasz Index: {ch_index:.2f}\")\n",
    "print(f\"Adjusted Rand Index: {ari:.2f}\")\n",
    "print(f\"Mutual Information (MI): {mi:.2f}\")"
   ]
  },
  {
   "cell_type": "code",
   "execution_count": 63,
   "id": "20461ba4-8532-4a17-8547-2127b35156d3",
   "metadata": {},
   "outputs": [
    {
     "name": "stdout",
     "output_type": "stream",
     "text": [
      " ============= clustering with sequence mean ============ \n",
      "Silhouette Score: 0.31\n",
      "Davies-Bouldin Index: 1.42\n",
      "Calinski-Harabasz Index: 72173.56\n",
      "Adjusted Rand Index: 0.09\n",
      "Mutual Information (MI): 0.21\n",
      " ============= clustering with sequence mean ============ \n",
      "Silhouette Score: 0.40\n",
      "Davies-Bouldin Index: 1.08\n",
      "Calinski-Harabasz Index: 82868.36\n",
      "Adjusted Rand Index: 0.33\n",
      "Mutual Information (MI): 0.76\n",
      " ============= clustering with sequence mean ============ \n",
      "Silhouette Score: 0.53\n",
      "Davies-Bouldin Index: 0.76\n",
      "Calinski-Harabasz Index: 125073.14\n",
      "Adjusted Rand Index: 0.47\n",
      "Mutual Information (MI): 1.31\n",
      " ============= clustering with sequence mean ============ \n",
      "Silhouette Score: 0.61\n",
      "Davies-Bouldin Index: 0.62\n",
      "Calinski-Harabasz Index: 232399.08\n",
      "Adjusted Rand Index: 0.34\n",
      "Mutual Information (MI): 1.48\n",
      " ============= clustering with sequence mean ============ \n",
      "Silhouette Score: 0.52\n",
      "Davies-Bouldin Index: 0.69\n",
      "Calinski-Harabasz Index: 331424.93\n",
      "Adjusted Rand Index: 0.20\n",
      "Mutual Information (MI): 1.48\n"
     ]
    }
   ],
   "source": [
    "n_clusters = [3, 5, 10, 20,40]\n",
    "\n",
    "train_seq_x = []\n",
    "train_seq_y = []\n",
    "for idx in range(len(data_buffer.info)):\n",
    "\n",
    "    mean_states = data_buffer.info[idx]['obs'].mean(axis=0)\n",
    "    train_seq_x.append(mean_states)\n",
    "    train_seq_y.append(data_buffer.info[idx]['region_idx'][0])\n",
    "\n",
    "for n in n_clusters:\n",
    "    kmeans = KMeans(n_clusters=n, n_init='auto').fit(train_seq_x)\n",
    "    silhouette = silhouette_score(train_seq_x, kmeans.labels_)\n",
    "    db_index = davies_bouldin_score(train_seq_x, kmeans.labels_)\n",
    "    ch_index = calinski_harabasz_score(train_seq_x, kmeans.labels_)\n",
    "    ari = adjusted_rand_score(train_seq_y, kmeans.labels_)\n",
    "    mi = mutual_info_score(train_seq_y, kmeans.labels_)\n",
    "    \n",
    "    print(\" ============= clustering with sequence mean ============ \")\n",
    "\n",
    "    print(f\"Silhouette Score: {silhouette:.2f}\")\n",
    "    print(f\"Davies-Bouldin Index: {db_index:.2f}\")\n",
    "    print(f\"Calinski-Harabasz Index: {ch_index:.2f}\")\n",
    "    print(f\"Adjusted Rand Index: {ari:.2f}\")\n",
    "    print(f\"Mutual Information (MI): {mi:.2f}\")"
   ]
  },
  {
   "cell_type": "markdown",
   "id": "f9b1ca77-a503-4768-a9c9-4c4ca971729c",
   "metadata": {},
   "source": [
    "### Using Mean of two end states"
   ]
  },
  {
   "cell_type": "code",
   "execution_count": 29,
   "id": "71660cda-f167-46da-8027-04dc6b4ad04b",
   "metadata": {},
   "outputs": [],
   "source": [
    "train_seq_x = []\n",
    "train_seq_y = []\n",
    "for idx in train_idx:\n",
    "    end_states = np.array([data_buffer.info[idx]['obs'][0], data_buffer.info[idx]['obs'][1]])\n",
    "    train_seq_x.append(end_states.mean(axis=0))\n",
    "    train_seq_y.append(data_buffer.info[idx]['region_idx'][0])\n",
    "\n",
    "test_seq_x = []\n",
    "test_seq_y = []\n",
    "for idx in test_idx:\n",
    "    end_states = np.array([data_buffer.info[idx]['obs'][0], data_buffer.info[idx]['obs'][1]])\n",
    "    test_seq_x.append(end_states.mean(axis=0))\n",
    "    test_seq_y.append(data_buffer.info[idx]['region_idx'][0])"
   ]
  },
  {
   "cell_type": "code",
   "execution_count": 30,
   "id": "1613210b-d4fb-441d-a7c3-c4aad0dc97c7",
   "metadata": {},
   "outputs": [],
   "source": [
    "train_seq_x = np.array(train_seq_x)\n",
    "train_seq_y = np.array(train_seq_y)\n",
    "\n",
    "test_seq_x = np.array(test_seq_x)\n",
    "test_seq_y = np.array(test_seq_y)"
   ]
  },
  {
   "cell_type": "code",
   "execution_count": 31,
   "id": "493dc372-6d79-4a48-ae09-ff71dfbcea30",
   "metadata": {},
   "outputs": [],
   "source": [
    "kmeans = KMeans(n_clusters=5, n_init='auto').fit(train_seq_x)"
   ]
  },
  {
   "cell_type": "code",
   "execution_count": 32,
   "id": "76ef715d-c336-4264-be07-8df9628dec0f",
   "metadata": {},
   "outputs": [
    {
     "name": "stdout",
     "output_type": "stream",
     "text": [
      "Silhouette Score: 0.32\n",
      "Davies-Bouldin Index: 1.17\n",
      "Calinski-Harabasz Index: 66894.40\n",
      "Adjusted Rand Index: 0.20\n",
      "Mutual Information (MI): 0.49\n"
     ]
    }
   ],
   "source": [
    "silhouette = silhouette_score(train_seq_x, kmeans.labels_)\n",
    "db_index = davies_bouldin_score(train_seq_x, kmeans.labels_)\n",
    "ch_index = calinski_harabasz_score(train_seq_x, kmeans.labels_)\n",
    "ari = adjusted_rand_score(train_seq_y, kmeans.labels_)\n",
    "mi = mutual_info_score(train_seq_y, kmeans.labels_)\n",
    "\n",
    "print(f\"Silhouette Score: {silhouette:.2f}\")\n",
    "print(f\"Davies-Bouldin Index: {db_index:.2f}\")\n",
    "print(f\"Calinski-Harabasz Index: {ch_index:.2f}\")\n",
    "print(f\"Adjusted Rand Index: {ari:.2f}\")\n",
    "print(f\"Mutual Information (MI): {mi:.2f}\")"
   ]
  },
  {
   "cell_type": "code",
   "execution_count": 64,
   "id": "6b8824ef-75ce-49f0-8f5f-dccfcf006bb0",
   "metadata": {},
   "outputs": [
    {
     "name": "stdout",
     "output_type": "stream",
     "text": [
      " ============= clustering with center of two end states ============ \n",
      "Silhouette Score: 0.28\n",
      "Davies-Bouldin Index: 1.42\n",
      "Calinski-Harabasz Index: 74891.67\n",
      "Adjusted Rand Index: 0.13\n",
      "Mutual Information (MI): 0.28\n",
      " ============= clustering with center of two end states ============ \n",
      "Silhouette Score: 0.29\n",
      "Davies-Bouldin Index: 1.28\n",
      "Calinski-Harabasz Index: 69712.94\n",
      "Adjusted Rand Index: 0.24\n",
      "Mutual Information (MI): 0.56\n",
      " ============= clustering with center of two end states ============ \n",
      "Silhouette Score: 0.38\n",
      "Davies-Bouldin Index: 0.97\n",
      "Calinski-Harabasz Index: 71567.66\n",
      "Adjusted Rand Index: 0.40\n",
      "Mutual Information (MI): 1.23\n",
      " ============= clustering with center of two end states ============ \n",
      "Silhouette Score: 0.41\n",
      "Davies-Bouldin Index: 0.92\n",
      "Calinski-Harabasz Index: 81223.76\n",
      "Adjusted Rand Index: 0.28\n",
      "Mutual Information (MI): 1.42\n",
      " ============= clustering with center of two end states ============ \n",
      "Silhouette Score: 0.37\n",
      "Davies-Bouldin Index: 0.97\n",
      "Calinski-Harabasz Index: 77925.70\n",
      "Adjusted Rand Index: 0.15\n",
      "Mutual Information (MI): 1.45\n"
     ]
    }
   ],
   "source": [
    "n_clusters = [3, 5, 10, 20,40]\n",
    "\n",
    "train_seq_x = []\n",
    "train_seq_y = []\n",
    "for idx in range(len(data_buffer.info)):\n",
    "\n",
    "    mean_states = np.array([data_buffer.info[idx]['obs'][0], data_buffer.info[idx]['obs'][-1]])\n",
    "    train_seq_x.append(mean_states.mean(axis=0))\n",
    "    train_seq_y.append(data_buffer.info[idx]['region_idx'][0])\n",
    "\n",
    "for n in n_clusters:\n",
    "    kmeans = KMeans(n_clusters=n, n_init='auto').fit(train_seq_x)\n",
    "    silhouette = silhouette_score(train_seq_x, kmeans.labels_)\n",
    "    db_index = davies_bouldin_score(train_seq_x, kmeans.labels_)\n",
    "    ch_index = calinski_harabasz_score(train_seq_x, kmeans.labels_)\n",
    "    ari = adjusted_rand_score(train_seq_y, kmeans.labels_)\n",
    "    mi = mutual_info_score(train_seq_y, kmeans.labels_)\n",
    "    \n",
    "    print(\" ============= clustering with center of two end states ============ \")\n",
    "\n",
    "    print(f\"Silhouette Score: {silhouette:.2f}\")\n",
    "    print(f\"Davies-Bouldin Index: {db_index:.2f}\")\n",
    "    print(f\"Calinski-Harabasz Index: {ch_index:.2f}\")\n",
    "    print(f\"Adjusted Rand Index: {ari:.2f}\")\n",
    "    print(f\"Mutual Information (MI): {mi:.2f}\")"
   ]
  },
  {
   "cell_type": "markdown",
   "id": "67a07eb6-da13-46a9-8ae8-bafe28e26cf4",
   "metadata": {},
   "source": [
    "### Using vote from each state"
   ]
  },
  {
   "cell_type": "code",
   "execution_count": 33,
   "id": "079143a9-4c39-435c-a175-30ee71447c97",
   "metadata": {},
   "outputs": [],
   "source": [
    "train_seq_x = []\n",
    "train_seq_y = []\n",
    "for idx in train_idx:\n",
    "    train_seq_x.append(data_buffer.info[idx]['obs'])\n",
    "    train_seq_y.append(data_buffer.info[idx]['region_idx'])\n",
    "\n",
    "test_seq_x = []\n",
    "test_seq_y = []\n",
    "for idx in test_idx:\n",
    "    test_seq_x.append(data_buffer.info[idx]['obs'])\n",
    "    test_seq_y.append(data_buffer.info[idx]['region_idx'])"
   ]
  },
  {
   "cell_type": "code",
   "execution_count": 34,
   "id": "df589913-af0a-410f-a7b7-2b1ca3956fb6",
   "metadata": {},
   "outputs": [],
   "source": [
    "train_seq_x = np.array(train_seq_x)\n",
    "N, H, C = train_seq_x.shape\n",
    "train_seq_x = np.array(train_seq_x).reshape(-1, 4)\n",
    "train_seq_y = np.array(train_seq_y).reshape(-1)"
   ]
  },
  {
   "cell_type": "code",
   "execution_count": 35,
   "id": "b762f905-1927-426f-860e-6b7292e1ea02",
   "metadata": {},
   "outputs": [],
   "source": [
    "kmeans = KMeans(n_clusters=5, n_init='auto').fit(train_seq_x)"
   ]
  },
  {
   "cell_type": "code",
   "execution_count": 36,
   "id": "fd96a265-6ecf-4fee-a96a-d66e48c6043d",
   "metadata": {},
   "outputs": [],
   "source": [
    "train_pred_y = kmeans.labels_"
   ]
  },
  {
   "cell_type": "code",
   "execution_count": 37,
   "id": "34eac9b2-0294-4dba-81d4-f790e6a95ab3",
   "metadata": {},
   "outputs": [],
   "source": [
    "train_pred_y = train_pred_y.reshape(N, H)"
   ]
  },
  {
   "cell_type": "code",
   "execution_count": 38,
   "id": "c6ebcdaa-8285-4a02-9cc9-a461d50845d8",
   "metadata": {},
   "outputs": [],
   "source": [
    "vote_y = []\n",
    "for i in range(N):\n",
    "    vote_ = mode(train_pred_y[i])\n",
    "    vote_y.append(np.ones(H, dtype=np.int32) * vote_)\n",
    "vote_y = np.array(vote_y).reshape(-1)"
   ]
  },
  {
   "cell_type": "code",
   "execution_count": 57,
   "id": "e995cc68-3f75-4c6f-80b2-07aece13b86f",
   "metadata": {},
   "outputs": [],
   "source": [
    "select_data_idx = np.array(random.sample(range(N*H), N))"
   ]
  },
  {
   "cell_type": "code",
   "execution_count": 58,
   "id": "74816906-818f-48a4-b0fc-25c92a0ee957",
   "metadata": {},
   "outputs": [],
   "source": [
    "select_x = train_seq_x[select_data_idx]\n",
    "select_y = vote_y[select_data_idx]\n",
    "select_gt_y = train_seq_y[select_data_idx]"
   ]
  },
  {
   "cell_type": "code",
   "execution_count": 59,
   "id": "c463fc95-a9d8-4618-93c8-d7f5a0efdda7",
   "metadata": {},
   "outputs": [
    {
     "name": "stdout",
     "output_type": "stream",
     "text": [
      "Silhouette Score: 0.10\n",
      "Davies-Bouldin Index: 2.09\n",
      "Calinski-Harabasz Index: 21991.72\n",
      "Adjusted Rand Index: 0.15\n",
      "Mutual Information (MI): 0.39\n"
     ]
    }
   ],
   "source": [
    "silhouette = silhouette_score(select_x, select_y)\n",
    "db_index = davies_bouldin_score(select_x, select_y)\n",
    "ch_index = calinski_harabasz_score(select_x, select_y)\n",
    "ari = adjusted_rand_score(select_gt_y, select_y)\n",
    "mi = mutual_info_score(select_gt_y, select_y)\n",
    "\n",
    "print(f\"Silhouette Score: {silhouette:.2f}\")\n",
    "print(f\"Davies-Bouldin Index: {db_index:.2f}\")\n",
    "print(f\"Calinski-Harabasz Index: {ch_index:.2f}\")\n",
    "print(f\"Adjusted Rand Index: {ari:.2f}\")\n",
    "print(f\"Mutual Information (MI): {mi:.2f}\")"
   ]
  },
  {
   "cell_type": "code",
   "execution_count": 68,
   "id": "c34168f4-aa86-4aa5-9dfa-792198f06368",
   "metadata": {},
   "outputs": [
    {
     "name": "stdout",
     "output_type": "stream",
     "text": [
      " ============= clustering with voting from each state ============ \n",
      "Silhouette Score: 0.12\n",
      "Davies-Bouldin Index: 2.08\n",
      "Calinski-Harabasz Index: 28819.95\n",
      "Adjusted Rand Index: 0.05\n",
      "Mutual Information (MI): 0.12\n",
      " ============= clustering with voting from each state ============ \n",
      "Silhouette Score: 0.09\n",
      "Davies-Bouldin Index: 2.28\n",
      "Calinski-Harabasz Index: 25824.45\n",
      "Adjusted Rand Index: 0.15\n",
      "Mutual Information (MI): 0.40\n",
      " ============= clustering with voting from each state ============ \n",
      "Silhouette Score: 0.10\n",
      "Davies-Bouldin Index: 1.78\n",
      "Calinski-Harabasz Index: 20748.71\n",
      "Adjusted Rand Index: 0.31\n",
      "Mutual Information (MI): 1.00\n",
      " ============= clustering with voting from each state ============ \n",
      "Silhouette Score: -0.04\n",
      "Davies-Bouldin Index: 5.01\n",
      "Calinski-Harabasz Index: 11921.40\n",
      "Adjusted Rand Index: 0.27\n",
      "Mutual Information (MI): 1.19\n",
      " ============= clustering with voting from each state ============ \n",
      "Silhouette Score: -0.07\n",
      "Davies-Bouldin Index: 12.15\n",
      "Calinski-Harabasz Index: 7387.94\n",
      "Adjusted Rand Index: 0.23\n",
      "Mutual Information (MI): 1.42\n"
     ]
    }
   ],
   "source": [
    "n_clusters = [3, 5, 10, 20,40]\n",
    "\n",
    "train_seq_x = []\n",
    "train_seq_y = []\n",
    "for idx in range(len(data_buffer.info)):\n",
    "\n",
    "    train_seq_x.append(data_buffer.info[idx]['obs'])\n",
    "    train_seq_y.append(data_buffer.info[idx]['region_idx'])\n",
    "    \n",
    "train_seq_x = np.array(train_seq_x)\n",
    "N, H, C = train_seq_x.shape\n",
    "train_seq_x = train_seq_x.reshape(N*H, C)\n",
    "train_seq_y = np.array(train_seq_y).reshape(-1)\n",
    "\n",
    "for n in n_clusters:\n",
    "    kmeans = KMeans(n_clusters=n, n_init='auto').fit(train_seq_x)\n",
    "\n",
    "    train_pred_y = kmeans.labels_\n",
    "    train_pred_y = train_pred_y.reshape(N, H)\n",
    "    \n",
    "    vote_y = []\n",
    "    for i in range(N):\n",
    "        vote_ = mode(train_pred_y[i])\n",
    "        vote_y.append(np.ones(H, dtype=np.int32) * vote_)\n",
    "    vote_y = np.array(vote_y).reshape(-1)\n",
    "\n",
    "    select_data_idx = np.array(random.sample(range(N*H), N))\n",
    "    select_x = train_seq_x[select_data_idx]\n",
    "    select_y = vote_y[select_data_idx]\n",
    "    select_gt_y = train_seq_y[select_data_idx]\n",
    "    \n",
    "    silhouette = silhouette_score(select_x, select_y)\n",
    "    db_index = davies_bouldin_score(select_x, select_y)\n",
    "    ch_index = calinski_harabasz_score(select_x, select_y)\n",
    "    ari = adjusted_rand_score(select_gt_y, select_y)\n",
    "    mi = mutual_info_score(select_gt_y, select_y)\n",
    "    \n",
    "    print(\" ============= clustering with voting from each state ============ \")\n",
    "\n",
    "    print(f\"Silhouette Score: {silhouette:.2f}\")\n",
    "    print(f\"Davies-Bouldin Index: {db_index:.2f}\")\n",
    "    print(f\"Calinski-Harabasz Index: {ch_index:.2f}\")\n",
    "    print(f\"Adjusted Rand Index: {ari:.2f}\")\n",
    "    print(f\"Mutual Information (MI): {mi:.2f}\")\n"
   ]
  },
  {
   "cell_type": "code",
   "execution_count": 67,
   "id": "e9da0d5d-4661-4b3d-9f12-2122727b106f",
   "metadata": {},
   "outputs": [
    {
     "data": {
      "text/plain": [
       "(167330, 4)"
      ]
     },
     "execution_count": 67,
     "metadata": {},
     "output_type": "execute_result"
    }
   ],
   "source": [
    "select_x.shape"
   ]
  },
  {
   "cell_type": "code",
   "execution_count": null,
   "id": "a6ae043e-9894-42cc-b732-5823b847f37f",
   "metadata": {},
   "outputs": [],
   "source": []
  }
 ],
 "metadata": {
  "kernelspec": {
   "display_name": "Python 3 (ipykernel)",
   "language": "python",
   "name": "python3"
  },
  "language_info": {
   "codemirror_mode": {
    "name": "ipython",
    "version": 3
   },
   "file_extension": ".py",
   "mimetype": "text/x-python",
   "name": "python",
   "nbconvert_exporter": "python",
   "pygments_lexer": "ipython3",
   "version": "3.9.0"
  }
 },
 "nbformat": 4,
 "nbformat_minor": 5
}
