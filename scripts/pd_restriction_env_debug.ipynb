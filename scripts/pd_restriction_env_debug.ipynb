{
 "cells": [
  {
   "cell_type": "code",
   "execution_count": 25,
   "id": "6edf6131-c4de-4510-8f96-da7be34e228c",
   "metadata": {},
   "outputs": [],
   "source": [
    "import os\n",
    "import sys\n",
    "\n",
    "sys.path.append('/root/diffuser_chain_hd')\n",
    "\n",
    "\n",
    "import json\n",
    "import numpy as np\n",
    "from os.path import join\n",
    "import pdb\n",
    "\n",
    "from diffuser.guides.policies import Policy\n",
    "import diffuser.datasets as datasets\n",
    "import diffuser.utils as utils\n"
   ]
  },
  {
   "cell_type": "code",
   "execution_count": 26,
   "id": "b235bcd5-2a38-4189-b460-6e86691ae7a4",
   "metadata": {},
   "outputs": [],
   "source": [
    "env = datasets.load_environment('maze2d-large-v1')"
   ]
  },
  {
   "cell_type": "code",
   "execution_count": 27,
   "id": "6228289f-633d-4191-882b-5793d397efac",
   "metadata": {},
   "outputs": [],
   "source": [
    "observation = env.reset()"
   ]
  },
  {
   "cell_type": "code",
   "execution_count": 28,
   "id": "b6d999ee-d6f5-4850-a44a-d31eae003609",
   "metadata": {},
   "outputs": [],
   "source": [
    "import matplotlib.pyplot as plt \n",
    "from diffuser.utils.rendering import Maze2dRenderer"
   ]
  },
  {
   "cell_type": "code",
   "execution_count": 29,
   "id": "58b06724-e940-45dd-abd3-e64290e05843",
   "metadata": {},
   "outputs": [
    {
     "data": {
      "text/plain": [
       "<diffuser.utils.rendering.Maze2dRenderer at 0x7fbfced9a9a0>"
      ]
     },
     "execution_count": 29,
     "metadata": {},
     "output_type": "execute_result"
    }
   ],
   "source": [
    "Maze2dRenderer('maze2d-large-v1')"
   ]
  },
  {
   "cell_type": "code",
   "execution_count": 9,
   "id": "f35ff4dc-d264-4083-afc8-726d70b4001e",
   "metadata": {},
   "outputs": [
    {
     "ename": "AttributeError",
     "evalue": "'MazeEnv' object has no attribute 'maze'",
     "output_type": "error",
     "traceback": [
      "\u001b[0;31m---------------------------------------------------------------------------\u001b[0m",
      "\u001b[0;31mAttributeError\u001b[0m                            Traceback (most recent call last)",
      "Cell \u001b[0;32mIn[9], line 1\u001b[0m\n\u001b[0;32m----> 1\u001b[0m maze \u001b[38;5;241m=\u001b[39m \u001b[43menv\u001b[49m\u001b[38;5;241;43m.\u001b[39;49m\u001b[43munwrapped\u001b[49m\u001b[38;5;241;43m.\u001b[39;49m\u001b[43mmaze\u001b[49m\n\u001b[1;32m      2\u001b[0m \u001b[38;5;66;03m# _background = maze_map == 1\u001b[39;00m\n\u001b[1;32m      3\u001b[0m \n\u001b[1;32m      4\u001b[0m \u001b[38;5;66;03m# fig, axs = plt.subplots(2,1, figsize=(20,10))\u001b[39;00m\n\u001b[0;32m   (...)\u001b[0m\n\u001b[1;32m     39\u001b[0m \u001b[38;5;66;03m# plt.show()    \u001b[39;00m\n\u001b[1;32m     40\u001b[0m \u001b[38;5;66;03m# plt.tight_layout()\u001b[39;00m\n",
      "\u001b[0;31mAttributeError\u001b[0m: 'MazeEnv' object has no attribute 'maze'"
     ]
    }
   ],
   "source": [
    "# _background = maze_map == 1\n",
    "\n",
    "# fig, axs = plt.subplots(2,1, figsize=(20,10))\n",
    "# for i in range(2):\n",
    "#     row = i // 1\n",
    "#     axs[row].imshow(\n",
    "#         _background * 0.5,\n",
    "#         cmap=plt.cm.binary,\n",
    "#         vmin=0,\n",
    "#         vmax=1,\n",
    "#     )\n",
    "#     axs[row].set_xticks(np.arange(0,24,1))\n",
    "#     axs[row].set_yticks(np.arange(0,18,1))\n",
    "#     axs[row].grid(True)\n",
    "\n",
    "\n",
    "\n",
    "# num_samples = 10\n",
    "# colors = plt.cm.jet(np.linspace(0, 1, num_samples))\n",
    "# colors_dist = plt.cm.Greens(np.linspace(0, 1, mx_dist))\n",
    "\n",
    "# for i in range(num_samples):\n",
    "#     idx = np.random.randint(0, len(all_sg_pairs))\n",
    "#     s, g = all_sg_pairs[idx]['reset_cell'], all_sg_pairs[idx]['goal_cell'] \n",
    "#     dist = dist_map[hash_fn(s, g)]\n",
    "\n",
    "#     axs[0].scatter(g[1], g[0], color=colors[i], s=100, marker='X', zorder=20, edgecolors='black', label='goal')\n",
    "#     axs[0].scatter(g[1], g[0], color=colors_dist[dist], s=250, marker='X', zorder=10, edgecolors='black', label='goal')\n",
    "\n",
    "#     axs[1].scatter(s[1], s[0], color=colors[i], s=50, zorder=30, edgecolors='black', label='reset')    \n",
    "#     axs[1].scatter(s[1], s[0], color=colors_dist[dist], s=200, zorder=20, edgecolors='black', label='reset')\n",
    "    \n",
    "#     # axs[2].scatter(s[1], s[0], color=colors_dist[dist], s=50, zorder=30, edgecolors='black', label='reset')\n",
    "#     # axs[2].scatter(g[1], g[0], color=colors_dist[dist], s=100, marker='X', zorder=20, edgecolors='black', label='goal')\n",
    "    \n",
    "# axs[0].set_title('goal')\n",
    "# axs[1].set_title('reset')\n",
    "# plt.show()    \n",
    "# plt.tight_layout()"
   ]
  },
  {
   "cell_type": "code",
   "execution_count": 30,
   "id": "f92bf0a7-f954-432c-8090-d05d28872225",
   "metadata": {},
   "outputs": [],
   "source": [
    "MAZE_BOUNDS = {\n",
    "    \"maze2d-umaze-v1\": (0, 5, 0, 5),\n",
    "    \"maze2d-medium-v1\": (0, 8, 0, 8),\n",
    "    \"maze2d-large-v1\": (0, 9, 0, 12),\n",
    "}\n",
    "\n",
    "\n",
    "import os\n",
    "import collections\n",
    "import numpy as np\n",
    "import gym\n",
    "import pdb\n",
    "\n",
    "from contextlib import (\n",
    "    contextmanager,\n",
    "    redirect_stderr,\n",
    "    redirect_stdout,\n",
    ")\n",
    "\n",
    "@contextmanager\n",
    "def suppress_output():\n",
    "    \"\"\"\n",
    "        A context manager that redirects stdout and stderr to devnull\n",
    "        https://stackoverflow.com/a/52442331\n",
    "    \"\"\"\n",
    "    with open(os.devnull, 'w') as fnull:\n",
    "        with redirect_stderr(fnull) as err, redirect_stdout(fnull) as out:\n",
    "            yield (err, out)\n",
    "\n",
    "with suppress_output():\n",
    "    ## d4rl prints out a variety of warnings\n",
    "    import d4rl\n",
    "def load_environment(name):\n",
    "    if type(name) != str:\n",
    "        ## name is already an environment\n",
    "        return name\n",
    "    with suppress_output():\n",
    "        wrapped_env = gym.make(name)\n",
    "    env = wrapped_env.unwrapped\n",
    "    env.max_episode_steps = wrapped_env._max_episode_steps\n",
    "    env.name = name\n",
    "    return env\n"
   ]
  },
  {
   "cell_type": "code",
   "execution_count": 117,
   "id": "b4058d3a-be72-4dfd-a66a-7dc776143855",
   "metadata": {},
   "outputs": [
    {
     "data": {
      "image/png": "[encoded data removed]",
      "text/plain": [
       "<Figure size 640x480 with 1 Axes>"
      ]
     },
     "metadata": {},
     "output_type": "display_data"
    }
   ],
   "source": [
    "\n",
    "\n",
    "\n",
    "env_name = env\n",
    "_background = env.maze_arr == 10\n",
    "observation_dim = np.prod(env.observation_space.shape)\n",
    "action_dim = np.prod(env.action_space.shape)\n",
    "goal = None\n",
    "_remove_margins = False\n",
    "_extent = (0, 1, 1, 0)\n",
    "\n",
    "\n",
    "plt.imshow(\n",
    "    _background * 0.5,\n",
    "    extent=_extent,\n",
    "    cmap=plt.cm.binary,\n",
    "    vmin=0,\n",
    "    vmax=1,\n",
    ")\n",
    "\n",
    "# path_length = len(observations)\n",
    "# colors = plt.cm.jet(np.linspace(0, 1, path_length))\n",
    "# plt.plot(observations[:, 1], observations[:, 0], c=\"black\", zorder=10)\n",
    "# plt.scatter(observations[:, 1], observations[:, 0], c=colors, zorder=20)\n",
    "plt.axis(\"off\")\n",
    "# plt.title(title)\n",
    "\n",
    "\n",
    "\n",
    "def obs4render(observations):\n",
    "    observations = observations.copy()\n",
    "    bounds = MAZE_BOUNDS['maze2d-large-v1']\n",
    "\n",
    "    observations = observations + 0.5\n",
    "    if len(bounds) == 2:\n",
    "        _, scale = bounds\n",
    "        observations /= scale\n",
    "    elif len(bounds) == 4:\n",
    "        _, iscale, _, jscale = bounds\n",
    "        observations[:, 0] /= iscale\n",
    "        observations[:, 1] /= jscale\n",
    "    return observations\n",
    "\n",
    "_target = np.array([env._target])\n",
    "target = obs4render(_target)\n",
    "plt.scatter(target[:, 1], target[:, 0], marker=\"x\", s=100, c=\"blue\", zorder=30, label=\"goal\")\n",
    "\n",
    "obs = obs4render(np.array([observation[:2]]))\n",
    "plt.scatter(obs[:, 1], obs[:, 0], marker=\"x\", s=100, c=\"red\", zorder=30, label=\"start\")\n",
    "\n",
    "distance_threshold = 2\n",
    "for i in range(10):\n",
    "    neighbors = np.random.randn(100,2)*2 + _target\n",
    "    target_goal_dist = np.linalg.norm(neighbors - _target, axis=1)\n",
    "    _qualified_neighbors = neighbors[target_goal_dist > distance_threshold]\n",
    "#     print(f\"plot: {len(_qualified_neighbors)}\")\n",
    "    qualified_neighbors = obs4render(_qualified_neighbors)\n",
    "    if i == 0: plt.scatter(qualified_neighbors[:,1], qualified_neighbors[:,0], s=10, c='r', alpha=0.3, zorder=10, label='away from PD range')\n",
    "    else: plt.scatter(qualified_neighbors[:,1], qualified_neighbors[:,0], s=10, c='r', alpha=0.3, zorder=10)#, label='away from PD range')\n",
    "\n",
    "        \n",
    "    _qualified_neighbors = neighbors[target_goal_dist <= distance_threshold]\n",
    "    qualified_neighbors = obs4render(_qualified_neighbors)\n",
    "    if i == 0: plt.scatter(qualified_neighbors[:,1], qualified_neighbors[:,0], s=10, c='g', alpha=0.3, zorder=10, label='within PD range')\n",
    "    else: plt.scatter(qualified_neighbors[:,1], qualified_neighbors[:,0], s=10, c='g', alpha=0.3, zorder=10)#, label='within PD range')\n",
    "\n",
    "plt.legend()    \n",
    "plt.show()"
   ]
  },
  {
   "cell_type": "code",
   "execution_count": 108,
   "id": "f918d204-e683-4b4b-9177-f1fef02312cc",
   "metadata": {},
   "outputs": [
    {
     "data": {
      "text/plain": [
       "(7, 9)"
      ]
     },
     "execution_count": 108,
     "metadata": {},
     "output_type": "execute_result"
    }
   ],
   "source": [
    "env._target"
   ]
  },
  {
   "cell_type": "code",
   "execution_count": 113,
   "id": "53aa5ab2-7f03-451e-a6f6-7bfb99ea9982",
   "metadata": {},
   "outputs": [
    {
     "data": {
      "text/plain": [
       "7.118601032023483"
      ]
     },
     "execution_count": 113,
     "metadata": {},
     "output_type": "execute_result"
    }
   ],
   "source": [
    "np.linalg.norm(observation[:2] - env._target)"
   ]
  },
  {
   "cell_type": "code",
   "execution_count": 107,
   "id": "5e96860d-9777-454c-bfa0-5b38acf44d60",
   "metadata": {},
   "outputs": [
    {
     "data": {
      "text/plain": [
       "array([1.97400886, 3.95878053])"
      ]
     },
     "execution_count": 107,
     "metadata": {},
     "output_type": "execute_result"
    }
   ],
   "source": [
    "observation[:2]"
   ]
  },
  {
   "cell_type": "code",
   "execution_count": 101,
   "id": "940cdb24-ed1f-4dc5-a04c-eafec98cf263",
   "metadata": {},
   "outputs": [
    {
     "data": {
      "text/plain": [
       "array([[0.83333333, 0.79166667]])"
      ]
     },
     "execution_count": 101,
     "metadata": {},
     "output_type": "execute_result"
    }
   ],
   "source": [
    "target"
   ]
  },
  {
   "cell_type": "code",
   "execution_count": null,
   "id": "2bd447e4-fbec-490f-bb96-c0a622dad5e3",
   "metadata": {},
   "outputs": [],
   "source": []
  }
 ],
 "metadata": {
  "kernelspec": {
   "display_name": "Python 3 (ipykernel)",
   "language": "python",
   "name": "python3"
  },
  "language_info": {
   "codemirror_mode": {
    "name": "ipython",
    "version": 3
   },
   "file_extension": ".py",
   "mimetype": "text/x-python",
   "name": "python",
   "nbconvert_exporter": "python",
   "pygments_lexer": "ipython3",
   "version": "3.8.10"
  }
 },
 "nbformat": 4,
 "nbformat_minor": 5
}
