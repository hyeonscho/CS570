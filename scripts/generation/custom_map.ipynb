{
 "cells": [
  {
   "cell_type": "code",
   "execution_count": 86,
   "id": "429cf887-5ab0-4058-90aa-3b7b01c4c6e4",
   "metadata": {},
   "outputs": [],
   "source": [
    "import gym\n",
    "import logging\n",
    "from d4rl.pointmaze import waypoint_controller\n",
    "from d4rl.pointmaze import maze_model\n",
    "import matplotlib.pyplot as plt\n",
    "import numpy as np\n",
    "import pickle\n",
    "import gzip\n",
    "import h5py\n",
    "import argparse\n",
    "import os\n",
    "import sys\n",
    "\n",
    "sys.path.append('/root/diffuser_chain_hd/')\n",
    "\n",
    "import diffuser"
   ]
  },
  {
   "cell_type": "code",
   "execution_count": 121,
   "id": "1abde62f-d63c-4770-b031-f1a6f8b76425",
   "metadata": {},
   "outputs": [],
   "source": [
    "XXLARGE_MAZE_C = \\\n",
    "    \"########################\\\\\"+\\\n",
    "    \"#OOOO#OOOOOOOOOOOO#OOOO#\\\\\"+\\\n",
    "    \"#O##O#O#O###O####O#O##O#\\\\\"+\\\n",
    "    \"#OOOOOO#OO#OOOOO#OOOOOO#\\\\\"+\\\n",
    "    \"#O####O####OO####O####O#\\\\\"+\\\n",
    "    \"#OO#O#OOOOOOO#OOOO#OOOO#\\\\\"+\\\n",
    "    \"##O#O#O#O######O#O#O#O##\\\\\"+\\\n",
    "    \"#OO#O#O#OO#OOOOO#O###OO#\\\\\"+\\\n",
    "    \"#OOOO#O#O#####O##OOO#OO#\\\\\"+\\\n",
    "    \"#O##O###OO#OO#OO#OOO#OO#\\\\\"+\\\n",
    "    \"#OO#OOOOOOOOOOOO#O#O#OO#\\\\\"+\\\n",
    "    \"##O#O###O######O#O#O#O##\\\\\"+\\\n",
    "    \"#OO#O#OOOOOOOOOOOO#O#OO#\\\\\"+\\\n",
    "    \"#O####O####OO####O####O#\\\\\"+\\\n",
    "    \"#OO#OOO#OO#OOOOO#OOOOOO#\\\\\"+\\\n",
    "    \"#O##O#O#O######O###O##O#\\\\\"+\\\n",
    "    \"#OOOO#OOOOOOOOOOOO#OOGO#\\\\\"+\\\n",
    "    \"########################\""
   ]
  },
  {
   "cell_type": "code",
   "execution_count": 123,
   "id": "cff3323f-8005-46c1-8e64-28a9c4235ec7",
   "metadata": {},
   "outputs": [
    {
     "data": {
      "text/plain": [
       "<matplotlib.image.AxesImage at 0x7f8c2abdc9a0>"
      ]
     },
     "execution_count": 123,
     "metadata": {},
     "output_type": "execute_result"
    },
    {
     "data": {
      "image/png": "[encoded data removed]",
      "text/plain": [
       "<Figure size 640x480 with 1 Axes>"
      ]
     },
     "metadata": {},
     "output_type": "display_data"
    }
   ],
   "source": [
    "env_name = 'maze2d-xxlarge-v1'\n",
    "env = gym.make(env_name, maze_spec=XXLARGE_MAZE_C)\n",
    "_background = np.flipud(env.maze_arr) == 10 \n",
    "\n",
    "# Plot environment background\n",
    "plt.imshow(\n",
    "    _background * 0.5,\n",
    "    cmap=plt.cm.binary,\n",
    "    vmin=0,\n",
    "    vmax=1,\n",
    "    origin='lower',\n",
    "    alpha=0.5,\n",
    ")\n",
    "\n",
    "# # def set_target(self, target_location=None):\n",
    "# #     if target_location is None:\n",
    "# #         idx = self.np_random.choice(len(self.empty_and_goal_locations))\n",
    "# #         reset_location = np.array(self.empty_and_goal_locations[idx]).astype(self.observation_space.dtype)\n",
    "# #         target_location = reset_location + self.np_random.uniform(low=-.1, high=.1, size=self.model.nq)\n",
    "# #     self._target = target_location\n",
    "# targets = [[16,1], [1,22], [8,1], [16,22], [8.5,11.5], [8, 22], [1,1], [16, 11.5], [1, 11.5]]\n",
    "\n",
    "# env.set_target(targets[2])\n",
    "# env.reset()\n",
    "\n",
    "\n",
    "# for t in targets:\n",
    "#     plt.scatter(t[1], t[0])\n",
    "\n",
    "# env.set_target()\n",
    "# env.reset()\n",
    "# t = env.get_target()\n",
    "# # print(t)\n",
    "# plt.scatter(t[1], t[0])\n"
   ]
  },
  {
   "cell_type": "code",
   "execution_count": null,
   "id": "1ee040b6-3900-4903-89ad-fd878a5e7216",
   "metadata": {},
   "outputs": [],
   "source": []
  },
  {
   "cell_type": "code",
   "execution_count": null,
   "id": "cd24e7fd-7c87-4c63-bcb1-5e846bc72e7f",
   "metadata": {},
   "outputs": [],
   "source": []
  }
 ],
 "metadata": {
  "kernelspec": {
   "display_name": "Python 3 (ipykernel)",
   "language": "python",
   "name": "python3"
  },
  "language_info": {
   "codemirror_mode": {
    "name": "ipython",
    "version": 3
   },
   "file_extension": ".py",
   "mimetype": "text/x-python",
   "name": "python",
   "nbconvert_exporter": "python",
   "pygments_lexer": "ipython3",
   "version": "3.8.10"
  }
 },
 "nbformat": 4,
 "nbformat_minor": 5
}
