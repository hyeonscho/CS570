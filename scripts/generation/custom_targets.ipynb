{
 "cells": [
  {
   "cell_type": "code",
   "execution_count": 8,
   "id": "429cf887-5ab0-4058-90aa-3b7b01c4c6e4",
   "metadata": {},
   "outputs": [],
   "source": [
    "import gym\n",
    "import logging\n",
    "from d4rl.pointmaze import waypoint_controller\n",
    "from d4rl.pointmaze import maze_model\n",
    "import matplotlib.pyplot as plt\n",
    "import numpy as np\n",
    "import pickle\n",
    "import gzip\n",
    "import h5py\n",
    "import argparse\n",
    "import os\n",
    "import sys\n",
    "\n",
    "sys.path.append('/root/diffuser_chain_hd/')\n",
    "\n",
    "import diffuser\n",
    "\n",
    "\n",
    "def reset_data():\n",
    "    return {'observations': [],\n",
    "            'actions': [],\n",
    "            'terminals': [],\n",
    "            'rewards': [],\n",
    "            'infos/goal': [],\n",
    "            'infos/qpos': [],\n",
    "            'infos/qvel': [],\n",
    "            }\n",
    "\n",
    "def append_data(data, s, a, tgt, done, env_data):\n",
    "    data['observations'].append(s)\n",
    "    data['actions'].append(a)\n",
    "    data['rewards'].append(0.0)\n",
    "    data['terminals'].append(done)\n",
    "    data['infos/goal'].append(tgt)\n",
    "    data['infos/qpos'].append(env_data.qpos.ravel().copy())\n",
    "    data['infos/qvel'].append(env_data.qvel.ravel().copy())\n",
    "\n",
    "def npify(data):\n",
    "    for k in data:\n",
    "        if k == 'terminals':\n",
    "            dtype = np.bool_\n",
    "        else:\n",
    "            dtype = np.float32\n",
    "\n",
    "        data[k] = np.array(data[k], dtype=dtype)\n"
   ]
  },
  {
   "cell_type": "code",
   "execution_count": 9,
   "id": "d2963ca4-bcb5-41d1-bb4d-88169ec258c9",
   "metadata": {},
   "outputs": [],
   "source": [
    "env_name = 'maze2d-xxlarge-v1'\n",
    "env = gym.make(env_name)"
   ]
  },
  {
   "cell_type": "code",
   "execution_count": 50,
   "id": "cff3323f-8005-46c1-8e64-28a9c4235ec7",
   "metadata": {},
   "outputs": [
    {
     "name": "stdout",
     "output_type": "stream",
     "text": [
      "[8, 1]\n"
     ]
    },
    {
     "data": {
      "text/plain": [
       "<matplotlib.collections.PathCollection at 0x7f0d6a001e50>"
      ]
     },
     "execution_count": 50,
     "metadata": {},
     "output_type": "execute_result"
    },
    {
     "data": {
      "image/png": "[encoded data removed]",
      "text/plain": [
       "<Figure size 640x480 with 1 Axes>"
      ]
     },
     "metadata": {},
     "output_type": "display_data"
    }
   ],
   "source": [
    "_background = env.maze_arr == 10 \n",
    "\n",
    "# Plot environment background\n",
    "plt.imshow(\n",
    "    _background * 0.5,\n",
    "    cmap=plt.cm.binary,\n",
    "    vmin=0,\n",
    "    vmax=1,\n",
    "    origin='lower',\n",
    "    alpha=0.5,\n",
    ")\n",
    "\n",
    "# def set_target(self, target_location=None):\n",
    "#     if target_location is None:\n",
    "#         idx = self.np_random.choice(len(self.empty_and_goal_locations))\n",
    "#         reset_location = np.array(self.empty_and_goal_locations[idx]).astype(self.observation_space.dtype)\n",
    "#         target_location = reset_location + self.np_random.uniform(low=-.1, high=.1, size=self.model.nq)\n",
    "#     self._target = target_location\n",
    "targets = [[16,1], [1,22], [8,1], [16,22], [8.5,11.5], [8, 22], [1,1], [16, 11.5], [1, 11.5]]\n",
    "\n",
    "env.set_target(targets[2])\n",
    "env.reset()\n",
    "\n",
    "\n",
    "for t in targets:\n",
    "    plt.scatter(t[1], t[0])\n",
    "\n",
    "t = env.get_target()\n",
    "print(t)\n",
    "plt.scatter(t[1], t[0])\n"
   ]
  },
  {
   "cell_type": "code",
   "execution_count": 62,
   "id": "7453ba2d-1178-49e2-8c97-f2f2c4fd8c29",
   "metadata": {},
   "outputs": [
    {
     "data": {
      "text/plain": [
       "0"
      ]
     },
     "execution_count": 62,
     "metadata": {},
     "output_type": "execute_result"
    }
   ],
   "source": [
    "np.random.randint(2)"
   ]
  },
  {
   "cell_type": "code",
   "execution_count": null,
   "id": "a7307413-5431-433c-805b-bbf4bad223b7",
   "metadata": {},
   "outputs": [],
   "source": []
  }
 ],
 "metadata": {
  "kernelspec": {
   "display_name": "Python 3 (ipykernel)",
   "language": "python",
   "name": "python3"
  },
  "language_info": {
   "codemirror_mode": {
    "name": "ipython",
    "version": 3
   },
   "file_extension": ".py",
   "mimetype": "text/x-python",
   "name": "python",
   "nbconvert_exporter": "python",
   "pygments_lexer": "ipython3",
   "version": "3.8.10"
  }
 },
 "nbformat": 4,
 "nbformat_minor": 5
}
