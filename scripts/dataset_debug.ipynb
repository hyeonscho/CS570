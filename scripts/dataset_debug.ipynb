{
 "cells": [
  {
   "cell_type": "code",
   "execution_count": 1,
   "id": "0edbe976-858d-44cf-8d03-81e0cacd7bce",
   "metadata": {},
   "outputs": [
    {
     "name": "stderr",
     "output_type": "stream",
     "text": [
      "Warning: Flow failed to import. Set the environment variable D4RL_SUPPRESS_IMPORT_ERROR=1 to suppress this message.\n",
      "No module named 'flow'\n",
      "/usr/local/lib/python3.8/dist-packages/glfw/__init__.py:916: GLFWError: (65544) b'X11: The DISPLAY environment variable is missing'\n",
      "  warnings.warn(message, GLFWError)\n",
      "Warning: CARLA failed to import. Set the environment variable D4RL_SUPPRESS_IMPORT_ERROR=1 to suppress this message.\n",
      "No module named 'carla'\n",
      "pybullet build time: Nov 28 2023 23:51:11\n"
     ]
    },
    {
     "ename": "RuntimeError",
     "evalue": "module compiled against API version 0x10 but this version of numpy is 0xd . Check the section C-API incompatibility at the Troubleshooting ImportError section at https://numpy.org/devdocs/user/troubleshooting-importerror.html#c-api-incompatibility for indications on how to solve this problem .",
     "output_type": "error",
     "traceback": [
      "\u001b[0;31m---------------------------------------------------------------------------\u001b[0m",
      "\u001b[0;31mRuntimeError\u001b[0m                              Traceback (most recent call last)",
      "\u001b[0;31mRuntimeError\u001b[0m: module compiled against API version 0x10 but this version of numpy is 0xd . Check the section C-API incompatibility at the Troubleshooting ImportError section at https://numpy.org/devdocs/user/troubleshooting-importerror.html#c-api-incompatibility for indications on how to solve this problem ."
     ]
    },
    {
     "name": "stderr",
     "output_type": "stream",
     "text": [
      "Warning: GymBullet failed to import. Set the environment variable D4RL_SUPPRESS_IMPORT_ERROR=1 to suppress this message.\n",
      "numpy.core.multiarray failed to import\n",
      "/usr/local/lib/python3.8/dist-packages/tqdm/auto.py:21: TqdmWarning: IProgress not found. Please update jupyter and ipywidgets. See https://ipywidgets.readthedocs.io/en/stable/user_install.html\n",
      "  from .autonotebook import tqdm as notebook_tqdm\n"
     ]
    },
    {
     "name": "stdout",
     "output_type": "stream",
     "text": [
      "[ utils/setup ] Reading config: config.maze2d_390_actionWeight1:maze2d_xxlarge_v1\n",
      "[ utils/setup ] Using overrides | config: config.maze2d_390_actionWeight1 | dataset: maze2d_xxlarge_v1\n",
      "[ utils/setup ] Setting exp_name to: diffuserdiffuserdiffusion_actW1/H780_T256_J1\n",
      "[ utils/setup ] Made savepath: logs/maze2d-xxlarge-v1/diffuserdiffuserdiffusion_actW1/H780_T256_J1\n",
      "[ utils/setup ] Saved args to logs/maze2d-xxlarge-v1/diffuserdiffuserdiffusion_actW1/H780_T256_J1/args.json\n"
     ]
    }
   ],
   "source": [
    "import os\n",
    "import sys\n",
    "\n",
    "sys.path.append('/root/diffuser_chain_hd')\n",
    "# print(os.path.dirname(os.path.dirname(os.path.abspath(__file__))))\n",
    "# exit()\n",
    "\n",
    "\n",
    "import json\n",
    "import numpy as np\n",
    "from os.path import join\n",
    "import pdb\n",
    "\n",
    "from diffuser.guides.policies import Policy\n",
    "import diffuser.datasets as datasets\n",
    "import diffuser.utils as utils\n",
    "\n",
    "import argparse\n",
    "\n",
    "\n",
    "class Parser(utils.Parser):\n",
    "    dataset: str = 'maze2d-xxlarge-v1'\n",
    "    config: str = 'config.maze2d_390_actionWeight1'\n",
    "\n",
    "\n",
    "#---------------------------------- setup ----------------------------------#\n",
    "n_samples = 100\n",
    "\n",
    "args = Parser().parse_args('diffusion', add_extras=False) # Discovered it later, so had to disable it as I am doing it here, until I test it\n"
   ]
  },
  {
   "cell_type": "code",
   "execution_count": 2,
   "id": "d2892b70-9a52-45c4-9c1f-329ef4df69f2",
   "metadata": {},
   "outputs": [
    {
     "data": {
      "text/plain": [
       "'maze2d-xxlarge-v1'"
      ]
     },
     "execution_count": 2,
     "metadata": {},
     "output_type": "execute_result"
    }
   ],
   "source": [
    "env = datasets.load_environment(args.dataset)\n",
    "\n",
    "args.dataset"
   ]
  },
  {
   "cell_type": "code",
   "execution_count": 36,
   "id": "21034450-0300-4e4e-bc07-18debf574f81",
   "metadata": {},
   "outputs": [
    {
     "name": "stdout",
     "output_type": "stream",
     "text": [
      "[ utils/config ] Imported diffuser.datasets:GoalDataset\n",
      "\n",
      "[utils/config ] Config: <class 'diffuser.datasets.sequence.GoalDataset'>\n",
      "    env: maze2d-xxlarge-v1\n",
      "    horizon: 780\n",
      "    jump: 1\n",
      "    jump_action: none\n",
      "    max_path_length: 300000\n",
      "    normalizer: LimitsNormalizer\n",
      "    preprocess_fns: ['maze2d_set_terminals']\n",
      "    use_padding: False\n",
      "\n",
      "[ utils/config ] Saved config to: logs/maze2d-xxlarge-v1/diffuserdiffuserdiffusion_actW1/H780_T256_J1/dataset_config.pkl\n",
      "\n",
      "[ utils/config ] Imported diffuser.utils:Maze2dRenderer\n",
      "\n",
      "[utils/config ] Config: <class 'diffuser.utils.rendering.Maze2dRenderer'>\n",
      "    env: maze2d-xxlarge-v1\n",
      "\n",
      "[ utils/config ] Saved config to: logs/maze2d-xxlarge-v1/diffuserdiffuserdiffusion_actW1/H780_T256_J1/render_config.pkl\n",
      "\n"
     ]
    }
   ],
   "source": [
    "dataset_config = utils.Config(\n",
    "    args.loader,\n",
    "    savepath=(args.savepath, \"dataset_config.pkl\"),\n",
    "    env=args.dataset,\n",
    "    horizon=args.horizon,#1000,\n",
    "    normalizer=args.normalizer,\n",
    "    preprocess_fns=args.preprocess_fns,\n",
    "    use_padding=args.use_padding,\n",
    "    max_path_length=args.max_path_length,\n",
    "    jump=args.jump,\n",
    "    jump_action=args.jump_action,\n",
    ")\n",
    "\n",
    "\n",
    "render_config = utils.Config(\n",
    "    args.renderer,\n",
    "    savepath=(args.savepath, \"render_config.pkl\"),\n",
    "    env=args.dataset,\n",
    ")"
   ]
  },
  {
   "cell_type": "code",
   "execution_count": 37,
   "id": "623d06e2-c635-469b-be39-867cd9c0edfd",
   "metadata": {},
   "outputs": [
    {
     "data": {
      "text/plain": [
       "780"
      ]
     },
     "execution_count": 37,
     "metadata": {},
     "output_type": "execute_result"
    }
   ],
   "source": [
    "args.horizon"
   ]
  },
  {
   "cell_type": "code",
   "execution_count": 38,
   "id": "b2edb429-57e9-47f5-b2ad-23a7bba9d941",
   "metadata": {},
   "outputs": [
    {
     "name": "stderr",
     "output_type": "stream",
     "text": [
      "load datafile: 100%|████████████████████████████████████████████████████████████████████████████████████████████████████████████████████████████████████████████████████████████████████████████████████████████████| 7/7 [00:00<00:00, 20.47it/s]\n"
     ]
    },
    {
     "name": "stdout",
     "output_type": "stream",
     "text": [
      "[ utils/preprocessing ] Segmented maze2d-xxlarge-v1 | 27 paths | min length: 1389 | max length: 129159 | mean length: 35778.11111111111\n",
      "[ datasets/buffer ] Finalized replay buffer | 28 episodes\n",
      "[ datasets/buffer ] Fields:\n",
      "    actions: (28, 300000, 2)\n",
      "    infos/goal: (28, 300000, 2)\n",
      "    infos/qpos: (28, 300000, 2)\n",
      "    infos/qvel: (28, 300000, 2)\n",
      "    observations: (28, 300000, 4)\n",
      "    rewards: (28, 300000, 1)\n",
      "    terminals: (28, 300000, 1)\n",
      "    timeouts: (28, 300000, 1)\n",
      "    next_observations: (28, 300000, 4)\n",
      "    normed_observations: (28, 300000, 4)\n",
      "    normed_actions: (28, 300000, 2)\n"
     ]
    }
   ],
   "source": [
    "dataset = dataset_config()\n",
    "renderer = render_config()\n",
    "\n"
   ]
  },
  {
   "cell_type": "code",
   "execution_count": 39,
   "id": "cfb2c9d0-0821-4924-ac4f-ab958cbdb9a2",
   "metadata": {},
   "outputs": [
    {
     "name": "stdout",
     "output_type": "stream",
     "text": [
      "[ 21383  60473   7483 129158  86779  19638  86216  75601   3729   9494\n",
      "  36399  52781   7733  12984  23499  12704  70990  17153  18735  93734\n",
      "  22067   9626  62381   9863  13013  19649   2712   1388]\n"
     ]
    },
    {
     "data": {
      "text/plain": [
       "(array([11.,  7.,  1.,  0.,  3.,  2.,  2.,  1.,  0.,  1.]),\n",
       " array([  1388.,  14165.,  26942.,  39719.,  52496.,  65273.,  78050.,\n",
       "         90827., 103604., 116381., 129158.]),\n",
       " <BarContainer object of 10 artists>)"
      ]
     },
     "execution_count": 39,
     "metadata": {},
     "output_type": "execute_result"
    },
    {
     "data": {
      "image/png": "[encoded data removed]",
      "text/plain": [
       "<Figure size 640x480 with 1 Axes>"
      ]
     },
     "metadata": {},
     "output_type": "display_data"
    }
   ],
   "source": [
    "import matplotlib.pyplot as plt\n",
    "print(dataset.path_lengths)\n",
    "plt.hist(dataset.path_lengths)"
   ]
  },
  {
   "cell_type": "code",
   "execution_count": 40,
   "id": "4411aae9-e30c-45de-a885-78b5a4b8bee4",
   "metadata": {},
   "outputs": [
    {
     "data": {
      "text/plain": [
       "<d4rl.pointmaze.maze_model.MazeEnv at 0x7f5c5419dd30>"
      ]
     },
     "execution_count": 40,
     "metadata": {},
     "output_type": "execute_result"
    }
   ],
   "source": [
    "env\n"
   ]
  },
  {
   "cell_type": "code",
   "execution_count": 41,
   "id": "a9fa3dd4-3c55-4da6-8cab-e7dd5ae26369",
   "metadata": {},
   "outputs": [
    {
     "data": {
      "text/plain": [
       "(16, 21)"
      ]
     },
     "execution_count": 41,
     "metadata": {},
     "output_type": "execute_result"
    }
   ],
   "source": [
    "env._target"
   ]
  },
  {
   "cell_type": "code",
   "execution_count": 42,
   "id": "7a30e6c8-c399-492f-83e4-bd5444dbc3b3",
   "metadata": {},
   "outputs": [
    {
     "data": {
      "text/plain": [
       "(array([ 1.60156079e+01,  6.99052517e+00, -2.15160993e-03, -5.77475758e-02]),\n",
       " (16, 21))"
      ]
     },
     "execution_count": 42,
     "metadata": {},
     "output_type": "execute_result"
    }
   ],
   "source": [
    "observations = env.reset()\n",
    "observations, env._target"
   ]
  },
  {
   "cell_type": "code",
   "execution_count": 43,
   "id": "9547e1f0-c5b9-4b28-a12d-08fe6fec524e",
   "metadata": {},
   "outputs": [
    {
     "data": {
      "text/plain": [
       "(2, 4)"
      ]
     },
     "execution_count": 43,
     "metadata": {},
     "output_type": "execute_result"
    }
   ],
   "source": [
    "sg = np.concatenate([observations[None], np.array([[*env._target, 0, 0]])], axis=0)\n",
    "sg.shape"
   ]
  },
  {
   "cell_type": "code",
   "execution_count": 44,
   "id": "209a4868-46d0-460d-8220-4997294ae713",
   "metadata": {},
   "outputs": [
    {
     "name": "stdout",
     "output_type": "stream",
     "text": [
      "Saved 1 samples to: /root/diffuser_chain_hd/scripts/sg.png\n"
     ]
    },
    {
     "data": {
      "image/png": "[encoded data removed]",
      "text/plain": [
       "<Figure size 500x500 with 1 Axes>"
      ]
     },
     "metadata": {},
     "output_type": "display_data"
    }
   ],
   "source": [
    "renderer.composite('/root/diffuser_chain_hd/scripts/sg.png', sg[None], ncol=1)"
   ]
  },
  {
   "cell_type": "code",
   "execution_count": 45,
   "id": "69a68a5a-9ef1-4895-ac36-f3128394aafa",
   "metadata": {},
   "outputs": [
    {
     "name": "stdout",
     "output_type": "stream",
     "text": [
      "(780, 4)\n",
      "(780, 4)\n",
      "(780, 4)\n",
      "(780, 4)\n",
      "(780, 4)\n",
      "(780, 4)\n",
      "(780, 4)\n",
      "(780, 4)\n",
      "(780, 4)\n",
      "(780, 4)\n",
      "(10, 780, 4)\n",
      "Saved 10 samples to: /root/diffuser_chain_hd/scripts/trjs.png\n"
     ]
    },
    {
     "data": {
      "image/png": "[encoded data removed]",
      "text/plain": [
       "<Figure size 500x500 with 1 Axes>"
      ]
     },
     "metadata": {},
     "output_type": "display_data"
    }
   ],
   "source": [
    "trjs = []\n",
    "for i in range(10):\n",
    "    idx = np.random.randint(0, len(dataset))\n",
    "    trj = dataset.normalizer.unnormalize(dataset[idx].trajectories, \"observations\")\n",
    "    trjs.append(trj)\n",
    "    print(trj.shape)\n",
    "\n",
    "    \n",
    "print(np.array(trjs).shape)\n",
    "renderer.composite('/root/diffuser_chain_hd/scripts/trjs.png', np.array(trjs), ncol=1)"
   ]
  },
  {
   "cell_type": "code",
   "execution_count": 46,
   "id": "51bee745-ca5f-4bdc-8ce5-b93b039130c9",
   "metadata": {},
   "outputs": [
    {
     "data": {
      "text/plain": [
       "965525"
      ]
     },
     "execution_count": 46,
     "metadata": {},
     "output_type": "execute_result"
    }
   ],
   "source": [
    "len(dataset)"
   ]
  },
  {
   "cell_type": "code",
   "execution_count": 47,
   "id": "a887e5e9-b61d-4eb8-8148-3adef4331185",
   "metadata": {},
   "outputs": [
    {
     "name": "stdout",
     "output_type": "stream",
     "text": [
      "(4769, 780, 2)\n"
     ]
    }
   ],
   "source": [
    "trjs = []\n",
    "for i in range(len(dataset)):\n",
    "    idx = i\n",
    "    trj = dataset.normalizer.unnormalize(dataset[idx].trajectories, \"observations\")[:, :2]\n",
    "    # print(np.linalg.norm(trj - np.array(env._target)))\n",
    "    # print(np.linalg.norm(trj - np.array(env._target), axis=1).min())\n",
    "    if (np.linalg.norm(trj - np.array(env._target), axis=1) < 1).any():\n",
    "        trjs.append(trj)\n",
    "    # if i > 1000:\n",
    "    #     break\n",
    "\n",
    "print(np.array(trjs).shape)\n",
    "# trjs = trjs[:100]\n",
    "# renderer.composite('/root/diffuser_chain_hd/scripts/trjs_jup.png', np.array(trjs), ncol=10)"
   ]
  },
  {
   "cell_type": "code",
   "execution_count": 48,
   "id": "d0b48440-011e-4289-a4a2-2c8d9ed2b1c9",
   "metadata": {},
   "outputs": [
    {
     "name": "stdout",
     "output_type": "stream",
     "text": [
      "Saved 100 samples to: /root/diffuser_chain_hd/scripts/trjs_jup_1.png\n"
     ]
    },
    {
     "data": {
      "image/png": "[encoded data removed]",
      "text/plain": [
       "<Figure size 500x500 with 1 Axes>"
      ]
     },
     "metadata": {},
     "output_type": "display_data"
    }
   ],
   "source": [
    "_trjs = np.array(trjs)[np.random.randint(0, len(trjs), 100)]\n",
    "renderer.composite('/root/diffuser_chain_hd/scripts/trjs_jup_1.png', np.array(_trjs), ncol=10)"
   ]
  },
  {
   "cell_type": "code",
   "execution_count": 35,
   "id": "27801b18-46dc-406c-bb3b-fa98240962c7",
   "metadata": {},
   "outputs": [
    {
     "name": "stdout",
     "output_type": "stream",
     "text": [
      "Saved 100 samples to: /root/diffuser_chain_hd/scripts/trjs_jup.png\n"
     ]
    },
    {
     "data": {
      "image/png": "[encoded data removed]",
      "text/plain": [
       "<Figure size 500x500 with 1 Axes>"
      ]
     },
     "metadata": {},
     "output_type": "display_data"
    }
   ],
   "source": []
  },
  {
   "cell_type": "code",
   "execution_count": null,
   "id": "39185400-e437-4e95-811b-b3bd44d47135",
   "metadata": {},
   "outputs": [],
   "source": []
  }
 ],
 "metadata": {
  "kernelspec": {
   "display_name": "Python 3 (ipykernel)",
   "language": "python",
   "name": "python3"
  },
  "language_info": {
   "codemirror_mode": {
    "name": "ipython",
    "version": 3
   },
   "file_extension": ".py",
   "mimetype": "text/x-python",
   "name": "python",
   "nbconvert_exporter": "python",
   "pygments_lexer": "ipython3",
   "version": "3.8.10"
  }
 },
 "nbformat": 4,
 "nbformat_minor": 5
}
