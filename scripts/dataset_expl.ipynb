{
 "cells": [
  {
   "cell_type": "code",
   "execution_count": 10,
   "id": "0edbe976-858d-44cf-8d03-81e0cacd7bce",
   "metadata": {},
   "outputs": [
    {
     "name": "stdout",
     "output_type": "stream",
     "text": [
      "[ utils/setup ] Reading config: config.maze2d_390_actionWeight1:maze2d_large_v1\n",
      "[ utils/setup ] Using overrides | config: config.maze2d_390_actionWeight1 | dataset: maze2d_large_v1\n",
      "[ utils/setup ] Setting exp_name to: diffuserdiffuserdiffusion_actW1/H384_T256_J1\n"
     ]
    }
   ],
   "source": [
    "import os\n",
    "import sys\n",
    "\n",
    "sys.path.append('/root/diffuser_chain_hd')\n",
    "# print(os.path.dirname(os.path.dirname(os.path.abspath(__file__))))\n",
    "# exit()\n",
    "\n",
    "\n",
    "import json\n",
    "import numpy as np\n",
    "from os.path import join\n",
    "import pdb\n",
    "\n",
    "from diffuser.guides.policies import Policy\n",
    "import diffuser.datasets as datasets\n",
    "import diffuser.utils as utils\n",
    "\n",
    "import argparse\n",
    "\n",
    "\n",
    "class Parser(utils.Parser):\n",
    "    dataset: str = 'maze2d-large-v1'\n",
    "    config: str = 'config.maze2d_390_actionWeight1'\n",
    "\n",
    "\n",
    "#---------------------------------- setup ----------------------------------#\n",
    "n_samples = 100\n",
    "\n",
    "args = Parser().parse_args('diffusion', add_extras=False) # Discovered it later, so had to disable it as I am doing it here, until I test it\n"
   ]
  },
  {
   "cell_type": "code",
   "execution_count": 11,
   "id": "d2892b70-9a52-45c4-9c1f-329ef4df69f2",
   "metadata": {},
   "outputs": [
    {
     "data": {
      "text/plain": [
       "'maze2d-large-v1'"
      ]
     },
     "execution_count": 11,
     "metadata": {},
     "output_type": "execute_result"
    }
   ],
   "source": [
    "env = datasets.load_environment(args.dataset)\n",
    "\n",
    "args.dataset"
   ]
  },
  {
   "cell_type": "code",
   "execution_count": 12,
   "id": "21034450-0300-4e4e-bc07-18debf574f81",
   "metadata": {},
   "outputs": [
    {
     "name": "stdout",
     "output_type": "stream",
     "text": [
      "[ utils/config ] Imported diffuser.datasets:GoalDataset\n",
      "\n",
      "[utils/config ] Config: <class 'diffuser.datasets.sequence.GoalDataset'>\n",
      "    env: maze2d-large-v1\n",
      "    horizon: 384\n",
      "    jump: 1\n",
      "    jump_action: none\n",
      "    max_path_length: 300000\n",
      "    normalizer: LimitsNormalizer\n",
      "    preprocess_fns: ['maze2d_set_terminals']\n",
      "    use_padding: False\n",
      "\n",
      "[ utils/config ] Saved config to: logs/maze2d-large-v1/diffuserdiffuserdiffusion_actW1/H384_T256_J1/dataset_config.pkl\n",
      "\n",
      "[ utils/config ] Imported diffuser.utils:Maze2dRenderer\n",
      "\n",
      "[utils/config ] Config: <class 'diffuser.utils.rendering.Maze2dRenderer'>\n",
      "    env: maze2d-large-v1\n",
      "\n",
      "[ utils/config ] Saved config to: logs/maze2d-large-v1/diffuserdiffuserdiffusion_actW1/H384_T256_J1/render_config.pkl\n",
      "\n"
     ]
    }
   ],
   "source": [
    "dataset_config = utils.Config(\n",
    "    args.loader,\n",
    "    savepath=(args.savepath, \"dataset_config.pkl\"),\n",
    "    env=args.dataset,\n",
    "    horizon=args.horizon,\n",
    "    normalizer=args.normalizer,\n",
    "    preprocess_fns=args.preprocess_fns,\n",
    "    use_padding=args.use_padding,\n",
    "    max_path_length=args.max_path_length,\n",
    "    jump=args.jump,\n",
    "    jump_action=args.jump_action,\n",
    ")\n",
    "\n",
    "\n",
    "render_config = utils.Config(\n",
    "    args.renderer,\n",
    "    savepath=(args.savepath, \"render_config.pkl\"),\n",
    "    env=args.dataset,\n",
    ")"
   ]
  },
  {
   "cell_type": "code",
   "execution_count": 13,
   "id": "623d06e2-c635-469b-be39-867cd9c0edfd",
   "metadata": {},
   "outputs": [
    {
     "data": {
      "text/plain": [
       "384"
      ]
     },
     "execution_count": 13,
     "metadata": {},
     "output_type": "execute_result"
    }
   ],
   "source": [
    "args.horizon"
   ]
  },
  {
   "cell_type": "code",
   "execution_count": 14,
   "id": "b2edb429-57e9-47f5-b2ad-23a7bba9d941",
   "metadata": {},
   "outputs": [
    {
     "name": "stderr",
     "output_type": "stream",
     "text": [
      "load datafile: 100%|██████████████████████████████| 8/8 [00:01<00:00,  5.46it/s]\n"
     ]
    },
    {
     "name": "stdout",
     "output_type": "stream",
     "text": [
      "[ utils/preprocessing ] Segmented maze2d-large-v1 | 1061 paths | min length: 67 | max length: 30470 | mean length: 3764.9057492931197\n",
      "[ datasets/buffer ] Finalized replay buffer | 1062 episodes\n",
      "[ datasets/buffer ] Fields:\n",
      "    actions: (1062, 300000, 2)\n",
      "    infos/goal: (1062, 300000, 2)\n",
      "    infos/qpos: (1062, 300000, 2)\n",
      "    infos/qvel: (1062, 300000, 2)\n",
      "    observations: (1062, 300000, 4)\n",
      "    rewards: (1062, 300000, 1)\n",
      "    terminals: (1062, 300000, 1)\n",
      "    timeouts: (1062, 300000, 1)\n",
      "    next_observations: (1062, 300000, 4)\n",
      "    normed_observations: (1062, 300000, 4)\n",
      "    normed_actions: (1062, 300000, 2)\n"
     ]
    }
   ],
   "source": [
    "dataset = dataset_config()\n",
    "renderer = render_config()\n",
    "\n"
   ]
  },
  {
   "cell_type": "code",
   "execution_count": 7,
   "id": "cfb2c9d0-0821-4924-ac4f-ab958cbdb9a2",
   "metadata": {},
   "outputs": [
    {
     "data": {
      "text/plain": [
       "(array([11.,  7.,  1.,  0.,  3.,  2.,  2.,  1.,  0.,  1.]),\n",
       " array([  1388.,  14165.,  26942.,  39719.,  52496.,  65273.,  78050.,\n",
       "         90827., 103604., 116381., 129158.]),\n",
       " <BarContainer object of 10 artists>)"
      ]
     },
     "execution_count": 7,
     "metadata": {},
     "output_type": "execute_result"
    },
    {
     "data": {
      "image/png": "[encoded data removed]",
      "text/plain": [
       "<Figure size 640x480 with 1 Axes>"
      ]
     },
     "metadata": {},
     "output_type": "display_data"
    }
   ],
   "source": [
    "import matplotlib.pyplot as plt\n",
    "plt.hist(dataset.path_lengths)"
   ]
  },
  {
   "cell_type": "code",
   "execution_count": 15,
   "id": "4411aae9-e30c-45de-a885-78b5a4b8bee4",
   "metadata": {},
   "outputs": [
    {
     "data": {
      "text/plain": [
       "<d4rl.pointmaze.maze_model.MazeEnv at 0x7f9c0ae21610>"
      ]
     },
     "execution_count": 15,
     "metadata": {},
     "output_type": "execute_result"
    }
   ],
   "source": [
    "env\n"
   ]
  },
  {
   "cell_type": "code",
   "execution_count": 16,
   "id": "a9fa3dd4-3c55-4da6-8cab-e7dd5ae26369",
   "metadata": {},
   "outputs": [
    {
     "data": {
      "text/plain": [
       "(7, 9)"
      ]
     },
     "execution_count": 16,
     "metadata": {},
     "output_type": "execute_result"
    }
   ],
   "source": [
    "env._target"
   ]
  },
  {
   "cell_type": "code",
   "execution_count": 21,
   "id": "7a30e6c8-c399-492f-83e4-bd5444dbc3b3",
   "metadata": {},
   "outputs": [
    {
     "data": {
      "text/plain": [
       "(array([5.94199236, 7.98661451, 0.05273969, 0.04762307]), (7, 9))"
      ]
     },
     "execution_count": 21,
     "metadata": {},
     "output_type": "execute_result"
    }
   ],
   "source": [
    "observations = env.reset()\n",
    "observations, env._target"
   ]
  },
  {
   "cell_type": "code",
   "execution_count": 18,
   "id": "9547e1f0-c5b9-4b28-a12d-08fe6fec524e",
   "metadata": {},
   "outputs": [
    {
     "data": {
      "text/plain": [
       "(2, 4)"
      ]
     },
     "execution_count": 18,
     "metadata": {},
     "output_type": "execute_result"
    }
   ],
   "source": [
    "sg = np.concatenate([observations[None], np.array([[*env._target, 0, 0]])], axis=0)\n",
    "sg.shape"
   ]
  },
  {
   "cell_type": "code",
   "execution_count": 19,
   "id": "209a4868-46d0-460d-8220-4997294ae713",
   "metadata": {},
   "outputs": [
    {
     "name": "stdout",
     "output_type": "stream",
     "text": [
      "Saved 1 samples to: /root/diffuser_chain_hd/scripts/sg.png\n"
     ]
    },
    {
     "data": {
      "image/png": "[encoded data removed]",
      "text/plain": [
       "<Figure size 500x500 with 1 Axes>"
      ]
     },
     "metadata": {},
     "output_type": "display_data"
    }
   ],
   "source": [
    "renderer.composite('/root/diffuser_chain_hd/scripts/sg.png', sg[None], ncol=1)"
   ]
  },
  {
   "cell_type": "code",
   "execution_count": null,
   "id": "69a68a5a-9ef1-4895-ac36-f3128394aafa",
   "metadata": {},
   "outputs": [],
   "source": []
  }
 ],
 "metadata": {
  "kernelspec": {
   "display_name": "Python 3 (ipykernel)",
   "language": "python",
   "name": "python3"
  },
  "language_info": {
   "codemirror_mode": {
    "name": "ipython",
    "version": 3
   },
   "file_extension": ".py",
   "mimetype": "text/x-python",
   "name": "python",
   "nbconvert_exporter": "python",
   "pygments_lexer": "ipython3",
   "version": "3.8.10"
  }
 },
 "nbformat": 4,
 "nbformat_minor": 5
}
