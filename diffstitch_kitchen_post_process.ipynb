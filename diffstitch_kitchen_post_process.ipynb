{
 "cells": [
  {
   "cell_type": "code",
   "execution_count": 1,
   "id": "bb4c37b4-47f4-4d89-8b10-1cc363356311",
   "metadata": {},
   "outputs": [],
   "source": [
    "import sys\n",
    "sys.argv = ['']"
   ]
  },
  {
   "cell_type": "code",
   "execution_count": 2,
   "id": "345d5cc9-8d9c-40f1-9b98-b03862d03ac5",
   "metadata": {},
   "outputs": [
    {
     "name": "stderr",
     "output_type": "stream",
     "text": [
      "/common/home/cc1547/miniconda3/envs/diffstitch/lib/python3.8/site-packages/tqdm/auto.py:21: TqdmWarning: IProgress not found. Please update jupyter and ipywidgets. See https://ipywidgets.readthedocs.io/en/stable/user_install.html\n",
      "  from .autonotebook import tqdm as notebook_tqdm\n"
     ]
    }
   ],
   "source": [
    "#from diffuser.utils.arrays import to_torch, to_np, to_device\n",
    "#from diffuser.datasets.d4rl import suppress_output\n",
    "#from scripts.buffer_utils import LoadSequenceDataset\n",
    "#from scripts.buffer_utils import OptimalBuffer\n",
    "from scripts.mopo.utils_trans import RewardPredictingModel \n",
    "#from scripts.buffer_utils import augment_trajectories_new\n",
    "import diffuser.utils as utils"
   ]
  },
  {
   "cell_type": "code",
   "execution_count": 3,
   "id": "b6f65656-8585-486a-b401-9949ae28a6c5",
   "metadata": {},
   "outputs": [],
   "source": [
    "import shutil \n",
    "import argparse \n",
    "import time \n",
    "import pickle\n",
    "import sys\n",
    "import os\n",
    "import torch\n",
    "import random\n",
    "import importlib\n",
    "from collections import defaultdict\n",
    "import pdb\n",
    "import numpy as np\n",
    "import gym\n",
    "import matplotlib.pyplot as plt\n",
    "%matplotlib inline"
   ]
  },
  {
   "cell_type": "code",
   "execution_count": 4,
   "id": "0c07bf0b-d979-48fe-9422-85ee6c1f9c29",
   "metadata": {},
   "outputs": [],
   "source": [
    "from time import time"
   ]
  },
  {
   "cell_type": "code",
   "execution_count": 5,
   "id": "1e362afb-08fe-4157-9f74-6df64fcd5b5d",
   "metadata": {},
   "outputs": [],
   "source": [
    "from collections import defaultdict"
   ]
  },
  {
   "cell_type": "code",
   "execution_count": 6,
   "id": "ef3d279a-2148-49df-a7d6-24285976ef88",
   "metadata": {},
   "outputs": [],
   "source": [
    "from sklearn.cluster import KMeans"
   ]
  },
  {
   "cell_type": "code",
   "execution_count": 7,
   "id": "d587c2eb-5028-4705-ad65-4011a89da4c2",
   "metadata": {},
   "outputs": [
    {
     "name": "stderr",
     "output_type": "stream",
     "text": [
      "Warning: Flow failed to import. Set the environment variable D4RL_SUPPRESS_IMPORT_ERROR=1 to suppress this message.\n",
      "No module named 'flow'\n",
      "/common/home/cc1547/miniconda3/envs/diffstitch/lib/python3.8/site-packages/glfw/__init__.py:914: GLFWError: (65544) b'X11: The DISPLAY environment variable is missing'\n",
      "  warnings.warn(message, GLFWError)\n",
      "Warning: CARLA failed to import. Set the environment variable D4RL_SUPPRESS_IMPORT_ERROR=1 to suppress this message.\n",
      "No module named 'carla'\n",
      "pybullet build time: Nov 28 2023 23:51:11\n"
     ]
    }
   ],
   "source": [
    "import d4rl"
   ]
  },
  {
   "cell_type": "code",
   "execution_count": 8,
   "id": "5d9d980f-e8bd-4f62-9ab2-39c8913a3b5d",
   "metadata": {},
   "outputs": [],
   "source": [
    "def import_config(config_name):\n",
    "    module_path = f\"detail_configs.{config_name}\"\n",
    "    try:\n",
    "        module = importlib.import_module(module_path)\n",
    "        return module.Config    \n",
    "    except ImportError:\n",
    "        print(f\"Error: Module '{config_name}' not found or has no 'Config' attribute.\")\n",
    "        return None"
   ]
  },
  {
   "cell_type": "code",
   "execution_count": 9,
   "id": "db221e85-8973-4e21-848d-f4338cff9827",
   "metadata": {
    "scrolled": true
   },
   "outputs": [],
   "source": [
    "from ml_logger import logger\n",
    "\n",
    "Config = import_config('kitchen_partial_task')\n",
    "\n",
    "Config.dataset = 'kitchen-partial-v0'"
   ]
  },
  {
   "cell_type": "code",
   "execution_count": null,
   "id": "825856f2-af64-410c-b5b2-1765014086de",
   "metadata": {
    "scrolled": true
   },
   "outputs": [
    {
     "name": "stdout",
     "output_type": "stream",
     "text": [
      "\u001b[32m✓ created a new logging client\u001b[0m\n",
      "Dashboard: http://app.dash.ml/common/users/cc1547/projects/rainbow/diffstitch/diffuser/kitchen-partial-v0/config\n",
      "Log_directory: /common/home/cc1547/projects/diff_stitch\n",
      "[ utils/config ] Imported diffuser.datasets:CondSequenceDataset\n",
      "\n",
      "[utils/config ] Config: <class 'diffuser.datasets.sequence.CondSequenceDataset'>\n",
      "    data_file: None\n",
      "    env: kitchen-partial-v0\n",
      "    horizon: 40\n",
      "    include_returns: True\n",
      "    max_path_length: 280\n",
      "    normalizer: CDFNormalizer\n",
      "    preprocess_fns: []\n",
      "    returns_scale: 1.0\n",
      "    use_padding: True\n",
      "\n",
      "[ utils/config ] Saved config to: dataset_config.pkl\n",
      "\n",
      "[ utils/config ] Imported diffuser.utils:MuJoCoRenderer\n",
      "\n",
      "[utils/config ] Config: <class 'diffuser.utils.rendering.MuJoCoRenderer'>\n",
      "    env: kitchen-partial-v0\n",
      "\n",
      "[ utils/config ] Saved config to: render_config.pkl\n",
      "\n",
      "class =  <class 'diffuser.datasets.sequence.CondSequenceDataset'>\n",
      "kwargs =  {}\n"
     ]
    },
    {
     "name": "stderr",
     "output_type": "stream",
     "text": [
      "Warning: Flow failed to import. Set the environment variable D4RL_SUPPRESS_IMPORT_ERROR=1 to suppress this message.\n",
      "No module named 'flow'\n",
      "/common/home/cc1547/miniconda3/envs/diffstitch/lib/python3.8/site-packages/glfw/__init__.py:914: GLFWError: (65544) b'X11: The DISPLAY environment variable is missing'\n",
      "  warnings.warn(message, GLFWError)\n",
      "Warning: CARLA failed to import. Set the environment variable D4RL_SUPPRESS_IMPORT_ERROR=1 to suppress this message.\n",
      "No module named 'carla'\n",
      "pybullet build time: Nov 28 2023 23:51:11\n",
      "load datafile: 100%|█████████████████████████████████████████████████████████████████████████████████████████████████████████████████████████████████████████████████████████████████| 6/6 [00:00<00:00, 30.77it/s]\n"
     ]
    },
    {
     "name": "stdout",
     "output_type": "stream",
     "text": [
      "[ datasets/buffer ] Finalized replay buffer | 613 episodes\n",
      "[ datasets/buffer ] Fields:\n",
      "    observations: (613, 280, 30)\n",
      "    rewards: (613, 280, 1)\n",
      "    actions: (613, 280, 9)\n",
      "    terminals: (613, 280, 1)\n",
      "    normed_observations: (613, 280, 30)\n",
      "    normed_actions: (613, 280, 9)\n",
      "\n",
      "\n",
      "loadpath =  /common/users/cc1547/projects/rainbow/diffstitch/diffuser/kitchen-partial-v0/default_inv/predict_epsilon_100_1000000.0/dropout_0.25/kitchen_partial/task/40/checkpoint\n",
      "\n",
      "[ utils/config ] Imported diffuser.models:TemporalUnet\n",
      "\n",
      "[utils/config ] Config: <class 'diffuser.models.temporal.TemporalUnet'>\n",
      "    cond_dim: 30\n",
      "    dim: 128\n",
      "    dim_mults: (1, 4, 8)\n",
      "    horizon: 40\n",
      "    returns_condition: True\n",
      "    transition_dim: 30\n",
      "\n",
      "[ utils/config ] Saved config to: model_config.pkl\n",
      "\n",
      "[ utils/config ] Imported diffuser.models:GaussianInvDynDiffusion\n",
      "\n",
      "[utils/config ] Config: <class 'diffuser.models.diffusion.GaussianInvDynDiffusion'>\n",
      "    action_dim: 9\n",
      "    action_weight: 10\n",
      "    clip_denoised: True\n",
      "    condition_guidance_w: 1.2\n",
      "    hidden_dim: 256\n",
      "    horizon: 40\n",
      "    loss_discount: 1\n",
      "    loss_type: l2\n",
      "    loss_weights: None\n",
      "    n_timesteps: 100\n",
      "    observation_dim: 30\n",
      "    predict_epsilon: True\n",
      "    returns_condition: True\n",
      "\n",
      "[ utils/config ] Saved config to: diffusion_config.pkl\n",
      "\n",
      "\n",
      "[utils/config ] Config: <class 'diffuser.utils.training.Trainer'>\n",
      "    bucket: /common/users/cc1547/projects/rainbow/diffstitch/diffuser/\n",
      "    ema_decay: 0.995\n",
      "    gradient_accumulate_every: 2\n",
      "    label_freq: 200000\n",
      "    log_freq: 1000\n",
      "    n_reference: 8\n",
      "    n_samples: 10\n",
      "    sample_freq: 10000\n",
      "    save_freq: 100000\n",
      "    save_parallel: False\n",
      "    train_batch_size: 32\n",
      "    train_device: cuda:0\n",
      "    train_lr: 0.0002\n",
      "\n",
      "[ utils/config ] Saved config to: trainer_config.pkl\n",
      "\n",
      "class =  <class 'diffuser.models.temporal.TemporalUnet'>\n",
      "kwargs =  {}\n",
      "[ models/temporal ] Channel dimensions: [(30, 128), (128, 512), (512, 1024)]\n",
      "[(30, 128), (128, 512), (512, 1024)]\n",
      "class =  <class 'diffuser.models.diffusion.GaussianInvDynDiffusion'>\n",
      "kwargs =  {}\n",
      "class =  <class 'diffuser.utils.training.Trainer'>\n",
      "kwargs =  {}\n",
      "Reading configurations for Franka\n",
      "\u001b[40m\u001b[97mInitializing Franka sim\u001b[0m\n"
     ]
    }
   ],
   "source": [
    "# log path\n",
    "BASE_WEIGHTS_PATH = os.path.join(Config.bucket, Config.dataset)\n",
    "save_config_path = os.path.join(BASE_WEIGHTS_PATH, \"config\")\n",
    "logger.configure(save_config_path)\n",
    "torch.backends.cudnn.benchmark = True\n",
    "\n",
    "# training dataset for Diffuser\n",
    "dataset_config = utils.Config(\n",
    "\t\t'datasets.CondSequenceDataset',\n",
    "\t\tsavepath='dataset_config.pkl',\n",
    "\t\tenv=Config.dataset,\n",
    "\t\thorizon=Config.horizon,\n",
    "\t\tnormalizer=Config.normalizer,\n",
    "\t\tpreprocess_fns=Config.preprocess_fns,\n",
    "\t\tuse_padding=Config.use_padding,\n",
    "\t\tmax_path_length=Config.max_path_length,\n",
    "\t\tinclude_returns=Config.include_returns,\n",
    "\t\treturns_scale=Config.returns_scale,\n",
    "        data_file=Config.data_file,\n",
    "\t)\n",
    "render_config = utils.Config(\n",
    "        Config.renderer,\n",
    "        savepath=\"render_config.pkl\",\n",
    "        env=Config.dataset,\n",
    "    )\n",
    "\n",
    "dataset = dataset_config()\n",
    "renderer = None\n",
    "observation_dim = dataset.observation_dim\n",
    "action_dim = dataset.action_dim\n",
    "loadpath = os.path.join(Config.bucket, Config.dataset, Config.prefix, 'checkpoint')\n",
    "print('\\n\\nloadpath = ', loadpath, end = '\\n\\n')\n",
    "\n",
    "\n",
    "\n",
    "# model configs\n",
    "observation_dim = dataset.observation_dim\n",
    "action_dim = dataset.action_dim\n",
    "transition_dim = observation_dim\n",
    "\n",
    "model_config = utils.Config(\n",
    "\t\tConfig.model,\n",
    "\t\tsavepath='model_config.pkl',\n",
    "\t\thorizon=Config.horizon,\n",
    "\t\ttransition_dim=transition_dim,\n",
    "\t\tcond_dim=observation_dim,\n",
    "\t\tdim_mults=Config.dim_mults,\n",
    "\t\tdim=Config.dim,\n",
    "\t\treturns_condition=Config.returns_condition,\n",
    "\t\tdevice=Config.device,\n",
    "\t)\n",
    "\n",
    "diffusion_config = utils.Config(\n",
    "    Config.diffusion,\n",
    "    savepath='diffusion_config.pkl',\n",
    "    horizon=Config.horizon,\n",
    "    observation_dim=observation_dim,\n",
    "    action_dim=action_dim,\n",
    "    n_timesteps=Config.n_diffusion_steps,\n",
    "    loss_type=Config.loss_type,\n",
    "    clip_denoised=Config.clip_denoised,\n",
    "    predict_epsilon=Config.predict_epsilon,\n",
    "    hidden_dim=Config.hidden_dim,\n",
    "    ## loss weighting\n",
    "    action_weight=Config.action_weight,\n",
    "    loss_weights=Config.loss_weights,\n",
    "    loss_discount=Config.loss_discount,\n",
    "    returns_condition=Config.returns_condition,\n",
    "    device=Config.device,\n",
    "    condition_guidance_w=Config.condition_guidance_w,\n",
    ")\n",
    "\n",
    "trainer_config = utils.Config(\n",
    "\t\tutils.Trainer,\n",
    "\t\tsavepath='trainer_config.pkl',\n",
    "\t\ttrain_batch_size=Config.batch_size,\n",
    "\t\ttrain_lr=Config.learning_rate,\n",
    "\t\tgradient_accumulate_every=Config.gradient_accumulate_every,\n",
    "\t\tema_decay=Config.ema_decay,\n",
    "\t\tsample_freq=Config.sample_freq,\n",
    "\t\tsave_freq=Config.save_freq,\n",
    "\t\tlog_freq=Config.log_freq,\n",
    "\t\tlabel_freq=int(Config.n_train_steps // Config.n_saves),\n",
    "\t\tsave_parallel=Config.save_parallel,\n",
    "\t\tbucket=Config.bucket,\n",
    "\t\tn_reference=Config.n_reference,\n",
    "        n_samples=Config.n_samples,\n",
    "\t\ttrain_device=Config.device,\n",
    "\t)\n",
    "model = model_config()\n",
    "diffusion = diffusion_config(model)\n",
    "trainer = trainer_config(diffusion, dataset, renderer)\n",
    "\n",
    "# load Diffuser model\n",
    "loadpath = os.path.join(loadpath, f'state_1000000.pt')\n",
    "state_dict = torch.load(loadpath, map_location=Config.device)\n",
    "trainer.step = state_dict['step']\n",
    "trainer.model.load_state_dict(state_dict['model'])\n",
    "trainer.ema_model.load_state_dict(state_dict['ema'])\n",
    "\n",
    "# load Dynamic model\n",
    "Config.dynamic_model_path = '/common/users/cc1547/projects/rainbow/diffstitch/dynamic/kitchen-partial-v0/mopo/' \\\n",
    "'seed_1_0807_170549-kitchen_partial_v0_mopo/models/ite_dynamics_model'\n",
    "dynamics_model = RewardPredictingModel(\n",
    "    device = Config.device, \n",
    "    env_name = Config.dataset, \n",
    "    load_path = Config.dynamic_model_path\n",
    ") "
   ]
  },
  {
   "cell_type": "code",
   "execution_count": 10,
   "id": "60fa26b2-ebd0-49d5-a2be-db2aa70a3eaf",
   "metadata": {},
   "outputs": [],
   "source": [
    "def to_np(x):\n",
    "    if torch.is_tensor(x):\n",
    "        x = x.detach().cpu().numpy()\n",
    "    return x\n",
    "\n",
    "\n",
    "def to_torch(x, dtype=None, device=None):\n",
    "    dtype = dtype or DTYPE\n",
    "    device = device or DEVICE\n",
    "    if type(x) is dict:\n",
    "        return {k: to_torch(v, dtype, device) for k, v in x.items()}\n",
    "    elif torch.is_tensor(x):\n",
    "        return x.to(device).type(dtype)\n",
    "        # import pdb; pdb.set_trace()\n",
    "    return torch.tensor(x, dtype=dtype, device=device)\n",
    "\n",
    "\n",
    "def to_device(x, device=Config.device):\n",
    "    if torch.is_tensor(x):\n",
    "        return x.to(device)\n",
    "    elif type(x) is dict:\n",
    "        return {k: to_device(v, device) for k, v in x.items()}\n",
    "    else:\n",
    "        print(f\"Unrecognized type in `to_device`: {type(x)}\")\n",
    "        pdb.set_trace()\n",
    "    # return [x.to(device) for x in xs]"
   ]
  },
  {
   "cell_type": "code",
   "execution_count": 11,
   "id": "5b043660-732e-44fa-a028-50f352919349",
   "metadata": {},
   "outputs": [],
   "source": [
    "def process_kitchen_episode(episode):\n",
    "    rewards_ = episode[\"rew\"][1:] - episode[\"rew\"][:-1]\n",
    "    rewards = np.concatenate([episode[\"rew\"][:1], rewards_], axis=0)\n",
    "    episode[\"rew\"] = rewards\n",
    "\n",
    "    obs = episode[\"obs\"]\n",
    "    episode[\"obs\"] = obs[:, :30]  # remove the goal\n",
    "    next_obs = episode[\"next_obs\"]\n",
    "    episode['next_obs'] = next_obs[:, :30]\n",
    "    return episode\n",
    "\n",
    "def task_dataset(seq_dataset):\n",
    "\n",
    "    tasks = []\n",
    "\n",
    "    task_data = defaultdict(list)\n",
    "    rewards = seq_dataset[\"rew\"]\n",
    "\n",
    "    l = rewards.shape[0]\n",
    "    for i in range(l):\n",
    "\n",
    "        for k in seq_dataset:\n",
    "            task_data[k].append(seq_dataset[k][i])\n",
    "\n",
    "        if rewards[i] == 1:\n",
    "            for k in task_data:\n",
    "                task_data[k] = np.array(task_data[k])\n",
    "            tasks.append(task_data)\n",
    "            task_data = defaultdict(list)\n",
    "\n",
    "    '''\n",
    "    if len(task_data) > 0:\n",
    "        for k in task_data:\n",
    "            task_data[k] = np.array(task_data[k])\n",
    "        tasks.append(task_data)\n",
    "    '''\n",
    "    return tasks"
   ]
  },
  {
   "cell_type": "code",
   "execution_count": 12,
   "id": "22e0a914-a9e4-451d-a41b-64a9474d2e4f",
   "metadata": {},
   "outputs": [],
   "source": [
    "def load_data(data_file):\n",
    "    with open(data_file, \"rb\") as fp:\n",
    "        ds = pickle.load(fp)\n",
    "    return ds\n",
    "    \n",
    "class LoadSequenceDataset:\n",
    "    def __init__(self, env_name, data_file):\n",
    "        if 'kitchen' not in env_name:\n",
    "            dataset = load_data(data_file)\n",
    "            if \"AntMaze_UMaze-v4\" in env_name:\n",
    "                dataset_name = \"antmaze-umaze-v0\"\n",
    "            elif \"AntMaze_Medium-v4\" in env_name:\n",
    "                dataset_name = \"antmaze-medium-v0\"\n",
    "            elif \"AntMaze_Large-v4\" in env_name:\n",
    "                dataset_name = \"antmaze-large-v0\"\n",
    "            elif \"PointMaze_UMaze-v3\" in env_name:\n",
    "                dataset_name = \"pointmaze-umaze-v0\"\n",
    "            elif \"PointMaze_Medium-v3\" in env_name:\n",
    "                dataset_name = \"pointmaze-medium-v1\"\n",
    "            elif \"PointMaze_Large-v3\" in env_name:\n",
    "                dataset_name = \"pointmaze-large-v1\"\n",
    "            else:\n",
    "                raise NotImplementedError\n",
    "            max_path_length = 600\n",
    "        else:\n",
    "            env = gym.make(env_name)\n",
    "            dataset = env.get_dataset()\n",
    "            max_path_length = 280\n",
    "\n",
    "        print(f\"\\nnumber of offline data is {dataset['rewards'].shape[0]}\\n\")\n",
    "\n",
    "        paths = []\n",
    "        current_path = {\"obs\": [], \"act\": [], \"rew\": [], \"dones\": [], \"next_obs\": []}\n",
    "        \n",
    "        use_timeouts = \"timeouts\" in dataset\n",
    "\n",
    "        print(use_timeouts)\n",
    "\n",
    "        for i in range(dataset[\"rewards\"].shape[0] - 1):\n",
    "            if 'kitchen' not in env_name:\n",
    "                current_path[\"obs\"].append(dataset[\"observations\"][\"observation\"][i])\n",
    "                current_path[\"dones\"].append(dataset[\"terminations\"][i])\n",
    "                current_path[\"next_obs\"].append(\n",
    "                dataset[\"observations\"][\"observation\"][i + 1]\n",
    "            )\n",
    "            else:\n",
    "                current_path['obs'].append(dataset['observations'][i])\n",
    "                current_path[\"dones\"].append(dataset[\"terminals\"][i])\n",
    "                current_path[\"next_obs\"].append(\n",
    "                dataset[\"observations\"][i + 1]\n",
    "            )\n",
    "                \n",
    "            current_path[\"act\"].append(dataset[\"actions\"][i])\n",
    "            current_path[\"rew\"].append(dataset[\"rewards\"][i])\n",
    "            \n",
    "            \n",
    "\n",
    "            if use_timeouts:\n",
    "                final_timestep = dataset[\"timeouts\"][i]\n",
    "            else:\n",
    "                final_timestep = len(current_path[\"obs\"]) == max_path_length\n",
    "\n",
    "            done = dataset['terminations'][i] if 'kitchen' not in env_name else dataset['terminals'][i]\n",
    "            if bool(done) or final_timestep:\n",
    "                for _ in current_path:\n",
    "                    current_path[_] = np.array(current_path[_])\n",
    "                if 'kitchen' in env_name:\n",
    "                    current_path = process_kitchen_episode(current_path)\n",
    "                    task_path = task_dataset(current_path)\n",
    "                    paths.extend(task_path)\n",
    "                else:\n",
    "                    paths.append(current_path)\n",
    "                current_path = {\n",
    "                    \"obs\": [],\n",
    "                    \"act\": [],\n",
    "                    \"rew\": [],\n",
    "                    \"dones\": [],\n",
    "                    \"next_obs\": [],\n",
    "                }\n",
    "        self.paths = paths\n",
    "        self.num_traj = len(self.paths)\n",
    "\n",
    "    def get_full_info_traj(self, idx, gamma=0.99):\n",
    "        obs = []\n",
    "        act = []\n",
    "        rew = []\n",
    "        next_obs = []\n",
    "        dones = []\n",
    "        region_idx = []\n",
    "        obs = np.copy(self.paths[idx][\"obs\"])\n",
    "        act = np.copy(self.paths[idx][\"act\"])\n",
    "        rew = np.copy(self.paths[idx][\"rew\"])\n",
    "        next_obs = np.copy(self.paths[idx][\"next_obs\"])\n",
    "        dones = np.copy(self.paths[idx][\"dones\"])\n",
    "\n",
    "        total_return = np.sum(rew)\n",
    "        discounted_return = 0\n",
    "        for i in range(rew.shape[0] - 1, -1, -1):\n",
    "            discounted_return = discounted_return * gamma + rew[i]\n",
    "        return {\n",
    "            \"obs\": obs,\n",
    "            \"act\": act,\n",
    "            \"rew\": rew,\n",
    "            \"next_obs\": next_obs,\n",
    "            \"dones\": dones,\n",
    "            \"total_return\": total_return,\n",
    "            \"discounted_return\": discounted_return,\n",
    "            \"horizon\": rew.shape[0],\n",
    "            \"trajectory_idx\": idx,\n",
    "        }"
   ]
  },
  {
   "cell_type": "code",
   "execution_count": 13,
   "id": "4c9670c9-38f3-4f05-bdda-6f917f9f2243",
   "metadata": {},
   "outputs": [],
   "source": [
    "class OptimalBuffer:\n",
    "    def __init__(self, horizon, ratio=0.1, gamma=0.99):\n",
    "        self.gamma = gamma\n",
    "        self.ratio = ratio\n",
    "        self.info = []\n",
    "        self.horizon = horizon\n",
    "        self.region_map = defaultdict(list)\n",
    "        self.returns_list = []\n",
    "\n",
    "    def insert_traj(self, info):\n",
    "        current_total_reward = 0\n",
    "        current_discounted_reward = 0\n",
    "        for i in range(info[\"horizon\"] - 1, -1, -1):\n",
    "            current_total_reward += info[\"rew\"][i]\n",
    "            current_discounted_reward = (\n",
    "                current_discounted_reward * self.gamma + info[\"rew\"][i]\n",
    "            )\n",
    "            if info[\"horizon\"] - i >= self.horizon:\n",
    "                current_info = {\n",
    "                    \"discounted_reward\": current_discounted_reward,\n",
    "                    \"obs\": info[\"obs\"][i : i + self.horizon],\n",
    "                    \"segment_idx\": i,\n",
    "                    \"traj_idx\": info[\"trajectory_idx\"],\n",
    "                    'rew': info['rew'][i: i+self.horizon],\n",
    "                }\n",
    "                self.info.append(current_info)\n",
    "    \n",
    "    def finalize(self, ):\n",
    "        num_seg = len(self.info)\n",
    "        all_obs = np.array([info['obs'] for info in self.info]).mean(axis=-1)\n",
    "        kmeans = KMeans(n_clusters=10, n_init='auto').fit(all_obs)\n",
    "        labels = kmeans.labels_\n",
    "        for i in range(num_seg):\n",
    "            self.info[i]['region_idx'] = np.ones(self.horizon,dtype=np.int32) * labels[i]\n",
    "            self.region_map[labels[i]+1].append(i)\n",
    "            self.returns_list.append(sum(self.info[i]['rew']))\n",
    "        self.returns_list = np.array(self.returns_list)\n",
    "        self.returns_list -= self.returns_list.min()\n",
    "\n",
    "    def sample_batch_traj(self, optim_batch, dataset, region_avoid):\n",
    "        # stored in (d-rtg, obs:(100, obs_dim))\n",
    "\n",
    "        sample_idx = []\n",
    "        \n",
    "        for k in self.region_map:\n",
    "            if k not in region_avoid:\n",
    "                sample_idx += self.region_map[k]\n",
    "\n",
    "        sample_p = self.returns_list[np.array(sample_idx)]\n",
    "        sample_p = sample_p / sample_p.sum()\n",
    "        batch_info = []\n",
    "        batch_index = np.random.choice(sample_idx, size=optim_batch, replace=False, p=sample_p)\n",
    "        batch_info = [self.info[_] for _ in batch_index]\n",
    "\n",
    "        return batch_info"
   ]
  },
  {
   "cell_type": "code",
   "execution_count": 14,
   "id": "8db9a631-95dc-41a3-a0a3-82d2c756a797",
   "metadata": {},
   "outputs": [
    {
     "name": "stdout",
     "output_type": "stream",
     "text": [
      "Reading configurations for Franka\n",
      "\u001b[40m\u001b[97mInitializing Franka sim\u001b[0m\n"
     ]
    },
    {
     "name": "stderr",
     "output_type": "stream",
     "text": [
      "/common/home/cc1547/miniconda3/envs/diffstitch/lib/python3.8/site-packages/gym/logger.py:30: UserWarning: \u001b[33mWARN: Box bound precision lowered by casting to float32\u001b[0m\n",
      "  warnings.warn(colorize('%s: %s'%('WARN', msg % args), 'yellow'))\n",
      "load datafile: 100%|█████████████████████████████████████████████████████████████████████████████████████████████████████████████| 6/6 [00:00<00:00, 27.01it/s]\n"
     ]
    },
    {
     "name": "stdout",
     "output_type": "stream",
     "text": [
      "\n",
      "number of offline data is 136950\n",
      "\n",
      "True\n"
     ]
    }
   ],
   "source": [
    "# prepare dataset for stitching\n",
    "env_name = Config.dataset\n",
    "if 'kitchen' in env_name:\n",
    "    data_file = None\n",
    "else:\n",
    "    if \"AntMaze_UMaze-v4\" in env_name:\n",
    "        dataset_name = \"antmaze-umaze-v0\"\n",
    "    elif \"AntMaze_Medium-v4\" in env_name:\n",
    "        dataset_name = \"antmaze-medium-v0\"\n",
    "    elif \"AntMaze_Large-v4\" in env_name:\n",
    "        dataset_name = \"antmaze-large-v0\"\n",
    "    elif \"PointMaze_UMaze-v3\" in env_name:\n",
    "        dataset_name = \"pointmaze-umaze-v1\"\n",
    "    elif \"PointMaze_Medium-v3\" in env_name:\n",
    "        dataset_name = \"pointmaze-medium-v1\"\n",
    "    elif \"PointMaze_Large-v3\" in env_name:\n",
    "        dataset_name = \"pointmaze-large-v1\"\n",
    "    \n",
    "    dataset_name = dataset_name + \".pkl\"\n",
    "    data_file = Config.data_file + dataset_name\n",
    "env_dataset = LoadSequenceDataset(env_name = Config.dataset, data_file=data_file)\n",
    "data_buffer  = OptimalBuffer(horizon=Config.horizon)\n",
    "for i in range(env_dataset.num_traj): \n",
    "    info = env_dataset.get_full_info_traj(i)  \n",
    "    data_buffer.insert_traj(info) \n",
    "data_buffer.finalize()"
   ]
  },
  {
   "cell_type": "markdown",
   "id": "513623a7-1d8c-4809-a942-b9ebd802e620",
   "metadata": {},
   "source": [
    "## Start stitching"
   ]
  },
  {
   "cell_type": "code",
   "execution_count": 15,
   "id": "80da0b6d-84a7-4375-9f7d-1129a31f35bf",
   "metadata": {},
   "outputs": [],
   "source": [
    "# helper functions\n",
    "#def cosine_similarity(x, y):\n",
    "#    x_norm = np.linalg.norm(x)\n",
    "#    y_norm = np.linalg.norm(y, axis=1)\n",
    "#    dot_product = np.dot(y, x)\n",
    "#    similarity = dot_product / (x_norm * y_norm)\n",
    "#    return similarity\n",
    "\n",
    "def cosine_similarity(x, y):\n",
    "    x_norm = np.linalg.norm(x, axis=1, keepdims=True)\n",
    "    y_norm = np.linalg.norm(y, axis=1, keepdims=True)\n",
    "    similarity = np.dot(x/x_norm, (y/y_norm).transpose())\n",
    "    return similarity\n",
    "\n",
    "def comp_distance(x, y):\n",
    "    return np.linalg.norm(x-y, axis=-1)\n",
    "\n",
    "def cell_xy_to_rowcol(maze, xy_pos: np.ndarray) -> np.ndarray:\n",
    "    \"\"\"Converts a cell x and y coordinates to `(i,j)`\"\"\"\n",
    "\n",
    "    i = np.reshape((maze.y_map_center - xy_pos[:, 1]) / maze.maze_size_scaling, (-1, 1))\n",
    "    j = np.reshape((xy_pos[:, 0] + maze.x_map_center) / maze.maze_size_scaling, (-1, 1))\n",
    "\n",
    "    return np.concatenate([i,j], axis=-1)"
   ]
  },
  {
   "cell_type": "code",
   "execution_count": 16,
   "id": "0323e260-93c8-435e-8a5a-2a6f7b1f7d1e",
   "metadata": {},
   "outputs": [],
   "source": [
    "class Timer:\n",
    "    def __init__(self):\n",
    "        self.total_clapsed = 0\n",
    "        self.start = time()\n",
    "        self.call_time = 0\n",
    "\n",
    "    def __call__(self):\n",
    "        \n",
    "        clapsed = time() - self.start\n",
    "        self.call_time += 1\n",
    "        \n",
    "        self.total_clapsed += clapsed\n",
    "        self.start = time()\n",
    "        return self.total_clapsed\n",
    "\n",
    "    def mean(self,):\n",
    "        \n",
    "        clapsed = time() - self.start\n",
    "        self.call_time += 1\n",
    "        \n",
    "        self.total_clapsed += clapsed\n",
    "        self.start = time()\n",
    "        return self.total_clapsed / self.call_time\n",
    "        "
   ]
  },
  {
   "cell_type": "code",
   "execution_count": 17,
   "id": "b6addf0e-2489-40a9-b3c0-5ea7ba463159",
   "metadata": {},
   "outputs": [],
   "source": [
    "def get_conditions(conditions, start, x, device):\n",
    "\n",
    "    obs_dim = x.shape[-1]\n",
    "    \n",
    "    conditions[:, :, obs_dim:] = 0\n",
    "    conditions[:, :start, :obs_dim] = 0\n",
    "    conditions[:, :start, obs_dim:] = x[:, -start:, :]\n",
    "    conditions = torch.tensor(conditions).to(device)\n",
    "    \n",
    "    return conditions"
   ]
  },
  {
   "cell_type": "code",
   "execution_count": 18,
   "id": "4a6f86a9-167c-4b15-9b4a-3eba38eb3d2b",
   "metadata": {},
   "outputs": [],
   "source": [
    "horizon = Config.horizon\n",
    "device = Config.device\n",
    "dynamics_deviate = 0.15\n",
    "test_ret = 0.85\n",
    "sample_optim_batch = 1000\n",
    "dreamer_similarity = 0.95\n",
    "stitch_L = 10\n",
    "stitch_R = 30\n",
    "#obs_dim = observation_dim\n",
    "dream_len = Config.dream_len\n",
    "stitch_batch_size = 1000"
   ]
  },
  {
   "cell_type": "markdown",
   "id": "4ffde105-c0e6-451b-a12d-7fcc00f8221d",
   "metadata": {},
   "source": [
    "### Second round stitch"
   ]
  },
  {
   "cell_type": "code",
   "execution_count": 97,
   "id": "4ae92483-7f82-4c9c-9de9-29b9dbcaec11",
   "metadata": {},
   "outputs": [],
   "source": [
    "with open('./round1_stitch_point_medium.pkl', 'rb') as f:\n",
    "    stitched_data = pickle.load(f)"
   ]
  },
  {
   "cell_type": "code",
   "execution_count": 30,
   "id": "7d511a89-7535-45c1-9381-886ede60c513",
   "metadata": {},
   "outputs": [],
   "source": [
    "class StitchDataset:\n",
    "    def __init__(self, trajectories):\n",
    "        self.paths = trajectories\n",
    "        self.num_traj = len(self.paths)\n",
    "        print(f'processed {self.num_traj} trajectories')\n",
    "\n",
    "    def get_full_info_traj(self, idx, gamma=0.99):\n",
    "        obs = []\n",
    "        act = []\n",
    "        rew = []\n",
    "        next_obs = []\n",
    "        dones = []\n",
    "        region_idx = []\n",
    "        obs = np.copy(self.paths[idx][\"obs\"])\n",
    "        act = np.copy(self.paths[idx][\"act\"])\n",
    "        rew = np.copy(self.paths[idx][\"rew\"])\n",
    "        next_obs = np.copy(self.paths[idx][\"next_obs\"])\n",
    "        dones = np.copy(self.paths[idx][\"dones\"])\n",
    "        region_idx = np.copy(self.paths[idx][\"region_idx\"])\n",
    "\n",
    "        total_return = np.sum(rew)\n",
    "        discounted_return = 0\n",
    "        for i in range(rew.shape[0] - 1, -1, -1):\n",
    "            discounted_return = discounted_return * gamma + rew[i]\n",
    "        return {\n",
    "            \"obs\": obs,\n",
    "            \"act\": act,\n",
    "            \"rew\": rew,\n",
    "            \"next_obs\": next_obs,\n",
    "            \"dones\": dones,\n",
    "            \"total_return\": total_return,\n",
    "            \"discounted_return\": discounted_return,\n",
    "            \"horizon\": rew.shape[0],\n",
    "            \"region_idx\": region_idx,\n",
    "            \"trajectory_idx\": idx,\n",
    "        }"
   ]
  },
  {
   "cell_type": "code",
   "execution_count": 29,
   "id": "bea83caf-5153-4d84-b14a-a31c9b3d5964",
   "metadata": {},
   "outputs": [],
   "source": [
    "def process_stitched_trajectories(origin_trj1, stitch_trj, origin_trj2):\n",
    "    \"\"\" concatenate one origin_trj and the corresponding stitch_trj\"\"\"\n",
    "    \n",
    "    keys = ['obs', 'act', 'rew', 'next_obs', 'dones']\n",
    "    new_trj = {}\n",
    "    for k in keys:\n",
    "        assert k in origin_trj1, f'{k} not in origin_trj1'\n",
    "        assert k in origin_trj2, f'{k} not in origin_trj2'\n",
    "        assert k in stitch_trj, f'{k} not in stitch_trj'\n",
    "        new_trj[k] = np.concatenate([origin_trj1[k], stitch_trj[k], origin_trj2[k]], axis=0)\n",
    "        \n",
    "    trj_len = new_trj['obs'].shape[0]\n",
    "    new_trj['region_idx'] = stitch_trj['region_idx']\n",
    "    return new_trj"
   ]
  },
  {
   "cell_type": "code",
   "execution_count": 28,
   "id": "903b4c87-0f1a-476d-9616-87c17d067216",
   "metadata": {},
   "outputs": [],
   "source": [
    "def read_stitched_data(aug_list, trj1_dataset):\n",
    "    stitched_trjs = []\n",
    "    for i in range(len(aug_list)):\n",
    "        \n",
    "        stitch_trj = dict(\n",
    "            obs = aug_list[i][7][1:],\n",
    "            act = aug_list[i][8][1:],\n",
    "            rew = aug_list[i][9][1:],\n",
    "            next_obs = aug_list[i][10][1:],\n",
    "            dones = aug_list[i][11][1:],\n",
    "            region_idx = aug_list[i][12],\n",
    "        )# the first state in stitch is the last state in trj1\n",
    "    \n",
    "        traj2_idx = aug_list[i][2]\n",
    "        traj2_segment_idx = aug_list[i][3]\n",
    "        trj2 = env_dataset.get_full_info_traj(traj2_idx)\n",
    "        for k in ['obs', 'act', 'rew', 'next_obs', 'dones']:\n",
    "            trj2[k] = trj2[k][traj2_segment_idx:]\n",
    "    \n",
    "        traj1_idx = aug_list[i][0]\n",
    "        traj1_segment_idx = aug_list[i][1]\n",
    "        trj1 = trj1_dataset.get_full_info_traj(traj1_idx)\n",
    "        for k in ['obs', 'act', 'rew', 'next_obs', 'dones']:\n",
    "            trj1[k] = trj1[k][:traj1_segment_idx+horizon] \n",
    "    \n",
    "        new_trj = process_stitched_trajectories(trj1, stitch_trj, trj2)\n",
    "        stitched_trjs.append(new_trj)\n",
    "    return stitched_trjs"
   ]
  },
  {
   "cell_type": "code",
   "execution_count": 22,
   "id": "360a92f6-c1cf-4f1e-a669-443b529f48b6",
   "metadata": {},
   "outputs": [],
   "source": [
    "with open('./round1_stitch_kitchen_partial_H40.pkl', 'rb') as f:\n",
    "    aug_list_1 = pickle.load(f)\n",
    "\n",
    "with open('./round2_stitch_kitchen_partial_H40.pkl', 'rb') as f:\n",
    "    aug_list_2 = pickle.load(f)\n",
    "\n",
    "with open('./round3_stitch_kitchen_partial_H40.pkl', 'rb') as f:\n",
    "    aug_list_3 = pickle.load(f)"
   ]
  },
  {
   "cell_type": "code",
   "execution_count": 23,
   "id": "8186f022-204d-424d-ae9c-9da8d05ec9e2",
   "metadata": {},
   "outputs": [
    {
     "name": "stdout",
     "output_type": "stream",
     "text": [
      "processed 1297 trajectories\n",
      "processed 1657 trajectories\n"
     ]
    }
   ],
   "source": [
    "stitch_1 = read_stitched_data(aug_list_1, env_dataset)\n",
    "stitch_1_dataset = StitchDataset(stitch_1)\n",
    "stitch_2 = read_stitched_data(aug_list_2, stitch_1_dataset)\n",
    "stitch_2_dataset = StitchDataset(stitch_2)\n",
    "stitch_3 = read_stitched_data(aug_list_3, stitch_2_dataset)"
   ]
  },
  {
   "cell_type": "code",
   "execution_count": 27,
   "id": "80b05ccd-b010-463d-ade0-f52f106c38ad",
   "metadata": {},
   "outputs": [],
   "source": [
    "def post_process_stitched_trjs(stitched_trjs):\n",
    "    for trj in stitched_trjs:\n",
    "        trj['dones'][-1] = True\n",
    "    \n",
    "    post_process_stitch = defaultdict(list)\n",
    "    for trj in stitched_trjs:\n",
    "        post_process_stitch['actions'].extend(trj['act'])\n",
    "        post_process_stitch['observations'].extend(trj['obs'])\n",
    "        post_process_stitch['terminals'].extend(trj['dones'])\n",
    "        post_process_stitch['rewards'].extend(trj['rew'])\n",
    "    for k in post_process_stitch:\n",
    "\n",
    "        post_process_stitch[k] = np.array(post_process_stitch[k])\n",
    "    return post_process_stitch"
   ]
  },
  {
   "cell_type": "code",
   "execution_count": 25,
   "id": "2558b601-bc08-4556-b5c6-053133abffd1",
   "metadata": {},
   "outputs": [],
   "source": [
    "post_processed_stitch1 = post_process_stitched_trjs(stitch_1)\n",
    "post_processed_stitch2 = post_process_stitched_trjs(stitch_2)\n",
    "post_processed_stitch3 = post_process_stitched_trjs(stitch_3)"
   ]
  },
  {
   "cell_type": "code",
   "execution_count": 26,
   "id": "de9316e8-c33d-463c-b8a6-cc6ca8767291",
   "metadata": {},
   "outputs": [
    {
     "name": "stdout",
     "output_type": "stream",
     "text": [
      "actions shape: (200623, 9)\n",
      "observations shape: (200623, 30)\n",
      "terminals shape: (200623,)\n",
      "rewards shape: (200623,)\n"
     ]
    }
   ],
   "source": [
    "for k in post_processed_stitch1:\n",
    "    print(f'{k} shape: {post_processed_stitch1[k].shape}')"
   ]
  },
  {
   "cell_type": "code",
   "execution_count": 27,
   "id": "a368ec6d-434b-46be-a7ec-0bc69014a3bb",
   "metadata": {},
   "outputs": [
    {
     "name": "stdout",
     "output_type": "stream",
     "text": [
      "actions shape: (272682, 9)\n",
      "observations shape: (272682, 30)\n",
      "terminals shape: (272682,)\n",
      "rewards shape: (272682,)\n"
     ]
    }
   ],
   "source": [
    "for k in post_processed_stitch2:\n",
    "    print(f'{k} shape: {post_processed_stitch2[k].shape}')"
   ]
  },
  {
   "cell_type": "code",
   "execution_count": 28,
   "id": "0ded4c3b-5d95-435c-86a7-e21f46820c69",
   "metadata": {},
   "outputs": [
    {
     "name": "stdout",
     "output_type": "stream",
     "text": [
      "actions shape: (284499, 9)\n",
      "observations shape: (284499, 30)\n",
      "terminals shape: (284499,)\n",
      "rewards shape: (284499,)\n"
     ]
    }
   ],
   "source": [
    "for k in post_processed_stitch3:\n",
    "    print(f'{k} shape: {post_processed_stitch3[k].shape}')"
   ]
  },
  {
   "cell_type": "code",
   "execution_count": 249,
   "id": "159850b6-c6e2-44f8-bef9-0837b0677b87",
   "metadata": {},
   "outputs": [],
   "source": [
    "file1_name = './round1_stitch_kitchen_partial_H40-v1.pkl'\n",
    "file2_name = './round2_stitch_kitchen_partial_H40-v1.pkl'\n",
    "file3_name = './round3_stitch_kitchen_partial_H40-v1.pkl'"
   ]
  },
  {
   "cell_type": "code",
   "execution_count": 251,
   "id": "a1a393b3-f3a6-4874-8177-638eea927130",
   "metadata": {},
   "outputs": [],
   "source": [
    "with open(file1_name, 'wb') as f:\n",
    "    pickle.dump(post_processed_stitch1, f)\n",
    "\n",
    "with open(file2_name, 'wb') as f:\n",
    "    pickle.dump(post_processed_stitch2, f)\n",
    "\n",
    "with open(file3_name, 'wb') as f:\n",
    "    pickle.dump(post_processed_stitch3, f)"
   ]
  },
  {
   "cell_type": "code",
   "execution_count": 71,
   "id": "713f13c8-c772-40f6-b5e5-695620983b32",
   "metadata": {},
   "outputs": [
    {
     "name": "stdout",
     "output_type": "stream",
     "text": [
      "[139 115 102 ... 172 185 138]\n",
      "total_trans: 200623 154.6823438704703 93 259\n"
     ]
    },
    {
     "data": {
      "text/plain": [
       "(array([ 12.,  76., 118., 119.,  80.,  94., 116., 109., 105.,  99.,  88.,\n",
       "        103.,  93.,  39.,  23.,   8.,   5.,   4.,   2.,   4.]),\n",
       " array([ 93. , 101.3, 109.6, 117.9, 126.2, 134.5, 142.8, 151.1, 159.4,\n",
       "        167.7, 176. , 184.3, 192.6, 200.9, 209.2, 217.5, 225.8, 234.1,\n",
       "        242.4, 250.7, 259. ]),\n",
       " <BarContainer object of 20 artists>)"
      ]
     },
     "execution_count": 71,
     "metadata": {},
     "output_type": "execute_result"
    },
    {
     "data": {
      "image/png": "[encoded data removed]",
      "text/plain": [
       "<Figure size 640x480 with 1 Axes>"
      ]
     },
     "metadata": {},
     "output_type": "display_data"
    }
   ],
   "source": [
    "trans_len1 = np.array([trj['obs'].shape[0] for trj in stitch_1])\n",
    "print(trans_len1)\n",
    "total_trans = np.sum(trans_len1)\n",
    "print(f'total_trans: {total_trans}', np.mean(trans_len1), np.min(trans_len1), np.max(trans_len1))\n",
    "plt.hist(trans_len1, bins=20)"
   ]
  },
  {
   "cell_type": "code",
   "execution_count": 257,
   "id": "604f89d1-76af-4f71-a66d-d49d838679a4",
   "metadata": {},
   "outputs": [
    {
     "name": "stdout",
     "output_type": "stream",
     "text": [
      "[105 154 113 ... 292 146 220]\n",
      "total_trans: 272682 164.56366928183465 90 312\n"
     ]
    },
    {
     "data": {
      "text/plain": [
       "(array([  9.,  92., 153., 133., 122., 170., 182., 185., 196., 185., 102.,\n",
       "         62.,  36.,  17.,   7.,   3.,   1.,   1.,   0.,   1.]),\n",
       " array([ 90. , 101.1, 112.2, 123.3, 134.4, 145.5, 156.6, 167.7, 178.8,\n",
       "        189.9, 201. , 212.1, 223.2, 234.3, 245.4, 256.5, 267.6, 278.7,\n",
       "        289.8, 300.9, 312. ]),\n",
       " <BarContainer object of 20 artists>)"
      ]
     },
     "execution_count": 257,
     "metadata": {},
     "output_type": "execute_result"
    },
    {
     "data": {
      "image/png": "[encoded data removed]",
      "text/plain": [
       "<Figure size 640x480 with 1 Axes>"
      ]
     },
     "metadata": {},
     "output_type": "display_data"
    }
   ],
   "source": [
    "trans_len2 = np.array([trj['obs'].shape[0] for trj in stitch_2])\n",
    "print(trans_len)\n",
    "total_trans = np.sum(trans_len2)\n",
    "print(f'total_trans: {total_trans}', np.mean(trans_len2), np.min(trans_len2), np.max(trans_len2))\n",
    "plt.hist(trans_len2, bins=20)"
   ]
  },
  {
   "cell_type": "code",
   "execution_count": 219,
   "id": "633ec47d-a031-43ed-a73e-c82b93dadcd6",
   "metadata": {},
   "outputs": [
    {
     "name": "stdout",
     "output_type": "stream",
     "text": [
      "[105 154 113 ... 292 146 220]\n",
      "total_trans: 284499 172.3192004845548 93 294\n"
     ]
    },
    {
     "data": {
      "text/plain": [
       "(array([ 17.,  76., 122.,  97., 100.,  94., 157., 166., 147., 188., 168.,\n",
       "        107.,  71.,  49.,  36.,  27.,  13.,  11.,   2.,   3.]),\n",
       " array([ 93.  , 103.05, 113.1 , 123.15, 133.2 , 143.25, 153.3 , 163.35,\n",
       "        173.4 , 183.45, 193.5 , 203.55, 213.6 , 223.65, 233.7 , 243.75,\n",
       "        253.8 , 263.85, 273.9 , 283.95, 294.  ]),\n",
       " <BarContainer object of 20 artists>)"
      ]
     },
     "execution_count": 219,
     "metadata": {},
     "output_type": "execute_result"
    },
    {
     "data": {
      "image/png": "[encoded data removed]",
      "text/plain": [
       "<Figure size 640x480 with 1 Axes>"
      ]
     },
     "metadata": {},
     "output_type": "display_data"
    }
   ],
   "source": [
    "trans_len3 = np.array([trj['obs'].shape[0] for trj in stitch_3])\n",
    "print(trans_len)\n",
    "total_trans = np.sum(trans_len3)\n",
    "print(f'total_trans: {total_trans}', np.mean(trans_len3), np.min(trans_len3), np.max(trans_len3))\n",
    "plt.hist(trans_len3, bins=20)"
   ]
  },
  {
   "cell_type": "code",
   "execution_count": 164,
   "id": "e7c300b2-b87a-481d-8bb2-13a625cb97f7",
   "metadata": {},
   "outputs": [
    {
     "data": {
      "text/plain": [
       "dict_keys(['obs', 'act', 'rew', 'next_obs', 'dones', 'region_idx'])"
      ]
     },
     "execution_count": 164,
     "metadata": {},
     "output_type": "execute_result"
    }
   ],
   "source": [
    "stitched_trjs[0].keys()"
   ]
  },
  {
   "cell_type": "code",
   "execution_count": null,
   "id": "6198beb0-1333-40bd-840f-1029531f7677",
   "metadata": {},
   "outputs": [],
   "source": [
    "stti"
   ]
  },
  {
   "cell_type": "code",
   "execution_count": 64,
   "id": "594666cf-9a19-42ac-9e23-c611307a10c7",
   "metadata": {},
   "outputs": [
    {
     "name": "stdout",
     "output_type": "stream",
     "text": [
      "stitch1 rew: max: 2.0\t mean: 0.69236700077101\t min: -1.0\n",
      "stitch1 rew: max: 2.0\t mean: 0.7006638503319251\t min: -1.0\n",
      "stitch1 rew: max: 2.0\t mean: 0.7813446396123561\t min: -1.0\n"
     ]
    }
   ],
   "source": [
    "stitch_1_rew = np.array([sum(trj['rew']) for trj in stitch_1])\n",
    "print(f'stitch1 rew: max: {np.max(stitch_1_rew)}\\t mean: {np.mean(stitch_1_rew)}\\t min: {np.min(stitch_1_rew)}')\n",
    "\n",
    "stitch_2_rew = np.array([sum(trj['rew']) for trj in stitch_2])\n",
    "print(f'stitch1 rew: max: {np.max(stitch_2_rew)}\\t mean: {np.mean(stitch_2_rew)}\\t min: {np.min(stitch_2_rew)}')\n",
    "\n",
    "stitch_3_rew = np.array([sum(trj['rew']) for trj in stitch_3])\n",
    "print(f'stitch1 rew: max: {np.max(stitch_3_rew)}\\t mean: {np.mean(stitch_3_rew)}\\t min: {np.min(stitch_3_rew)}')"
   ]
  },
  {
   "cell_type": "code",
   "execution_count": 230,
   "id": "3def306d-4ea6-4edf-beb6-e277f10dd9aa",
   "metadata": {},
   "outputs": [
    {
     "data": {
      "text/plain": [
       "(array([1., 0., 0., 1., 0., 0., 0., 0., 0., 1., 1., 0., 2., 3., 1., 2., 2.,\n",
       "        0., 0., 1.]),\n",
       " array([106.  , 110.25, 114.5 , 118.75, 123.  , 127.25, 131.5 , 135.75,\n",
       "        140.  , 144.25, 148.5 , 152.75, 157.  , 161.25, 165.5 , 169.75,\n",
       "        174.  , 178.25, 182.5 , 186.75, 191.  ]),\n",
       " <BarContainer object of 20 artists>)"
      ]
     },
     "execution_count": 230,
     "metadata": {},
     "output_type": "execute_result"
    },
    {
     "data": {
      "image/png": "[encoded data removed]",
      "text/plain": [
       "<Figure size 640x480 with 1 Axes>"
      ]
     },
     "metadata": {},
     "output_type": "display_data"
    }
   ],
   "source": [
    "plt.hist(trans_len1[np.where(stitch_1_rew==2)[0]], bins=20)"
   ]
  },
  {
   "cell_type": "code",
   "execution_count": 229,
   "id": "154a33f7-f723-4d80-b1c6-bcf16ed43b16",
   "metadata": {},
   "outputs": [
    {
     "data": {
      "text/plain": [
       "(array([1., 2., 0., 2., 4., 7., 4., 6., 9., 3., 4., 5., 2., 1., 0., 2., 2.,\n",
       "        1., 2., 2.]),\n",
       " array([116. , 122.4, 128.8, 135.2, 141.6, 148. , 154.4, 160.8, 167.2,\n",
       "        173.6, 180. , 186.4, 192.8, 199.2, 205.6, 212. , 218.4, 224.8,\n",
       "        231.2, 237.6, 244. ]),\n",
       " <BarContainer object of 20 artists>)"
      ]
     },
     "execution_count": 229,
     "metadata": {},
     "output_type": "execute_result"
    },
    {
     "data": {
      "image/png": "[encoded data removed]",
      "text/plain": [
       "<Figure size 640x480 with 1 Axes>"
      ]
     },
     "metadata": {},
     "output_type": "display_data"
    }
   ],
   "source": [
    "plt.hist(trans_len2[np.where(stitch_2_rew==2)[0]], bins=20)"
   ]
  },
  {
   "cell_type": "code",
   "execution_count": 228,
   "id": "24a1a1a2-56eb-4d3c-8946-e3ff7edca228",
   "metadata": {},
   "outputs": [
    {
     "data": {
      "text/plain": [
       "(array([ 4.,  2.,  3.,  4.,  8.,  9., 21., 15., 22., 17., 13., 14.,  9.,\n",
       "         3., 10.,  5.,  4.,  0.,  0.,  2.]),\n",
       " array([108. , 115.9, 123.8, 131.7, 139.6, 147.5, 155.4, 163.3, 171.2,\n",
       "        179.1, 187. , 194.9, 202.8, 210.7, 218.6, 226.5, 234.4, 242.3,\n",
       "        250.2, 258.1, 266. ]),\n",
       " <BarContainer object of 20 artists>)"
      ]
     },
     "execution_count": 228,
     "metadata": {},
     "output_type": "execute_result"
    },
    {
     "data": {
      "image/png": "[encoded data removed]",
      "text/plain": [
       "<Figure size 640x480 with 1 Axes>"
      ]
     },
     "metadata": {},
     "output_type": "display_data"
    }
   ],
   "source": [
    "plt.hist(trans_len3[np.where(stitch_3_rew==2)[0]], bins=20)"
   ]
  },
  {
   "cell_type": "code",
   "execution_count": 65,
   "id": "c8b771d4-50c4-407c-b3b7-fcde36bdd28d",
   "metadata": {},
   "outputs": [
    {
     "data": {
      "text/plain": [
       "(array([   0.,  200.,  400.,  600.,  800., 1000.]),\n",
       " [Text(0, 0, ''),\n",
       "  Text(0, 0, ''),\n",
       "  Text(0, 0, ''),\n",
       "  Text(0, 0, ''),\n",
       "  Text(0, 0, ''),\n",
       "  Text(0, 0, '')])"
      ]
     },
     "execution_count": 65,
     "metadata": {},
     "output_type": "execute_result"
    },
    {
     "data": {
      "image/png": "[encoded data removed]",
      "text/plain": [
       "<Figure size 640x480 with 1 Axes>"
      ]
     },
     "metadata": {},
     "output_type": "display_data"
    }
   ],
   "source": [
    "plt.hist(stitch_1_rew, bins=5)\n",
    "plt.xticks(size = 20)\n",
    "plt.yticks(size = 15)"
   ]
  },
  {
   "cell_type": "code",
   "execution_count": 40,
   "id": "7a25b233-9bb8-44ae-aa4a-bdc0a1f4c1a8",
   "metadata": {
    "scrolled": true
   },
   "outputs": [
    {
     "data": {
      "text/plain": [
       "(array([   0.,  200.,  400.,  600.,  800., 1000., 1200.]),\n",
       " [Text(0, 0, ''),\n",
       "  Text(0, 0, ''),\n",
       "  Text(0, 0, ''),\n",
       "  Text(0, 0, ''),\n",
       "  Text(0, 0, ''),\n",
       "  Text(0, 0, ''),\n",
       "  Text(0, 0, '')])"
      ]
     },
     "execution_count": 40,
     "metadata": {},
     "output_type": "execute_result"
    },
    {
     "data": {
      "image/png": "[encoded data removed]",
      "text/plain": [
       "<Figure size 640x480 with 1 Axes>"
      ]
     },
     "metadata": {},
     "output_type": "display_data"
    }
   ],
   "source": [
    "plt.hist(stitch_2_rew, bins=5)\n",
    "plt.xticks(size = 20)\n",
    "plt.yticks(size = 15)"
   ]
  },
  {
   "cell_type": "code",
   "execution_count": 41,
   "id": "e7268633-4052-4c25-a492-1e6afd86d794",
   "metadata": {
    "scrolled": true
   },
   "outputs": [
    {
     "data": {
      "text/plain": [
       "(array([   0.,  200.,  400.,  600.,  800., 1000., 1200.]),\n",
       " [Text(0, 0, ''),\n",
       "  Text(0, 0, ''),\n",
       "  Text(0, 0, ''),\n",
       "  Text(0, 0, ''),\n",
       "  Text(0, 0, ''),\n",
       "  Text(0, 0, ''),\n",
       "  Text(0, 0, '')])"
      ]
     },
     "execution_count": 41,
     "metadata": {},
     "output_type": "execute_result"
    },
    {
     "data": {
      "image/png": "[encoded data removed]",
      "text/plain": [
       "<Figure size 640x480 with 1 Axes>"
      ]
     },
     "metadata": {},
     "output_type": "display_data"
    }
   ],
   "source": [
    "plt.hist(stitch_3_rew, bins=5)\n",
    "plt.xticks(size = 20)\n",
    "plt.yticks(size = 15)"
   ]
  },
  {
   "cell_type": "code",
   "execution_count": 47,
   "id": "935b3db3-183a-4e91-82b3-d2ac75eab7f5",
   "metadata": {},
   "outputs": [],
   "source": [
    "def comp_epi_return(dataset, discount=0.99):\n",
    "    discounts = discount ** np.arange(1000)\n",
    "    r = []\n",
    "    for seq in dataset:\n",
    "        rewards = seq['rew']\n",
    "        \n",
    "        r_ = 0\n",
    "        l = len(rewards)\n",
    "        \n",
    "        for i in range(l):\n",
    "            r_ = (discounts[:l-i] * rewards[i:]).sum()\n",
    "            r.append(r_)\n",
    "        \n",
    "    return r"
   ]
  },
  {
   "cell_type": "code",
   "execution_count": 59,
   "id": "6bcefba2-b932-429f-9469-f936240131a5",
   "metadata": {},
   "outputs": [
    {
     "name": "stdout",
     "output_type": "stream",
     "text": [
      "traj1 return: max: 1.5639051904523875\t, mean: 0.3337770893115084\t min: -1.0\n",
      "traj2 return: max: 1.5048858887870695\t, mean: 0.31586901793176153\t min: -1.0\n",
      "traj3 return: max: 1.5526834771623852\t, mean: 0.3226555964551641\t min: -1.0\n"
     ]
    }
   ],
   "source": [
    "round1_return = np.array(comp_epi_return(stitch_1))\n",
    "round2_return = np.array(comp_epi_return(stitch_2))\n",
    "round3_return = np.array(comp_epi_return(stitch_3))\n",
    "print(f'traj1 return: max: {np.max(round1_return)}\\t, mean: {np.mean(round1_return)}\\t min: {np.min(round1_return)}')\n",
    "print(f'traj2 return: max: {np.max(round2_return)}\\t, mean: {np.mean(round2_return)}\\t min: {np.min(round2_return)}')\n",
    "print(f'traj3 return: max: {np.max(round3_return)}\\t, mean: {np.mean(round3_return)}\\t min: {np.min(round3_return)}')"
   ]
  },
  {
   "cell_type": "code",
   "execution_count": 47,
   "id": "c9ffc5b0-4158-4a85-a015-2063177d3db7",
   "metadata": {
    "scrolled": true
   },
   "outputs": [
    {
     "data": {
      "text/plain": [
       "(array([    0., 10000., 20000., 30000., 40000., 50000., 60000., 70000.,\n",
       "        80000.]),\n",
       " [Text(0, 0, ''),\n",
       "  Text(0, 0, ''),\n",
       "  Text(0, 0, ''),\n",
       "  Text(0, 0, ''),\n",
       "  Text(0, 0, ''),\n",
       "  Text(0, 0, ''),\n",
       "  Text(0, 0, ''),\n",
       "  Text(0, 0, ''),\n",
       "  Text(0, 0, '')])"
      ]
     },
     "execution_count": 47,
     "metadata": {},
     "output_type": "execute_result"
    },
    {
     "data": {
      "image/png": "[encoded data removed]",
      "text/plain": [
       "<Figure size 640x480 with 1 Axes>"
      ]
     },
     "metadata": {},
     "output_type": "display_data"
    }
   ],
   "source": [
    "plt.hist(round1_return, bins=100)\n",
    "plt.xticks(size = 20)\n",
    "plt.yticks(size = 15)"
   ]
  },
  {
   "cell_type": "code",
   "execution_count": null,
   "id": "163be323-d526-4b5c-8c43-cc5bd27b62fe",
   "metadata": {},
   "outputs": [],
   "source": []
  }
 ],
 "metadata": {
  "kernelspec": {
   "display_name": "Python 3 (ipykernel)",
   "language": "python",
   "name": "python3"
  },
  "language_info": {
   "codemirror_mode": {
    "name": "ipython",
    "version": 3
   },
   "file_extension": ".py",
   "mimetype": "text/x-python",
   "name": "python",
   "nbconvert_exporter": "python",
   "pygments_lexer": "ipython3",
   "version": "3.8.19"
  }
 },
 "nbformat": 4,
 "nbformat_minor": 5
}
