{
 "cells": [
  {
   "cell_type": "code",
   "execution_count": 64,
   "metadata": {},
   "outputs": [],
   "source": [
    "import os"
   ]
  },
  {
   "cell_type": "code",
   "execution_count": 86,
   "metadata": {},
   "outputs": [],
   "source": [
    "maze = 'antmaze'\n",
    "method = 'navigate' #'navigate'\n",
    "map = 'medium'\n",
    "plan_type = 'value_guidance_RS'\n",
    "horizon = 256 # 256, 384, 512, 384"
   ]
  },
  {
   "cell_type": "code",
   "execution_count": 87,
   "metadata": {},
   "outputs": [],
   "source": [
    "import json\n",
    "\n",
    "means = []\n",
    "all = []\n",
    "for i in range(10):\n",
    "    sum = 0.0\n",
    "    for j in range(5):\n",
    "        with open(f'./{maze}-{map}-{method}-v0/plans/release_H{horizon}_T256_LimitsNormalizer_b1_condFalse_J1_rpdFalse/{plan_type}/idx{5*i + j}_rollout.json', 'r') as f:\n",
    "            file = json.load(f)\n",
    "            sum += file['return']\n",
    "            all.append(file['return'])\n",
    "    means.append(sum/5)"
   ]
  },
  {
   "cell_type": "code",
   "execution_count": 88,
   "metadata": {},
   "outputs": [
    {
     "name": "stdout",
     "output_type": "stream",
     "text": [
      "mean: 0.22000000000000003 std: 0.10770329614269009\n"
     ]
    }
   ],
   "source": [
    "import numpy as np\n",
    "print('mean:', np.mean(means), 'std:', np.std(means))"
   ]
  },
  {
   "cell_type": "code",
   "execution_count": 5,
   "metadata": {},
   "outputs": [],
   "source": [
    "# import json\n",
    "# import shutil\n",
    "\n",
    "# means = []\n",
    "# all = []\n",
    "# dir_path = f'./{maze}-{map}-{method}-v0/plans/release_H{horizon}_T256_LimitsNormalizer_b1_condFalse_J1_rpdFalse/{plan_type}/'\n",
    "# failures_dir = os.path.join(os.path.dirname(dir_path), 'failures')\n",
    "# os.makedirs(failures_dir, exist_ok=True)\n",
    "# for i in range(10):\n",
    "#     sum = 0.0\n",
    "#     for j in range(5):\n",
    "#         file_path = f'{dir_path}idx{5*i + j}_rollout.json'\n",
    "#         with open(file_path, 'r') as f:\n",
    "#             file = json.load(f)\n",
    "#             sum += file['return']\n",
    "#             all.append(file['return'])\n",
    "#             if file['return'] == 0:\n",
    "#                 src_file = f'{dir_path}plan_rollout{5*i+j}.png'\n",
    "#                 dst_file = os.path.join(failures_dir, os.path.basename(src_file))\n",
    "#                 shutil.copy(src_file, dst_file)\n",
    "#     means.append(sum/5)"
   ]
  },
  {
   "cell_type": "code",
   "execution_count": null,
   "metadata": {},
   "outputs": [],
   "source": []
  }
 ],
 "metadata": {
  "kernelspec": {
   "display_name": "arc_world",
   "language": "python",
   "name": "python3"
  },
  "language_info": {
   "codemirror_mode": {
    "name": "ipython",
    "version": 3
   },
   "file_extension": ".py",
   "mimetype": "text/x-python",
   "name": "python",
   "nbconvert_exporter": "python",
   "pygments_lexer": "ipython3",
   "version": "3.10.13"
  }
 },
 "nbformat": 4,
 "nbformat_minor": 2
}
