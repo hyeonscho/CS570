{
 "cells": [
  {
   "cell_type": "code",
   "execution_count": 1,
   "metadata": {},
   "outputs": [],
   "source": [
    "import os"
   ]
  },
  {
   "cell_type": "code",
   "execution_count": 3,
   "metadata": {},
   "outputs": [
    {
     "name": "stdout",
     "output_type": "stream",
     "text": [
      "--------------------\n",
      "size: ant_medium\n",
      "return: 0.4 ± 0.1\n",
      "time: 14.6 ± 0.2\n",
      "step: 424.3 ± 29.7\n",
      "--------------------\n",
      "size: ant_large\n",
      "return: 0.1 ± 0.1\n",
      "time: 14.0 ± 0.4\n",
      "step: 488.5 ± 15.6\n",
      "--------------------\n",
      "size: ant_giant\n",
      "return: 0.0 ± 0.0\n",
      "time: 14.9 ± 0.2\n",
      "step: 1501.0 ± 0.0\n",
      "--------------------\n",
      "size: ant_medium_replan\n",
      "return: 0.5 ± 0.1\n",
      "time: 140.8 ± 8.8\n",
      "step: 417.1 ± 25.2\n",
      "--------------------\n",
      "size: ant_large_replan\n",
      "return: 0.1 ± 0.1\n",
      "time: 168.7 ± 5.8\n",
      "step: 492.8 ± 10.7\n",
      "--------------------\n",
      "size: ant_giant_replan\n",
      "return: 0.0 ± 0.0\n",
      "time: 445.5 ± 16.6\n",
      "step: 1501.0 ± 0.0\n"
     ]
    }
   ],
   "source": [
    "import json\n",
    "\n",
    "# file_name = '/home/baek1127/s2diffuser/logs/pointmaze-large-navigate-v0/plans/release_H500_T256_LimitsNormalizer_b1_condFalse_J1_rpdFalse/value_guidance_rebuttal_scale_20/'\n",
    "file_names = []\n",
    "\n",
    "# size = ['medium', 'large', 'giant' , 'medium_replan', 'large_replan', 'giant_replan', 'ant_medium', 'ant_large', 'ant_giant','ant_medium_replan', 'ant_large_replan', 'ant_giant_replan']\n",
    "size = ['ant_medium', 'ant_large', 'ant_giant','ant_medium_replan', 'ant_large_replan', 'ant_giant_replan']\n",
    "\n",
    "# file_names.append('/home/baek1127/s2diffuser_hs/logs/pointmaze-medium-navigate-v0/plans/release_H500_T256_LimitsNormalizer_b1_condFalse_J1_rpdFalse/time_log/')\n",
    "# file_names.append('/home/baek1127/s2diffuser_hs/logs/pointmaze-large-navigate-v0/plans/release_H500_T256_LimitsNormalizer_b1_condFalse_J1_rpdFalse/time_log/')\n",
    "# file_names.append('/home/baek1127/s2diffuser_hs/logs/pointmaze-giant-navigate-v0/plans/release_H1000_T256_LimitsNormalizer_b1_condFalse_J1_rpdFalse/time_log/')\n",
    "\n",
    "# file_names.append('/home/baek1127/s2diffuser_hs/logs/pointmaze-medium-navigate-v0/plans/release_H500_T256_LimitsNormalizer_b1_condFalse_J1_rpdFalse/value_guidance_replanning_time_log/')\n",
    "# file_names.append('/home/baek1127/s2diffuser_hs/logs/pointmaze-large-navigate-v0/plans/release_H500_T256_LimitsNormalizer_b1_condFalse_J1_rpdFalse/value_guidance_replanning_time_log/')\n",
    "# file_names.append('/home/baek1127/s2diffuser_hs/logs/pointmaze-giant-navigate-v0/plans/release_H1000_T256_LimitsNormalizer_b1_condFalse_J1_rpdFalse/value_guidance_replanning_time_log/')\n",
    "\n",
    "# file_names.append('/home/baek1127/s2diffuser_hs/logs/antmaze-medium-navigate-v0/plans/release_H500_T256_LimitsNormalizer_b1_condFalse_J1_rpdFalse/time_log/')\n",
    "# file_names.append('/home/baek1127/s2diffuser_hs/logs/antmaze-large-navigate-v0/plans/release_H500_T256_LimitsNormalizer_b1_condFalse_J1_rpdFalse/time_log/')\n",
    "# file_names.append('/home/baek1127/s2diffuser_hs/logs/antmaze-giant-navigate-v0/plans/release_H1000_T256_LimitsNormalizer_b1_condFalse_J1_rpdFalse/time_log/')\n",
    "\n",
    "file_names.append('/home/hyeons/s2diffuser_hs/logs/antmaze-medium-navigate-v0/plans/release_H500_T256_LimitsNormalizer_b1_condFalse_J1_rpdFalse/time_log_v2/')\n",
    "file_names.append('/home/hyeons/s2diffuser_hs/logs/antmaze-large-navigate-v0/plans/release_H500_T256_LimitsNormalizer_b1_condFalse_J1_rpdFalse/time_log_v2/')\n",
    "file_names.append('/home/hyeons/s2diffuser_hs/logs/antmaze-giant-navigate-v0/plans/release_H1000_T256_LimitsNormalizer_b1_condFalse_J1_rpdFalse/time_log_v2/')\n",
    "\n",
    "file_names.append('/home/hyeons/s2diffuser_hs/logs/antmaze-medium-navigate-v0/plans/release_H500_T256_LimitsNormalizer_b1_condFalse_J1_rpdFalse/value_guidance_replanning_time_log/')\n",
    "file_names.append('/home/hyeons/s2diffuser_hs/logs/antmaze-large-navigate-v0/plans/release_H500_T256_LimitsNormalizer_b1_condFalse_J1_rpdFalse/value_guidance_replanning_time_log/')\n",
    "file_names.append('/home/hyeons/s2diffuser_hs/logs/antmaze-giant-navigate-v0/plans/release_H1000_T256_LimitsNormalizer_b1_condFalse_J1_rpdFalse/value_guidance_replanning_time_log/')\n",
    "\n",
    "for file_name in file_names:\n",
    "    return_means = []\n",
    "    return_all = []\n",
    "    time_means = []\n",
    "    time_all = []\n",
    "    step_all = []\n",
    "    step_means = []\n",
    "    for i in range(10):\n",
    "        return_sum = 0.0\n",
    "        time_sum = 0.0\n",
    "        step_sum = 0.0\n",
    "        for j in range(5):\n",
    "            with open(file_name+f'idx{5*i + j}_rollout.json', 'r') as f:\n",
    "            # with open(f'./{maze}-{map}-{method}-v0/plans/release_H{horizon}_T{n_denosing}_LimitsNormalizer_b1_condFalse_J1_rpdFalse/{plan_type}/idx{5*i + j}_rollout.json', 'r') as f:\n",
    "                file = json.load(f)\n",
    "                # print(\"idx :\", 5*i + j)\n",
    "                # print(\"return :\", file['return'], end=', ')\n",
    "                # print(\"planning_time :\", file['planning_time'], end=', ')\n",
    "                # print(\"step :\", file['step'])\n",
    "\n",
    "                return_sum += file['return']\n",
    "                return_all.append(file['return'])\n",
    "                time_sum += file['planning_time']\n",
    "                time_all.append(file['planning_time'])\n",
    "                step_sum += file['step']\n",
    "                step_all.append(file['step'])\n",
    "\n",
    "        return_means.append(return_sum/5)\n",
    "        time_means.append(time_sum/5)\n",
    "        step_means.append(step_sum/5)\n",
    "    import numpy as np\n",
    "    # print('mean:', np.mean(return_means), 'std:', np.std(return_means))\n",
    "    print('-'*20)\n",
    "    print('size:', size[file_names.index(file_name)])\n",
    "\n",
    "    # print('return_means:', np.mean(return_means), \"return_std:\", np.std(return_means))\n",
    "    # print('time_means:', np.mean(time_means), \"time_std:\", np.std(time_means))\n",
    "    print(f\"return: {np.mean(return_means):.1f} ± {np.std(return_means):.1f}\")\n",
    "    print(f'time: {np.mean(time_means):.1f} ± {np.std(time_means):.1f}')\n",
    "    print(f'step: {np.mean(step_means):.1f} ± {np.std(step_means):.1f}')\n",
    "    \n"
   ]
  },
  {
   "cell_type": "code",
   "execution_count": null,
   "metadata": {},
   "outputs": [],
   "source": [
    "maze = 'pointmaze'\n",
    "method = 'navigate' #'navigate'\n",
    "map = 'large'\n",
    "plan_type = 'TTC_value_guidance'\n",
    "horizon = 500 #256 # 256, 384, 512, 384\n",
    "n_denosing = 15000"
   ]
  },
  {
   "cell_type": "code",
   "execution_count": null,
   "metadata": {},
   "outputs": [],
   "source": [
    "import json\n",
    "\n",
    "means = []\n",
    "all = []\n",
    "for i in range(10):\n",
    "    sum = 0.0\n",
    "    for j in range(5):\n",
    "        with open(f'./{maze}-{map}-{method}-v0/plans/release_H{horizon}_T{n_denosing}_LimitsNormalizer_b1_condFalse_J1_rpdFalse/{plan_type}/idx{5*i + j}_rollout.json', 'r') as f:\n",
    "            file = json.load(f)\n",
    "            sum += file['return']\n",
    "            all.append(file['return'])\n",
    "    means.append(sum/5)"
   ]
  },
  {
   "cell_type": "code",
   "execution_count": null,
   "metadata": {},
   "outputs": [
    {
     "name": "stdout",
     "output_type": "stream",
     "text": [
      "mean: 0.4 std: 0.0\n"
     ]
    }
   ],
   "source": [
    "import numpy as np\n",
    "print('mean:', np.mean(means), 'std:', np.std(means))"
   ]
  },
  {
   "cell_type": "code",
   "execution_count": null,
   "metadata": {},
   "outputs": [
    {
     "name": "stdout",
     "output_type": "stream",
     "text": [
      "elapsed_time: 395.57188076496124\n",
      "total_time: 396.3022780799866\n"
     ]
    }
   ],
   "source": [
    "with open(f'./{maze}-{map}-{method}-v0/plans/release_H{horizon}_T{n_denosing}_LimitsNormalizer_b1_condFalse_J1_rpdFalse/{plan_type}/elapsed_time.json', 'r') as f:\n",
    "    file = json.load(f)\n",
    "    print('elapsed_time:', file['elapsed_time:'] / 50)\n",
    "    print('total_time:', file['total_time'] / 50)"
   ]
  },
  {
   "cell_type": "code",
   "execution_count": null,
   "metadata": {},
   "outputs": [],
   "source": [
    "# import json\n",
    "# import shutil\n",
    "\n",
    "# means = []\n",
    "# all = []\n",
    "# dir_path = f'./{maze}-{map}-{method}-v0/plans/release_H{horizon}_T256_LimitsNormalizer_b1_condFalse_J1_rpdFalse/{plan_type}/'\n",
    "# failures_dir = os.path.join(os.path.dirname(dir_path), 'failures')\n",
    "# os.makedirs(failures_dir, exist_ok=True)\n",
    "# for i in range(10):\n",
    "#     sum = 0.0\n",
    "#     for j in range(5):\n",
    "#         file_path = f'{dir_path}idx{5*i + j}_rollout.json'\n",
    "#         with open(file_path, 'r') as f:\n",
    "#             file = json.load(f)\n",
    "#             sum += file['return']\n",
    "#             all.append(file['return'])\n",
    "#             if file['return'] == 0:\n",
    "#                 src_file = f'{dir_path}plan_rollout{5*i+j}.png'\n",
    "#                 dst_file = os.path.join(failures_dir, os.path.basename(src_file))\n",
    "#                 shutil.copy(src_file, dst_file)\n",
    "#     means.append(sum/5)"
   ]
  },
  {
   "cell_type": "code",
   "execution_count": null,
   "metadata": {},
   "outputs": [],
   "source": [
    "scales = [0.01, 0.05, 0.1, 0.2, 0.3]"
   ]
  },
  {
   "cell_type": "code",
   "execution_count": null,
   "metadata": {},
   "outputs": [],
   "source": [
    "scale = [scales[i%5] for i in range(10)]"
   ]
  },
  {
   "cell_type": "code",
   "execution_count": null,
   "metadata": {},
   "outputs": [
    {
     "data": {
      "text/plain": [
       "[0.01, 0.05, 0.1, 0.2, 0.3, 0.01, 0.05, 0.1, 0.2, 0.3]"
      ]
     },
     "execution_count": 24,
     "metadata": {},
     "output_type": "execute_result"
    }
   ],
   "source": [
    "scale"
   ]
  },
  {
   "cell_type": "code",
   "execution_count": null,
   "metadata": {},
   "outputs": [
    {
     "name": "stdout",
     "output_type": "stream",
     "text": [
      "70\n"
     ]
    }
   ],
   "source": [
    "sc = [0.01, 0.05, 0.1, 0.2, 0.3, 0.01, 0.05, 0.1, 0.2, 0.3, 0.01, 0.05, 0.1, 0.2, 0.3, 0.01, 0.05, 0.1, 0.2, 0.3, 0.01, 0.05, 0.1, 0.2, 0.3, 0.01, 0.05, 0.1, 0.2, 0.3, 0.01, 0.05, 0.1, 0.2, 0.3, 0.01, 0.05, 0.1, 0.2, 0.3, 0.01, 0.05, 0.1, 0.2, 0.3, 0.01, 0.05, 0.1, 0.2, 0.3, 0.01, 0.05, 0.1, 0.2, 0.3, 0.01, 0.05, 0.1, 0.2, 0.3, 0.01, 0.05, 0.1, 0.2, 0.3, 0.01, 0.05, 0.1, 0.2, 0.3]\n",
    "print(len(sc))"
   ]
  },
  {
   "cell_type": "code",
   "execution_count": null,
   "metadata": {},
   "outputs": [],
   "source": []
  }
 ],
 "metadata": {
  "kernelspec": {
   "display_name": "og_game",
   "language": "python",
   "name": "python3"
  },
  "language_info": {
   "codemirror_mode": {
    "name": "ipython",
    "version": 3
   },
   "file_extension": ".py",
   "mimetype": "text/x-python",
   "name": "python",
   "nbconvert_exporter": "python",
   "pygments_lexer": "ipython3",
   "version": "undefined.undefined.undefined"
  }
 },
 "nbformat": 4,
 "nbformat_minor": 2
}
