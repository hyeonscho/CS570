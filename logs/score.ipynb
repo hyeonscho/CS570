{
 "cells": [
  {
   "cell_type": "code",
   "execution_count": null,
   "metadata": {},
   "outputs": [],
   "source": [
    "import json\n",
    "\n",
    "# file_name = '/home/baek1127/s2diffuser/logs/pointmaze-large-navigate-v0/plans/release_H500_T256_LimitsNormalizer_b1_condFalse_J1_rpdFalse/value_guidance_rebuttal_scale_20/'\n",
    "file_names = []\n",
    "size = ['medium diffuser', 'large diffuser', 'medium ddim', 'large_ddim', 'medium_hd',\n",
    "        'large_hd', 'medium_hdd', 'large_hdd']\n",
    "file_names.append('/home/hyeons/CS570/logs/pointmaze-medium-navigate-v0/evaluation_medium_diffuser/H500_T256_LimitsNormalizer_b1_condFalse_J1_rpdTrue/time_log/')\n",
    "file_names.append('/home/hyeons/CS570/logs/pointmaze-large-navigate-v0/evaluation_large_diffuser/H500_T256_LimitsNormalizer_b1_condFalse_J1_rpdTrue/time_log/')\n",
    "file_names.append('/home/hyeons/CS570/logs/pointmaze-medium-navigate-v0/8ddim/H500_T8_LimitsNormalizer_b1_condFalse_J1_rpdTrue/time_log/')\n",
    "file_names.append('/home/hyeons/CS570/logs/pointmaze-large-navigate-v0/evaluation_large_diffuser_1ddim/H500_T2_LimitsNormalizer_b1_condFalse_J1_rpdTrue/time_log/')\n",
    "file_names.append('/home/hyeons/CS570/logs/pointmaze-medium-navigate-v0/hd_medium/H495_T256_LimitsNormalizer_b1_condFalse_J15_rpdTrue/0/')\n",
    "file_names.append('/home/hyeons/CS570/logs/pointmaze-large-navigate-v0/eval_hd/H495_T256_LimitsNormalizer_b1_condFalse_J15_rpdTrue/0/')\n",
    "file_names.append('/home/hyeons/CS570/logs/pointmaze-medium-navigate-v0/hdd_medium/H495_T256_LimitsNormalizer_b1_condFalse_J15_rpdTrue/0/')\n",
    "file_names.append('/home/hyeons/CS570/logs/pointmaze-large-navigate-v0/eval_hdd/H495_T2_LimitsNormalizer_b1_condFalse_J15_rpdTrue/0/')"
   ]
  },
  {
   "cell_type": "code",
   "execution_count": 17,
   "metadata": {},
   "outputs": [
    {
     "name": "stdout",
     "output_type": "stream",
     "text": [
      "--------------------\n",
      "size: medium diffuser\n",
      "return: 0.60 ± 0.00\n",
      "time: 14.35 ± 0.28\n",
      "step: 284.82 ± 1.78\n",
      "--------------------\n",
      "size: large diffuser\n",
      "return: 0.40 ± 0.00\n",
      "time: 14.45 ± 0.38\n",
      "step: 386.26 ± 3.84\n",
      "--------------------\n",
      "size: medium ddim\n",
      "return: 0.00 ± 0.00\n",
      "time: 0.06 ± 0.12\n",
      "step: 499.00 ± 0.00\n",
      "--------------------\n",
      "size: large_ddim\n",
      "return: 0.00 ± 0.00\n",
      "time: 0.16 ± 0.11\n",
      "step: 499.00 ± 0.00\n",
      "--------------------\n",
      "size: medium_hd\n",
      "return: 0.76 ± 0.08\n",
      "time: 2.97 ± 0.11\n",
      "step: 406.16 ± 43.13\n",
      "--------------------\n",
      "size: large_hd\n",
      "return: 0.78 ± 0.14\n",
      "time: 3.23 ± 0.15\n",
      "step: 409.60 ± 32.77\n",
      "--------------------\n",
      "size: medium_hdd\n",
      "return: 0.88 ± 0.13\n",
      "time: 0.09 ± 0.12\n",
      "step: 461.10 ± 44.45\n",
      "--------------------\n",
      "size: large_hdd\n",
      "return: 0.76 ± 0.12\n",
      "time: 0.12 ± 0.12\n",
      "step: 433.74 ± 19.62\n"
     ]
    }
   ],
   "source": [
    "\n",
    "for file_name in file_names:\n",
    "    return_means = []\n",
    "    return_all = []\n",
    "    time_means = []\n",
    "    time_all = []\n",
    "    step_all = []\n",
    "    step_means = []\n",
    "    for i in range(10):\n",
    "        return_sum = 0.0\n",
    "        time_sum = 0.0\n",
    "        step_sum = 0.0\n",
    "        for j in range(5):\n",
    "            with open(file_name+f'idx{5*i + j}_rollout.json', 'r') as f:\n",
    "            # with open(f'./{maze}-{map}-{method}-v0/plans/release_H{horizon}_T{n_denosing}_LimitsNormalizer_b1_condFalse_J1_rpdFalse/{plan_type}/idx{5*i + j}_rollout.json', 'r') as f:\n",
    "                file = json.load(f)\n",
    "                # print(\"idx :\", 5*i + j)\n",
    "                # print(\"return :\", file['return'], end=', ')\n",
    "                # print(\"planning_time :\", file['planning_time'], end=', ')\n",
    "                # print(\"step :\", file['step'])\n",
    "\n",
    "                return_sum += file['return']\n",
    "                return_all.append(file['return'])\n",
    "                time_sum += file['planning_time']\n",
    "                time_all.append(file['planning_time'])\n",
    "                step_sum += file['step']\n",
    "                step_all.append(file['step'])\n",
    "\n",
    "        return_means.append(return_sum/5)\n",
    "        time_means.append(time_sum/5)\n",
    "        step_means.append(step_sum/5)\n",
    "    import numpy as np\n",
    "    # print('mean:', np.mean(return_means), 'std:', np.std(return_means))\n",
    "    print('-'*20)\n",
    "    print('size:', size[file_names.index(file_name)])\n",
    "\n",
    "    # print('return_means:', np.mean(return_means), \"return_std:\", np.std(return_means))\n",
    "    # print('time_means:', np.mean(time_means), \"time_std:\", np.std(time_means))\n",
    "    print(f\"return: {np.mean(return_means):.2f} ± {np.std(return_means):.2f}\")\n",
    "    print(f'time: {np.mean(time_means):.2f} ± {np.std(time_means):.2f}')\n",
    "    print(f'step: {np.mean(step_means):.2f} ± {np.std(step_means):.2f}')\n",
    "    \n"
   ]
  },
  {
   "cell_type": "code",
   "execution_count": null,
   "metadata": {},
   "outputs": [],
   "source": []
  },
  {
   "cell_type": "code",
   "execution_count": null,
   "metadata": {},
   "outputs": [],
   "source": []
  },
  {
   "cell_type": "code",
   "execution_count": null,
   "metadata": {},
   "outputs": [],
   "source": []
  }
 ],
 "metadata": {
  "kernelspec": {
   "display_name": "og_game",
   "language": "python",
   "name": "python3"
  },
  "language_info": {
   "codemirror_mode": {
    "name": "ipython",
    "version": 3
   },
   "file_extension": ".py",
   "mimetype": "text/x-python",
   "name": "python",
   "nbconvert_exporter": "python",
   "pygments_lexer": "ipython3",
   "version": "3.10.15"
  }
 },
 "nbformat": 4,
 "nbformat_minor": 2
}
