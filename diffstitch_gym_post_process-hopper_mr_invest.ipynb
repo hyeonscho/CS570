{
 "cells": [
  {
   "cell_type": "code",
   "execution_count": 1,
   "id": "bb4c37b4-47f4-4d89-8b10-1cc363356311",
   "metadata": {},
   "outputs": [],
   "source": [
    "import sys\n",
    "sys.argv = ['']"
   ]
  },
  {
   "cell_type": "code",
   "execution_count": 2,
   "id": "345d5cc9-8d9c-40f1-9b98-b03862d03ac5",
   "metadata": {},
   "outputs": [
    {
     "name": "stderr",
     "output_type": "stream",
     "text": [
      "/common/home/cc1547/miniconda3/envs/diffstitch/lib/python3.8/site-packages/tqdm/auto.py:21: TqdmWarning: IProgress not found. Please update jupyter and ipywidgets. See https://ipywidgets.readthedocs.io/en/stable/user_install.html\n",
      "  from .autonotebook import tqdm as notebook_tqdm\n"
     ]
    }
   ],
   "source": [
    "#from diffuser.utils.arrays import to_torch, to_np, to_device\n",
    "#from diffuser.datasets.d4rl import suppress_output\n",
    "#from scripts.buffer_utils import LoadSequenceDataset\n",
    "#from scripts.buffer_utils import OptimalBuffer\n",
    "from scripts.mopo.utils_trans import RewardPredictingModel \n",
    "#from scripts.buffer_utils import augment_trajectories_new\n",
    "import diffuser.utils as utils"
   ]
  },
  {
   "cell_type": "code",
   "execution_count": 3,
   "id": "b6f65656-8585-486a-b401-9949ae28a6c5",
   "metadata": {},
   "outputs": [],
   "source": [
    "import shutil \n",
    "import argparse \n",
    "import time \n",
    "import pickle\n",
    "import sys\n",
    "import os\n",
    "import torch\n",
    "import random\n",
    "import importlib\n",
    "from collections import defaultdict\n",
    "import pdb\n",
    "import numpy as np\n",
    "import gym\n",
    "import matplotlib.pyplot as plt\n",
    "%matplotlib inline"
   ]
  },
  {
   "cell_type": "code",
   "execution_count": 4,
   "id": "0c07bf0b-d979-48fe-9422-85ee6c1f9c29",
   "metadata": {},
   "outputs": [],
   "source": [
    "from time import time"
   ]
  },
  {
   "cell_type": "code",
   "execution_count": 5,
   "id": "1e362afb-08fe-4157-9f74-6df64fcd5b5d",
   "metadata": {},
   "outputs": [],
   "source": [
    "from collections import defaultdict"
   ]
  },
  {
   "cell_type": "code",
   "execution_count": 6,
   "id": "ef3d279a-2148-49df-a7d6-24285976ef88",
   "metadata": {},
   "outputs": [],
   "source": [
    "from sklearn.cluster import KMeans"
   ]
  },
  {
   "cell_type": "code",
   "execution_count": 7,
   "id": "d587c2eb-5028-4705-ad65-4011a89da4c2",
   "metadata": {},
   "outputs": [
    {
     "name": "stderr",
     "output_type": "stream",
     "text": [
      "Warning: Flow failed to import. Set the environment variable D4RL_SUPPRESS_IMPORT_ERROR=1 to suppress this message.\n",
      "No module named 'flow'\n",
      "/common/home/cc1547/miniconda3/envs/diffstitch/lib/python3.8/site-packages/glfw/__init__.py:914: GLFWError: (65544) b'X11: The DISPLAY environment variable is missing'\n",
      "  warnings.warn(message, GLFWError)\n",
      "Warning: CARLA failed to import. Set the environment variable D4RL_SUPPRESS_IMPORT_ERROR=1 to suppress this message.\n",
      "No module named 'carla'\n",
      "pybullet build time: Nov 28 2023 23:51:11\n"
     ]
    }
   ],
   "source": [
    "import d4rl"
   ]
  },
  {
   "cell_type": "code",
   "execution_count": 8,
   "id": "d845e7ab-4aa5-4733-afe6-4ebe8049f7ea",
   "metadata": {},
   "outputs": [],
   "source": [
    "from copy import copy"
   ]
  },
  {
   "cell_type": "code",
   "execution_count": 9,
   "id": "dcd86699-b971-472b-a816-83f02d066aef",
   "metadata": {},
   "outputs": [],
   "source": [
    "from ml_logger import logger"
   ]
  },
  {
   "cell_type": "code",
   "execution_count": 10,
   "id": "db221e85-8973-4e21-848d-f4338cff9827",
   "metadata": {
    "scrolled": true
   },
   "outputs": [],
   "source": [
    "def import_config(config_name):\n",
    "    module_path = f\"detail_configs.{config_name}\"\n",
    "    try:\n",
    "        module = importlib.import_module(module_path)\n",
    "        return module.Config\n",
    "    except ImportError:\n",
    "        print(f\"Error: Module '{config_name}' not found or has no 'Config' attribute.\")\n",
    "        return None\n",
    "\n",
    "\n",
    "def to_np(x):\n",
    "    if torch.is_tensor(x):\n",
    "        x = x.detach().cpu().numpy()\n",
    "    return x\n",
    "\n",
    "\n",
    "def to_torch(x, dtype=None, device=None):\n",
    "    dtype = dtype or DTYPE\n",
    "    device = device or DEVICE\n",
    "    if type(x) is dict:\n",
    "        return {k: to_torch(v, dtype, device) for k, v in x.items()}\n",
    "    elif torch.is_tensor(x):\n",
    "        return x.to(device).type(dtype)\n",
    "        # import pdb; pdb.set_trace()\n",
    "    return torch.tensor(x, dtype=dtype, device=device)\n",
    "\n",
    "\n",
    "def to_device(x, device):\n",
    "    if torch.is_tensor(x):\n",
    "        return x.to(device)\n",
    "    elif type(x) is dict:\n",
    "        return {k: to_device(v, device) for k, v in x.items()}\n",
    "    else:\n",
    "        print(f\"Unrecognized type in `to_device`: {type(x)}\")\n",
    "        pdb.set_trace()\n",
    "    # return [x.to(device) for x in xs]\n",
    "\n",
    "\n",
    "def task_dataset(seq_dataset):\n",
    "\n",
    "    tasks = []\n",
    "\n",
    "    task_data = defaultdict(list)\n",
    "    rewards = seq_dataset[\"rew\"]\n",
    "\n",
    "    l = rewards.shape[0]\n",
    "    for i in range(l):\n",
    "\n",
    "        for k in seq_dataset:\n",
    "            task_data[k].append(seq_dataset[k][i])\n",
    "\n",
    "        if (i + 1) % 50 == 0:\n",
    "            for k in task_data:\n",
    "                task_data[k] = np.array(task_data[k])\n",
    "            tasks.append(task_data)\n",
    "            task_data = defaultdict(list)\n",
    "\n",
    "    if len(task_data) > 0:\n",
    "        for k in task_data:\n",
    "            task_data[k] = np.array(task_data[k])\n",
    "        tasks.append(task_data)\n",
    "\n",
    "    return tasks\n",
    "\n",
    "\n",
    "def load_data(data_file):\n",
    "    with open(data_file, \"rb\") as fp:\n",
    "        ds = pickle.load(fp)\n",
    "    return ds\n",
    "\n",
    "\n",
    "def obtain_region_idx(idx):\n",
    "    digits = []\n",
    "    l = len(idx)\n",
    "    for i in range(l):\n",
    "        digits.append(idx[i])\n",
    "    return digits\n",
    "\n",
    "\n",
    "class LoadSequenceDataset:\n",
    "    def __init__(self, env_name, data_file):\n",
    "        if \"Maze\" in env_name:\n",
    "            dataset = load_data(data_file)\n",
    "            if \"AntMaze_UMaze-v4\" in env_name:\n",
    "                dataset_name = \"antmaze-umaze-v0\"\n",
    "            elif \"AntMaze_Medium-v4\" in env_name:\n",
    "                dataset_name = \"antmaze-medium-v0\"\n",
    "            elif \"AntMaze_Large-v4\" in env_name:\n",
    "                dataset_name = \"antmaze-large-v0\"\n",
    "            elif \"PointMaze_UMaze-v3\" in env_name:\n",
    "                dataset_name = \"pointmaze-umaze-v0\"\n",
    "            elif \"PointMaze_Medium-v3\" in env_name:\n",
    "                dataset_name = \"pointmaze-medium-v1\"\n",
    "            elif \"PointMaze_Large-v3\" in env_name:\n",
    "                dataset_name = \"pointmaze-large-v1\"\n",
    "            else:\n",
    "                raise NotImplementedError\n",
    "            max_path_length = 600\n",
    "        else:\n",
    "            env = gym.make(env_name)\n",
    "            dataset = env.get_dataset()\n",
    "            max_path_length = 1000\n",
    "\n",
    "        self.data_size = dataset[\"rewards\"].shape[0]\n",
    "        print(f\"\\nnumber of offline data is {dataset['rewards'].shape[0]}\\n\")\n",
    "\n",
    "        paths = []\n",
    "        current_path = {\"obs\": [], \"act\": [], \"rew\": [], \"dones\": [], \"next_obs\": []}\n",
    "\n",
    "        use_timeouts = \"timeouts\" in dataset\n",
    "\n",
    "        print(use_timeouts)\n",
    "        move = []\n",
    "\n",
    "        for i in range(dataset[\"rewards\"].shape[0] - 1):\n",
    "            if \"Maze\" in env_name:\n",
    "                current_path[\"obs\"].append(dataset[\"observations\"][\"observation\"][i])\n",
    "                current_path[\"dones\"].append(dataset[\"terminations\"][i])\n",
    "                current_path[\"next_obs\"].append(\n",
    "                    dataset[\"observations\"][\"observation\"][i + 1]\n",
    "                )\n",
    "            else:\n",
    "                current_path[\"obs\"].append(dataset[\"observations\"][i])\n",
    "                current_path[\"dones\"].append(dataset[\"terminals\"][i])\n",
    "                current_path[\"next_obs\"].append(dataset[\"observations\"][i + 1])\n",
    "\n",
    "            current_path[\"act\"].append(dataset[\"actions\"][i])\n",
    "            current_path[\"rew\"].append(dataset[\"rewards\"][i])\n",
    "\n",
    "            if use_timeouts:\n",
    "                final_timestep = dataset[\"timeouts\"][i]\n",
    "            else:\n",
    "                final_timestep = len(current_path[\"obs\"]) == max_path_length\n",
    "\n",
    "            done = (\n",
    "                dataset[\"terminations\"][i]\n",
    "                if \"Maze\" in env_name\n",
    "                else dataset[\"terminals\"][i]\n",
    "            )\n",
    "            if bool(done) or final_timestep:\n",
    "                for _ in current_path:\n",
    "                    current_path[_] = np.array(current_path[_])\n",
    "                if current_path[\"obs\"].shape[0] > 1:\n",
    "                    move.append(current_path[\"obs\"][1:] - current_path[\"obs\"][:-1])\n",
    "                task_path = task_dataset(current_path)\n",
    "                paths.extend(task_path)\n",
    "                current_path = {\n",
    "                    \"obs\": [],\n",
    "                    \"act\": [],\n",
    "                    \"rew\": [],\n",
    "                    \"dones\": [],\n",
    "                    \"next_obs\": [],\n",
    "                }\n",
    "        self.paths = paths\n",
    "        self.num_traj = len(self.paths)\n",
    "        self.move_mean = np.concatenate(move, axis=0).mean(0)\n",
    "        self.move_std = np.concatenate(move, axis=0).std(0)\n",
    "\n",
    "    def get_full_info_traj(self, idx, gamma=0.99):\n",
    "        obs = []\n",
    "        act = []\n",
    "        rew = []\n",
    "        next_obs = []\n",
    "        dones = []\n",
    "        region_idx = []\n",
    "        obs = np.copy(self.paths[idx][\"obs\"])\n",
    "        act = np.copy(self.paths[idx][\"act\"])\n",
    "        rew = np.copy(self.paths[idx][\"rew\"])\n",
    "        next_obs = np.copy(self.paths[idx][\"next_obs\"])\n",
    "        dones = np.copy(self.paths[idx][\"dones\"])\n",
    "\n",
    "        total_return = np.sum(rew)\n",
    "        discounted_return = 0\n",
    "        for i in range(rew.shape[0] - 1, -1, -1):\n",
    "            discounted_return = discounted_return * gamma + rew[i]\n",
    "        return {\n",
    "            \"obs\": obs,\n",
    "            \"act\": act,\n",
    "            \"rew\": rew,\n",
    "            \"next_obs\": next_obs,\n",
    "            \"dones\": dones,\n",
    "            \"total_return\": total_return,\n",
    "            \"discounted_return\": discounted_return,\n",
    "            \"horizon\": rew.shape[0],\n",
    "            \"trajectory_idx\": idx,\n",
    "        }\n",
    "\n",
    "\n",
    "class OptimalBuffer:\n",
    "    def __init__(self, horizon, ratio=0.1, gamma=0.99):\n",
    "        self.gamma = gamma\n",
    "        self.ratio = ratio\n",
    "        self.info = []\n",
    "        self.horizon = horizon\n",
    "        self.region_map = defaultdict(list)\n",
    "        self.returns_list = []\n",
    "\n",
    "    def insert_traj(self, info):\n",
    "        current_total_reward = 0\n",
    "        current_discounted_reward = 0\n",
    "        for i in range(info[\"horizon\"] - 1, -1, -1):\n",
    "            current_total_reward += info[\"rew\"][i]\n",
    "            current_discounted_reward = (\n",
    "                current_discounted_reward * self.gamma + info[\"rew\"][i]\n",
    "            )\n",
    "            if info[\"horizon\"] - i >= self.horizon:\n",
    "                current_info = {\n",
    "                    \"discounted_reward\": current_discounted_reward,\n",
    "                    \"obs\": info[\"obs\"][i : i + self.horizon],\n",
    "                    \"segment_idx\": i,\n",
    "                    \"traj_idx\": info[\"trajectory_idx\"],\n",
    "                    \"rew\": info[\"rew\"][i : i + self.horizon],\n",
    "                }\n",
    "                self.info.append(current_info)\n",
    "                \n",
    "\n",
    "    def finalize(\n",
    "        self,\n",
    "    ):\n",
    "        num_seg = len(self.info)\n",
    "        all_obs = np.array([info[\"obs\"] for info in self.info]).mean(axis=-1)\n",
    "        kmeans = KMeans(n_clusters=10, n_init=\"auto\").fit(all_obs)\n",
    "        labels = kmeans.labels_\n",
    "        for i in range(num_seg):\n",
    "            self.info[i][\"region_idx\"] = str(labels[i])\n",
    "            self.region_map[str(labels[i])].append(i)\n",
    "            self.returns_list.append(sum(self.info[i][\"rew\"]))\n",
    "        self.returns_list = np.array(self.returns_list)\n",
    "        self.returns_list -= self.returns_list.max()\n",
    "        self.returns_list = np.exp(self.returns_list)  # make if positive\n",
    "\n",
    "    def sample_batch_traj(self, optim_batch, region_avoid):\n",
    "        # stored in (d-rtg, obs:(100, obs_dim))\n",
    "\n",
    "        sample_idx = []\n",
    "\n",
    "        for k in self.region_map:\n",
    "            if k not in region_avoid:\n",
    "                sample_idx += self.region_map[k]\n",
    "\n",
    "        sample_p = self.returns_list[np.array(sample_idx)]\n",
    "        sample_p = sample_p / sample_p.sum()\n",
    "        batch_info = []\n",
    "        batch_index = np.random.choice(\n",
    "            sample_idx, size=optim_batch, replace=False, p=sample_p\n",
    "        )\n",
    "        batch_info = [self.info[_] for _ in batch_index]\n",
    "\n",
    "        return batch_info\n",
    "\n",
    "\n",
    "def cosine_similarity(x, y):\n",
    "    x_norm = np.linalg.norm(x, axis=1, keepdims=True)\n",
    "    y_norm = np.linalg.norm(y, axis=1, keepdims=True)\n",
    "    similarity = np.dot(x / x_norm, (y / y_norm).transpose())\n",
    "    return similarity\n",
    "\n",
    "\n",
    "def comp_distance(x, y):\n",
    "    return np.linalg.norm(x - y, axis=-1)\n",
    "\n",
    "\n",
    "class Timer:\n",
    "    def __init__(self):\n",
    "        self.total_clapsed = 0\n",
    "        self.start = time()\n",
    "        self.call_time = 0\n",
    "\n",
    "    def __call__(self):\n",
    "\n",
    "        clapsed = time() - self.start\n",
    "        self.call_time += 1\n",
    "\n",
    "        self.total_clapsed += clapsed\n",
    "        self.start = time()\n",
    "        return self.total_clapsed\n",
    "\n",
    "    def mean(\n",
    "        self,\n",
    "    ):\n",
    "\n",
    "        clapsed = time() - self.start\n",
    "        self.call_time += 1\n",
    "\n",
    "        self.total_clapsed += clapsed\n",
    "        self.start = time()\n",
    "        return self.total_clapsed / self.call_time\n",
    "\n",
    "\n",
    "def get_conditions(conditions, start, x, device):\n",
    "\n",
    "    obs_dim = x.shape[-1]\n",
    "\n",
    "    conditions[:, :, obs_dim:] = 0\n",
    "    conditions[:, :start, :obs_dim] = 0\n",
    "    conditions[:, :start, obs_dim:] = x[:, -start:, :]\n",
    "    conditions = torch.tensor(conditions).to(device)\n",
    "\n",
    "    return conditions"
   ]
  },
  {
   "cell_type": "code",
   "execution_count": 11,
   "id": "92b41236-0d22-4bfe-ad12-07b2c41275eb",
   "metadata": {},
   "outputs": [],
   "source": [
    "\n",
    "class StitchDataset:\n",
    "    def __init__(self, trajectories):\n",
    "        self.paths = trajectories\n",
    "        self.num_traj = len(self.paths)\n",
    "        print(f\"processed {self.num_traj} trajectories\")\n",
    "\n",
    "    def get_full_info_traj(self, idx, gamma=0.99):\n",
    "        obs = []\n",
    "        act = []\n",
    "        rew = []\n",
    "        next_obs = []\n",
    "        dones = []\n",
    "        region_idx = []\n",
    "        obs = np.copy(self.paths[idx][\"obs\"])\n",
    "        act = np.copy(self.paths[idx][\"act\"])\n",
    "        rew = np.copy(self.paths[idx][\"rew\"])\n",
    "        next_obs = np.copy(self.paths[idx][\"next_obs\"])\n",
    "        dones = np.copy(self.paths[idx][\"dones\"])\n",
    "        region_idx = self.paths[idx][\"region_idx\"]\n",
    "\n",
    "        total_return = np.sum(rew)\n",
    "        discounted_return = 0\n",
    "        for i in range(rew.shape[0] - 1, -1, -1):\n",
    "            discounted_return = discounted_return * gamma + rew[i]\n",
    "        return {\n",
    "            \"obs\": obs,\n",
    "            \"act\": act,\n",
    "            \"rew\": rew,\n",
    "            \"next_obs\": next_obs,\n",
    "            \"dones\": dones,\n",
    "            \"total_return\": total_return,\n",
    "            \"discounted_return\": discounted_return,\n",
    "            \"horizon\": rew.shape[0],\n",
    "            \"region_idx\": region_idx,\n",
    "            \"trajectory_idx\": idx,\n",
    "        }\n",
    "\n",
    "\n",
    "class StitchBuffer:\n",
    "    def __init__(self, horizon, ratio=0.1, gamma=0.99):\n",
    "        self.gamma = gamma\n",
    "        self.ratio = ratio\n",
    "        self.info = []\n",
    "        self.horizon = horizon\n",
    "        self.region_map = defaultdict(list)\n",
    "        self.count = 0\n",
    "        self.returns_list = []\n",
    "\n",
    "    def insert_traj(self, info):\n",
    "        current_total_reward = 0\n",
    "        current_discounted_reward = 0\n",
    "        for i in range(info[\"horizon\"] - 1, -1, -1):\n",
    "            current_total_reward += info[\"rew\"][i]\n",
    "            current_discounted_reward = (\n",
    "                current_discounted_reward * self.gamma + info[\"rew\"][i]\n",
    "            )\n",
    "            if info[\"horizon\"] - i >= self.horizon:\n",
    "                current_info = {\n",
    "                    \"discounted_reward\": current_discounted_reward,\n",
    "                    \"obs\": info[\"obs\"][i : i + self.horizon],\n",
    "                    \"segment_idx\": i,\n",
    "                    \"region_idx\": info[\"region_idx\"][i : i + self.horizon],\n",
    "                    \"traj_idx\": info[\"trajectory_idx\"],\n",
    "                    \"rew\": info[\"rew\"][i : i + self.horizon],\n",
    "                }\n",
    "                self.info.append(current_info)\n",
    "                self.region_map[info[\"region_idx\"]].append(self.count)\n",
    "                self.count += 1\n",
    "                self.returns_list.append(sum(info[\"rew\"]))\n",
    "\n",
    "    def finalize(\n",
    "        self,\n",
    "    ):\n",
    "        self.returns_list = np.array(self.returns_list)\n",
    "        self.returns_list -= self.returns_list.min()\n",
    "\n",
    "    def sample_batch_traj(self, optim_batch, region_avoid):\n",
    "        # stored in (d-rtg, obs:(100, obs_dim))\n",
    "\n",
    "        sample_idx = []\n",
    "        for k in self.region_map:\n",
    "            if k not in region_avoid:\n",
    "                sample_idx += self.region_map[k]\n",
    "\n",
    "        sample_p = self.returns_list[np.array(sample_idx)]\n",
    "        sample_p = sample_p / sample_p.sum()\n",
    "\n",
    "        batch_info = []\n",
    "        batch_index = np.random.choice(\n",
    "            sample_idx, size=optim_batch, replace=False, p=sample_p\n",
    "        )\n",
    "        batch_info = [self.info[_] for _ in batch_index]\n",
    "\n",
    "        return batch_info\n",
    "\n",
    "\n",
    "def process_stitched_trajectories(origin_trj1, stitch_trj, origin_trj2):\n",
    "    \"\"\"concatenate one origin_trj and the corresponding stitch_trj\"\"\"\n",
    "\n",
    "    keys = [\"obs\", \"act\", \"rew\", \"next_obs\", \"dones\"]\n",
    "    new_trj = {}\n",
    "    for k in keys:\n",
    "        assert k in origin_trj1, f\"{k} not in origin_trj1\"\n",
    "        assert k in origin_trj2, f\"{k} not in origin_trj2\"\n",
    "        assert k in stitch_trj, f\"{k} not in stitch_trj\"\n",
    "\n",
    "        new_trj[k] = np.concatenate(\n",
    "            [origin_trj1[k], stitch_trj[k], origin_trj2[k]], axis=0\n",
    "        )\n",
    "    new_trj[\"region_idx\"] = stitch_trj[\"region_idx\"]\n",
    "    return new_trj"
   ]
  },
  {
   "cell_type": "code",
   "execution_count": 12,
   "id": "825856f2-af64-410c-b5b2-1765014086de",
   "metadata": {
    "scrolled": true
   },
   "outputs": [
    {
     "name": "stdout",
     "output_type": "stream",
     "text": [
      "\u001b[32m✓ created a new logging client\u001b[0m\n",
      "Dashboard: http://app.dash.ml/common/users/cc1547/projects/rainbow/diffstitch/diffuser/gym_mujoco/task/hopper-medium-replay-v2/diffuser/default_inv/predict_epsilon_100_1000000.0/dropout_0.25/hopper-medium-replay-v2/task/50/config\n",
      "Log_directory: /common/home/cc1547/projects/diff_stitch\n",
      "[ utils/config ] Imported diffuser.datasets:CondSequenceDataset\n",
      "\n",
      "[utils/config ] Config: <class 'diffuser.datasets.sequence.CondSequenceDataset'>\n",
      "    aug_data_file: None\n",
      "    data_file: None\n",
      "    env: hopper-medium-replay-v2\n",
      "    horizon: 50\n",
      "    include_returns: True\n",
      "    max_path_length: 50\n",
      "    normalizer: CDFNormalizer\n",
      "    preprocess_fns: []\n",
      "    returns_scale: 150.0\n",
      "    task_data: True\n",
      "    use_padding: True\n",
      "\n",
      "[ utils/config ] Saved config to: dataset_config.pkl\n",
      "\n",
      "class =  <class 'diffuser.datasets.sequence.CondSequenceDataset'>\n",
      "kwargs =  {}\n"
     ]
    },
    {
     "name": "stderr",
     "output_type": "stream",
     "text": [
      "load datafile: 100%|██████████████████████████████████████████████████████████████████████████████████████████████████████████| 11/11 [00:00<00:00, 16.79it/s]\n"
     ]
    },
    {
     "name": "stdout",
     "output_type": "stream",
     "text": [
      "[ datasets/buffer ] Finalized replay buffer | 9071 episodes  | Avg path lengths 44.32\n",
      "[ datasets/buffer ] Fields:\n",
      "    observations: (9071, 50, 11)\n",
      "    rewards: (9071, 50, 1)\n",
      "    actions: (9071, 50, 3)\n",
      "    terminals: (9071, 50, 1)\n",
      "    normed_observations: (9071, 50, 11)\n",
      "    normed_actions: (9071, 50, 3)\n"
     ]
    },
    {
     "name": "stderr",
     "output_type": "stream",
     "text": [
      "load datafile: 100%|██████████████████████████████████████████████████████████████████████████████████████████████████████████| 11/11 [00:00<00:00, 17.01it/s]\n"
     ]
    },
    {
     "name": "stdout",
     "output_type": "stream",
     "text": [
      "\n",
      "number of offline data is 402000\n",
      "\n",
      "True\n"
     ]
    }
   ],
   "source": [
    "Config = import_config('hopper_medium_replay_v2_task')\n",
    "\n",
    "# log path\n",
    "BASE_WEIGHTS_PATH = os.path.join(Config.bucket, Config.dataset)\n",
    "save_config_path = os.path.join(BASE_WEIGHTS_PATH, Config.prefix, \"config\")\n",
    "logger.configure(save_config_path)\n",
    "torch.backends.cudnn.benchmark = True\n",
    "\n",
    "# training dataset for Diffuser\n",
    "dataset_config = utils.Config(\n",
    "    \"datasets.CondSequenceDataset\",\n",
    "    savepath=\"dataset_config.pkl\",\n",
    "    env=Config.dataset,\n",
    "    horizon=Config.horizon,\n",
    "    normalizer=Config.normalizer,\n",
    "    preprocess_fns=Config.preprocess_fns,\n",
    "    use_padding=Config.use_padding,\n",
    "    max_path_length=Config.max_path_length,\n",
    "    include_returns=Config.include_returns,\n",
    "    returns_scale=Config.returns_scale,\n",
    "    data_file=Config.data_file,\n",
    "    task_data=True,\n",
    "    aug_data_file=None,\n",
    ")\n",
    "\n",
    "dataset = dataset_config()\n",
    "renderer = None\n",
    "observation_dim = dataset.observation_dim\n",
    "action_dim = dataset.action_dim\n",
    "# loadpath = os.path.join(Config.bucket, Config.dataset, Config.prefix, \"checkpoint\")\n",
    "# print(\"\\n\\nloadpath = \", loadpath, end=\"\\n\\n\")\n",
    "\n",
    "# model configs\n",
    "observation_dim = dataset.observation_dim\n",
    "action_dim = dataset.action_dim\n",
    "transition_dim = observation_dim\n",
    "\n",
    "# model_config = utils.Config(\n",
    "#     Config.model,\n",
    "#     savepath=\"model_config.pkl\",\n",
    "#     horizon=Config.horizon,\n",
    "#     transition_dim=transition_dim,\n",
    "#     cond_dim=observation_dim,\n",
    "#     dim_mults=Config.dim_mults,\n",
    "#     dim=Config.dim,\n",
    "#     returns_condition=Config.returns_condition,\n",
    "#     device=Config.device,\n",
    "# )\n",
    "\n",
    "# diffusion_config = utils.Config(\n",
    "#     Config.diffusion,\n",
    "#     savepath=\"diffusion_config.pkl\",\n",
    "#     horizon=Config.horizon,\n",
    "#     observation_dim=observation_dim,\n",
    "#     action_dim=action_dim,\n",
    "#     n_timesteps=Config.n_diffusion_steps,\n",
    "#     loss_type=Config.loss_type,\n",
    "#     clip_denoised=Config.clip_denoised,\n",
    "#     predict_epsilon=Config.predict_epsilon,\n",
    "#     hidden_dim=Config.hidden_dim,\n",
    "#     ## loss weighting\n",
    "#     action_weight=Config.action_weight,\n",
    "#     loss_weights=Config.loss_weights,\n",
    "#     loss_discount=Config.loss_discount,\n",
    "#     returns_condition=Config.returns_condition,\n",
    "#     device=Config.device,\n",
    "#     condition_guidance_w=Config.condition_guidance_w,\n",
    "# )\n",
    "\n",
    "# trainer_config = utils.Config(\n",
    "#     utils.Trainer,\n",
    "#     savepath=\"trainer_config.pkl\",\n",
    "#     train_batch_size=Config.batch_size,\n",
    "#     train_lr=Config.learning_rate,\n",
    "#     gradient_accumulate_every=Config.gradient_accumulate_every,\n",
    "#     ema_decay=Config.ema_decay,\n",
    "#     sample_freq=Config.sample_freq,\n",
    "#     save_freq=Config.save_freq,\n",
    "#     log_freq=Config.log_freq,\n",
    "#     label_freq=int(Config.n_train_steps // Config.n_saves),\n",
    "#     save_parallel=Config.save_parallel,\n",
    "#     bucket=Config.bucket,\n",
    "#     n_reference=Config.n_reference,\n",
    "#     n_samples=Config.n_samples,\n",
    "#     train_device=Config.device,\n",
    "# )\n",
    "# model = model_config()\n",
    "# diffusion = diffusion_config(model)\n",
    "# trainer = trainer_config(diffusion, dataset, renderer)\n",
    "\n",
    "# # load Diffuser model\n",
    "# loadpath = os.path.join(loadpath, f\"state_1000000.pt\")\n",
    "# state_dict = torch.load(loadpath, map_location=Config.device)\n",
    "# trainer.step = state_dict[\"step\"]\n",
    "# trainer.model.load_state_dict(state_dict[\"model\"])\n",
    "# trainer.ema_model.load_state_dict(state_dict[\"ema\"])\n",
    "\n",
    "# # load Dynamic model\n",
    "# dynamics_model = RewardPredictingModel(\n",
    "#     device=Config.device,\n",
    "#     env_name=Config.dataset,\n",
    "#     load_path=Config.dynamic_model_path,\n",
    "# )\n",
    "\n",
    "env_name = Config.dataset\n",
    "if \"Maze\" not in env_name:\n",
    "    data_file = None\n",
    "else:\n",
    "    if \"AntMaze_UMaze-v4\" in env_name:\n",
    "        dataset_name = \"antmaze-umaze-v0\"\n",
    "    elif \"AntMaze_Medium-v4\" in env_name:\n",
    "        dataset_name = \"antmaze-medium-v0\"\n",
    "    elif \"AntMaze_Large-v4\" in env_name:\n",
    "        dataset_name = \"antmaze-large-v0\"\n",
    "    elif \"PointMaze_UMaze-v3\" in env_name:\n",
    "        dataset_name = \"pointmaze-umaze-v1\"\n",
    "    elif \"PointMaze_Medium-v3\" in env_name:\n",
    "        dataset_name = \"pointmaze-medium-v1\"\n",
    "    elif \"PointMaze_Large-v3\" in env_name:\n",
    "        dataset_name = \"pointmaze-large-v1\"\n",
    "\n",
    "    dataset_name = dataset_name + \".pkl\"\n",
    "    data_file = Config.data_file + dataset_name\n",
    "env_dataset = LoadSequenceDataset(env_name=Config.dataset, data_file=data_file)\n",
    "data_buffer = OptimalBuffer(horizon=Config.horizon)\n",
    "for i in range(env_dataset.num_traj):\n",
    "    info = env_dataset.get_full_info_traj(i)\n",
    "    data_buffer.insert_traj(info)\n",
    "data_buffer.finalize()"
   ]
  },
  {
   "cell_type": "code",
   "execution_count": 13,
   "id": "8b1b1a65-68e9-406c-bc06-d58bd39622f1",
   "metadata": {},
   "outputs": [
    {
     "data": {
      "text/plain": [
       "9068"
      ]
     },
     "execution_count": 13,
     "metadata": {},
     "output_type": "execute_result"
    }
   ],
   "source": [
    "env_dataset.num_traj"
   ]
  },
  {
   "cell_type": "code",
   "execution_count": 14,
   "id": "d60b1a3c-7bf0-48ba-9ffb-933bd96cd188",
   "metadata": {},
   "outputs": [
    {
     "data": {
      "text/plain": [
       "7106"
      ]
     },
     "execution_count": 14,
     "metadata": {},
     "output_type": "execute_result"
    }
   ],
   "source": [
    "len(data_buffer.info)"
   ]
  },
  {
   "cell_type": "code",
   "execution_count": 15,
   "id": "8acd1cf5-3ca8-4ab9-a280-6285d6eaaa9c",
   "metadata": {},
   "outputs": [],
   "source": [
    "def read_stitched_data(aug_list, trj1_dataset):\n",
    "    stitched_trjs = []\n",
    "    for i in range(len(aug_list)):\n",
    "        rew = aug_list[i][9][1:]\n",
    "        if len(rew.shape) == 2:\n",
    "            rew = rew.squeeze(-1)\n",
    "        stitch_trj = dict(\n",
    "            obs = aug_list[i][7][1:],\n",
    "            act = aug_list[i][8][1:],\n",
    "            rew = rew,\n",
    "            next_obs = aug_list[i][10][1:],\n",
    "            dones = aug_list[i][11],\n",
    "            region_idx = aug_list[i][12],\n",
    "        )# the first state in stitch is the last state in trj1\n",
    "    \n",
    "        traj2_idx = aug_list[i][2]\n",
    "        traj2_segment_idx = aug_list[i][3]\n",
    "        trj2 = env_dataset.get_full_info_traj(traj2_idx)\n",
    "        for k in ['obs', 'act', 'rew', 'next_obs', 'dones']:\n",
    "            trj2[k] = trj2[k][traj2_segment_idx:]\n",
    "    \n",
    "        traj1_idx = aug_list[i][0]\n",
    "        traj1_segment_idx = aug_list[i][1]\n",
    "        trj1 = trj1_dataset.get_full_info_traj(traj1_idx)\n",
    "        for k in ['obs', 'act', 'rew', 'next_obs', 'dones']:\n",
    "            trj1[k] = trj1[k][:traj1_segment_idx+Config.horizon] \n",
    "    \n",
    "        new_trj = process_stitched_trajectories(trj1, stitch_trj, trj2)\n",
    "        stitched_trjs.append(new_trj)\n",
    "    return stitched_trjs"
   ]
  },
  {
   "cell_type": "code",
   "execution_count": 17,
   "id": "360a92f6-c1cf-4f1e-a669-443b529f48b6",
   "metadata": {},
   "outputs": [],
   "source": [
    "with open(f\"./scripts/gym_vad/round1_stitch_{Config.dataset}_H50.pkl\", 'rb') as f:\n",
    "    aug_list_1 = pickle.load(f)\n",
    "\n",
    "# with open(f\"./scripts/gym_v3/round2_stitch_{Config.dataset}_H40.pkl\", 'rb') as f:\n",
    "#     aug_list_2 = pickle.load(f)\n"
   ]
  },
  {
   "cell_type": "code",
   "execution_count": 18,
   "id": "52a8c427-7d78-489a-977f-b221ee2c0e4e",
   "metadata": {},
   "outputs": [
    {
     "data": {
      "text/plain": [
       "6286"
      ]
     },
     "execution_count": 18,
     "metadata": {},
     "output_type": "execute_result"
    }
   ],
   "source": [
    "len(aug_list_1)"
   ]
  },
  {
   "cell_type": "code",
   "execution_count": 19,
   "id": "07d6e3a7-ae60-4724-9edb-9396f1dd7a2c",
   "metadata": {},
   "outputs": [],
   "source": [
    "trj2_idx = [l[2] for l in aug_list_1]"
   ]
  },
  {
   "cell_type": "code",
   "execution_count": 20,
   "id": "eb8b89ac-2200-42cc-98e0-2d2a810f4e7d",
   "metadata": {},
   "outputs": [],
   "source": [
    "trj1_idx = [l[0] for l in aug_list_1]"
   ]
  },
  {
   "cell_type": "code",
   "execution_count": 21,
   "id": "21818493-b40e-4d1b-b81d-a4507d81cfca",
   "metadata": {},
   "outputs": [
    {
     "data": {
      "text/plain": [
       "(2623,)"
      ]
     },
     "execution_count": 21,
     "metadata": {},
     "output_type": "execute_result"
    }
   ],
   "source": [
    "np.unique(trj2_idx+trj1_idx).shape"
   ]
  },
  {
   "cell_type": "code",
   "execution_count": 60,
   "id": "ac2dd98d-4bb1-4771-84ef-e5484c57b9ee",
   "metadata": {},
   "outputs": [
    {
     "data": {
      "text/plain": [
       "6339"
      ]
     },
     "execution_count": 60,
     "metadata": {},
     "output_type": "execute_result"
    }
   ],
   "source": [
    "len(aug_list_1)"
   ]
  },
  {
   "cell_type": "code",
   "execution_count": 22,
   "id": "e04862f7-746b-4da8-9e33-85301d468535",
   "metadata": {},
   "outputs": [
    {
     "data": {
      "text/plain": [
       "7106"
      ]
     },
     "execution_count": 22,
     "metadata": {},
     "output_type": "execute_result"
    }
   ],
   "source": [
    "len(data_buffer.info)"
   ]
  },
  {
   "cell_type": "code",
   "execution_count": 23,
   "id": "343a0354-daa1-41f1-9a1e-deaf450deb1c",
   "metadata": {},
   "outputs": [
    {
     "ename": "NameError",
     "evalue": "name 'aug_list_2' is not defined",
     "output_type": "error",
     "traceback": [
      "\u001b[0;31m---------------------------------------------------------------------------\u001b[0m",
      "\u001b[0;31mNameError\u001b[0m                                 Traceback (most recent call last)",
      "Cell \u001b[0;32mIn[23], line 1\u001b[0m\n\u001b[0;32m----> 1\u001b[0m trj2_idx \u001b[38;5;241m=\u001b[39m \u001b[43maug_list_2\u001b[49m[\u001b[38;5;241m0\u001b[39m][\u001b[38;5;241m2\u001b[39m]\n\u001b[1;32m      2\u001b[0m trj1_idx \u001b[38;5;241m=\u001b[39m aug_list_2[\u001b[38;5;241m0\u001b[39m][\u001b[38;5;241m0\u001b[39m]\n",
      "\u001b[0;31mNameError\u001b[0m: name 'aug_list_2' is not defined"
     ]
    }
   ],
   "source": [
    "trj2_idx = aug_list_2[0][2]\n",
    "trj1_idx = aug_list_2[0][0]"
   ]
  },
  {
   "cell_type": "code",
   "execution_count": 138,
   "id": "c6534e1c-4f90-411f-a1b1-5ed5df54a03a",
   "metadata": {},
   "outputs": [
    {
     "data": {
      "text/plain": [
       "5201"
      ]
     },
     "execution_count": 138,
     "metadata": {},
     "output_type": "execute_result"
    }
   ],
   "source": [
    "trj2_idx"
   ]
  },
  {
   "cell_type": "code",
   "execution_count": 139,
   "id": "648d6f87-8cab-48fa-992d-f7732ab4520c",
   "metadata": {},
   "outputs": [
    {
     "data": {
      "text/plain": [
       "0"
      ]
     },
     "execution_count": 139,
     "metadata": {},
     "output_type": "execute_result"
    }
   ],
   "source": [
    "traj2_segment_idx = aug_list_2[0][3]\n",
    "traj2_segment_idx"
   ]
  },
  {
   "cell_type": "code",
   "execution_count": 117,
   "id": "e3c15acc-b849-40bc-acbe-2ee1a71feec5",
   "metadata": {},
   "outputs": [
    {
     "data": {
      "text/plain": [
       "1640"
      ]
     },
     "execution_count": 117,
     "metadata": {},
     "output_type": "execute_result"
    }
   ],
   "source": [
    "trj1_idx"
   ]
  },
  {
   "cell_type": "code",
   "execution_count": 140,
   "id": "c4ea0c92-9a40-4ca2-bb94-a85cd8da0142",
   "metadata": {},
   "outputs": [
    {
     "data": {
      "text/plain": [
       "1"
      ]
     },
     "execution_count": 140,
     "metadata": {},
     "output_type": "execute_result"
    }
   ],
   "source": [
    "traj1_segment_idx = aug_list_2[0][1]\n",
    "traj1_segment_idx"
   ]
  },
  {
   "cell_type": "code",
   "execution_count": 120,
   "id": "9b8118c3-bb06-4564-923e-824164b08715",
   "metadata": {},
   "outputs": [
    {
     "data": {
      "text/plain": [
       "(2, 11)"
      ]
     },
     "execution_count": 120,
     "metadata": {},
     "output_type": "execute_result"
    }
   ],
   "source": [
    "aug_list_1[0][7].shape"
   ]
  },
  {
   "cell_type": "code",
   "execution_count": 125,
   "id": "713324de-a269-4db6-81d9-a03d05f07ae9",
   "metadata": {},
   "outputs": [
    {
     "data": {
      "text/plain": [
       "0.8446584"
      ]
     },
     "execution_count": 125,
     "metadata": {},
     "output_type": "execute_result"
    }
   ],
   "source": [
    "np.linalg.norm(stitch_1[0]['obs'][40]-stitch_1[0]['obs'][41])"
   ]
  },
  {
   "cell_type": "code",
   "execution_count": 124,
   "id": "edb95e14-b9a4-48ce-85fa-d6507d5205ad",
   "metadata": {},
   "outputs": [
    {
     "data": {
      "text/plain": [
       "2.6601565"
      ]
     },
     "execution_count": 124,
     "metadata": {},
     "output_type": "execute_result"
    }
   ],
   "source": [
    "np.linalg.norm(stitch_1[0]['obs'][39]-stitch_1[0]['obs'][41])"
   ]
  },
  {
   "cell_type": "code",
   "execution_count": 126,
   "id": "6cbf56a5-a1ff-43b7-bad0-0fd2f33fa471",
   "metadata": {},
   "outputs": [
    {
     "data": {
      "text/plain": [
       "array([ 0.91620415, -0.04483864, -1.1558075 , -0.2513629 , -0.22091874,\n",
       "        4.721695  , -1.7562622 ,  2.6023722 , -1.3889214 ,  2.6942945 ,\n",
       "       10.        ], dtype=float32)"
      ]
     },
     "execution_count": 126,
     "metadata": {},
     "output_type": "execute_result"
    }
   ],
   "source": [
    "stitch_1[0]['obs'][39,]"
   ]
  },
  {
   "cell_type": "code",
   "execution_count": 127,
   "id": "3b4ee536-2702-434b-9e4a-01b652a7bd1d",
   "metadata": {},
   "outputs": [
    {
     "data": {
      "text/plain": [
       "array([ 0.90151906, -0.02970576, -1.1710083 , -0.23382989, -0.1050427 ,\n",
       "        4.43068   , -1.912677  ,  1.1801413 , -2.4106526 ,  1.6894422 ,\n",
       "       10.        ], dtype=float32)"
      ]
     },
     "execution_count": 127,
     "metadata": {},
     "output_type": "execute_result"
    }
   ],
   "source": [
    "stitch_1[0]['obs'][40,]"
   ]
  },
  {
   "cell_type": "code",
   "execution_count": 23,
   "id": "8186f022-204d-424d-ae9c-9da8d05ec9e2",
   "metadata": {},
   "outputs": [
    {
     "name": "stdout",
     "output_type": "stream",
     "text": [
      "processed 6286 trajectories\n"
     ]
    }
   ],
   "source": [
    "stitch_1 = read_stitched_data(aug_list_1, env_dataset)\n",
    "stitch_1_dataset = StitchDataset(stitch_1)"
   ]
  },
  {
   "cell_type": "code",
   "execution_count": 25,
   "id": "78110ac4-e9fd-453d-937e-e119fb41ddb9",
   "metadata": {
    "scrolled": true
   },
   "outputs": [
    {
     "ename": "NameError",
     "evalue": "name 'aug_list_2' is not defined",
     "output_type": "error",
     "traceback": [
      "\u001b[0;31m---------------------------------------------------------------------------\u001b[0m",
      "\u001b[0;31mNameError\u001b[0m                                 Traceback (most recent call last)",
      "Cell \u001b[0;32mIn[25], line 1\u001b[0m\n\u001b[0;32m----> 1\u001b[0m stitch_2 \u001b[38;5;241m=\u001b[39m read_stitched_data(\u001b[43maug_list_2\u001b[49m, stitch_1_dataset)\n\u001b[1;32m      2\u001b[0m stitch_2_dataset \u001b[38;5;241m=\u001b[39m StitchDataset(stitch_2)\n",
      "\u001b[0;31mNameError\u001b[0m: name 'aug_list_2' is not defined"
     ]
    }
   ],
   "source": [
    "stitch_2 = read_stitched_data(aug_list_2, stitch_1_dataset)\n",
    "stitch_2_dataset = StitchDataset(stitch_2)"
   ]
  },
  {
   "cell_type": "code",
   "execution_count": 24,
   "id": "aa911650-335a-4193-b742-cbab26c79386",
   "metadata": {},
   "outputs": [],
   "source": [
    "def increased_return(aug_list, trj1_dataset, discount=0.99):\n",
    "    increased = []\n",
    "    for i in range(len(aug_list)):\n",
    "        rew = aug_list[i][9][1:]\n",
    "        if len(rew.shape) == 2:\n",
    "            rew = rew.squeeze(-1)\n",
    "        \n",
    "    \n",
    "        traj2_idx = aug_list[i][2]\n",
    "        traj2_segment_idx = aug_list[i][3]\n",
    "        trj2 = env_dataset.get_full_info_traj(traj2_idx)\n",
    "        trj2_rew = trj2['rew'][traj2_segment_idx:]\n",
    "        \n",
    "    \n",
    "        traj1_idx = aug_list[i][0]\n",
    "        traj1_segment_idx = aug_list[i][1]\n",
    "        trj1 = trj1_dataset.get_full_info_traj(traj1_idx)\n",
    "        trj1_rew = trj1['rew'][:traj1_segment_idx+Config.horizon]\n",
    "\n",
    "        new_rew = np.concatenate([trj1_rew, rew, trj2_rew], axis=0)\n",
    "    \n",
    "        origin_return = 0\n",
    "        for i in range(trj1_rew.shape[0]-1, -1, -1):\n",
    "            origin_return = trj1_rew[i] + origin_return*discount\n",
    "        new_return = 0\n",
    "        for i in range(new_rew.shape[0]-1, -1, -1):\n",
    "            new_return = new_rew[i] + new_return * discount\n",
    "        increase_ratio = new_return / abs(origin_return)\n",
    "        increased.append(increase_ratio)\n",
    "        \n",
    "    return np.array(increased)"
   ]
  },
  {
   "cell_type": "code",
   "execution_count": 25,
   "id": "44352c66-b1e1-48ee-85fd-de4da8956380",
   "metadata": {},
   "outputs": [],
   "source": [
    "round1_increase = increased_return(aug_list_1, env_dataset)"
   ]
  },
  {
   "cell_type": "code",
   "execution_count": 26,
   "id": "b65cab07-d644-45b0-8dd6-f5ba58cfc632",
   "metadata": {
    "scrolled": true
   },
   "outputs": [
    {
     "data": {
      "text/plain": [
       "(array([  3.,   1.,   2.,   3.,   1.,   0.,   1.,   4.,  36.,  67.,  88.,\n",
       "        179., 346., 364., 499., 518., 483., 443., 530., 394., 446., 358.,\n",
       "        246., 286., 254., 162., 143.,  87.,  66.,  61.,  26.,  35.,  23.,\n",
       "         32.,  13.,  18.,  11.,   5.,  10.,   4.,   2.,   3.,   0.,   1.,\n",
       "          5.,   3.,   1.,   2.,   2.,   1.,   0.,   0.,   2.,   0.,   6.,\n",
       "          2.,   1.,   5.,   0.,   0.,   0.,   0.,   0.,   0.,   0.,   0.,\n",
       "          0.,   0.,   0.,   0.,   0.,   0.,   0.,   0.,   0.,   0.,   0.,\n",
       "          0.,   0.,   0.,   0.,   0.,   1.,   0.,   0.,   0.,   0.,   0.,\n",
       "          0.,   0.,   0.,   0.,   0.,   0.,   0.,   0.,   0.,   0.,   0.,\n",
       "          1.]),\n",
       " array([1.0605971 , 1.11360949, 1.16662188, 1.21963427, 1.27264666,\n",
       "        1.32565905, 1.37867144, 1.43168383, 1.48469622, 1.5377086 ,\n",
       "        1.59072099, 1.64373338, 1.69674577, 1.74975816, 1.80277055,\n",
       "        1.85578294, 1.90879533, 1.96180772, 2.01482011, 2.0678325 ,\n",
       "        2.12084488, 2.17385727, 2.22686966, 2.27988205, 2.33289444,\n",
       "        2.38590683, 2.43891922, 2.49193161, 2.544944  , 2.59795639,\n",
       "        2.65096877, 2.70398116, 2.75699355, 2.81000594, 2.86301833,\n",
       "        2.91603072, 2.96904311, 3.0220555 , 3.07506789, 3.12808028,\n",
       "        3.18109266, 3.23410505, 3.28711744, 3.34012983, 3.39314222,\n",
       "        3.44615461, 3.499167  , 3.55217939, 3.60519178, 3.65820417,\n",
       "        3.71121656, 3.76422894, 3.81724133, 3.87025372, 3.92326611,\n",
       "        3.9762785 , 4.02929089, 4.08230328, 4.13531567, 4.18832806,\n",
       "        4.24134045, 4.29435283, 4.34736522, 4.40037761, 4.45339   ,\n",
       "        4.50640239, 4.55941478, 4.61242717, 4.66543956, 4.71845195,\n",
       "        4.77146434, 4.82447672, 4.87748911, 4.9305015 , 4.98351389,\n",
       "        5.03652628, 5.08953867, 5.14255106, 5.19556345, 5.24857584,\n",
       "        5.30158823, 5.35460061, 5.407613  , 5.46062539, 5.51363778,\n",
       "        5.56665017, 5.61966256, 5.67267495, 5.72568734, 5.77869973,\n",
       "        5.83171212, 5.88472451, 5.93773689, 5.99074928, 6.04376167,\n",
       "        6.09677406, 6.14978645, 6.20279884, 6.25581123, 6.30882362,\n",
       "        6.36183601]),\n",
       " <BarContainer object of 100 artists>)"
      ]
     },
     "execution_count": 26,
     "metadata": {},
     "output_type": "execute_result"
    },
    {
     "data": {
      "image/png": "[encoded data removed]",
      "text/plain": [
       "<Figure size 640x480 with 1 Axes>"
      ]
     },
     "metadata": {},
     "output_type": "display_data"
    }
   ],
   "source": [
    "plt.hist(round1_increase, bins=100)"
   ]
  },
  {
   "cell_type": "code",
   "execution_count": 27,
   "id": "d687e0b7-d969-498d-a880-4b910a3e1651",
   "metadata": {},
   "outputs": [
    {
     "data": {
      "text/plain": [
       "2.0631162036874895"
      ]
     },
     "execution_count": 27,
     "metadata": {},
     "output_type": "execute_result"
    }
   ],
   "source": [
    "round1_increase.mean()"
   ]
  },
  {
   "cell_type": "code",
   "execution_count": 28,
   "id": "39b191d8-6163-43dc-a644-b62467cbf78e",
   "metadata": {},
   "outputs": [
    {
     "data": {
      "text/plain": [
       "1.0"
      ]
     },
     "execution_count": 28,
     "metadata": {},
     "output_type": "execute_result"
    }
   ],
   "source": [
    "(round1_increase>=1).mean()"
   ]
  },
  {
   "cell_type": "code",
   "execution_count": 29,
   "id": "0789ff8b-ded6-40da-a71c-e6a448ed44e6",
   "metadata": {},
   "outputs": [],
   "source": [
    "def trj2_gt_trj1(aug_list, trj1_dataset, discount=0.99):\n",
    "    increased = []\n",
    "    for i in range(len(aug_list)):\n",
    "        rew = aug_list[i][9][1:]\n",
    "        if len(rew.shape) == 2:\n",
    "            rew = rew.squeeze(-1)\n",
    "        \n",
    "    \n",
    "        traj2_idx = aug_list[i][2]\n",
    "        traj2_segment_idx = aug_list[i][3]\n",
    "        trj2 = env_dataset.get_full_info_traj(traj2_idx)\n",
    "        trj2_rew = trj2['rew'][traj2_segment_idx:]\n",
    "        \n",
    "    \n",
    "        traj1_idx = aug_list[i][0]\n",
    "        traj1_segment_idx = aug_list[i][1]\n",
    "        trj1 = trj1_dataset.get_full_info_traj(traj1_idx)\n",
    "        trj1_rew = trj1['rew'][:traj1_segment_idx+Config.horizon]\n",
    "\n",
    "        trj2_rew = np.concatenate([trj2_rew], axis=0)\n",
    "    \n",
    "        trj1_return = 0\n",
    "        for i in range(trj1_rew.shape[0]-1, -1, -1):\n",
    "            trj1_return = trj1_rew[i] + trj1_return*discount\n",
    "        \n",
    "        trj2_return = 0\n",
    "        for i in range(trj2_rew.shape[0]-1, -1, -1):\n",
    "            trj2_return = trj2_rew[i] + trj2_return * discount\n",
    "        \n",
    "        increase_ratio = trj2_return / abs(trj1_return)\n",
    "        increased.append(increase_ratio)\n",
    "        \n",
    "    return np.array(increased)"
   ]
  },
  {
   "cell_type": "code",
   "execution_count": 30,
   "id": "cede3d42-1f6e-4af3-8450-1ca3830b57ac",
   "metadata": {},
   "outputs": [],
   "source": [
    "def reward_per_step(aug_list, trj1_dataset, discount=0.99):\n",
    "    increased = []\n",
    "    for i in range(len(aug_list)):\n",
    "        rew = aug_list[i][9][1:]\n",
    "        if len(rew.shape) == 2:\n",
    "            rew = rew.squeeze(-1)\n",
    "        \n",
    "    \n",
    "        traj2_idx = aug_list[i][2]\n",
    "        traj2_segment_idx = aug_list[i][3]\n",
    "        trj2 = env_dataset.get_full_info_traj(traj2_idx)\n",
    "        trj2_rew = trj2['rew'][traj2_segment_idx:]\n",
    "\n",
    "        trj2_rew = np.concatenate([trj2_rew], axis=0)\n",
    "    \n",
    "        traj1_idx = aug_list[i][0]\n",
    "        traj1_segment_idx = aug_list[i][1]\n",
    "        trj1 = trj1_dataset.get_full_info_traj(traj1_idx)\n",
    "        trj1_rew = trj1['rew'][:traj1_segment_idx+Config.horizon]\n",
    "\n",
    "        new_rew = np.concatenate([trj1_rew, rew, trj2_rew], axis=0)\n",
    "    \n",
    "        increased.append(new_rew.mean() / trj1_rew.mean())\n",
    "        \n",
    "    return np.array(increased)"
   ]
  },
  {
   "cell_type": "code",
   "execution_count": 31,
   "id": "e84f409a-b7cf-47bd-8fca-44c8d726ae4d",
   "metadata": {},
   "outputs": [],
   "source": [
    "trj2_minus_trj1 = trj2_gt_trj1(aug_list_1, env_dataset)"
   ]
  },
  {
   "cell_type": "code",
   "execution_count": 32,
   "id": "1f5d21e2-03a2-4b8b-a62d-82d9eb3b1bbb",
   "metadata": {
    "scrolled": true
   },
   "outputs": [
    {
     "data": {
      "text/plain": [
       "(array([  6.,   2.,   1.,   0.,   2.,  11.,  14.,  24.,  40.,  73., 129.,\n",
       "        230., 316., 429., 503., 408., 445., 422., 377., 372., 379., 375.,\n",
       "        351., 234., 222., 211., 181., 121., 109.,  54.,  40.,  51.,  28.,\n",
       "         19.,  20.,   9.,  14.,  11.,   4.,   3.,   7.,   2.,   1.,   3.,\n",
       "          1.,   0.,   6.,   2.,   2.,   0.,   2.,   1.,   1.,   0.,   1.,\n",
       "          0.,   0.,   2.,  10.,   3.,   0.,   0.,   0.,   0.,   0.,   0.,\n",
       "          0.,   0.,   0.,   0.,   0.,   0.,   0.,   0.,   0.,   0.,   0.,\n",
       "          0.,   0.,   0.,   0.,   0.,   0.,   0.,   0.,   0.,   0.,   0.,\n",
       "          1.,   0.,   0.,   0.,   0.,   0.,   0.,   0.,   0.,   0.,   0.,\n",
       "          1.]),\n",
       " array([0.09630327, 0.17455769, 0.25281211, 0.33106654, 0.40932096,\n",
       "        0.48757538, 0.5658298 , 0.64408422, 0.72233865, 0.80059307,\n",
       "        0.87884749, 0.95710191, 1.03535633, 1.11361076, 1.19186518,\n",
       "        1.2701196 , 1.34837402, 1.42662844, 1.50488287, 1.58313729,\n",
       "        1.66139171, 1.73964613, 1.81790056, 1.89615498, 1.9744094 ,\n",
       "        2.05266382, 2.13091824, 2.20917267, 2.28742709, 2.36568151,\n",
       "        2.44393593, 2.52219035, 2.60044478, 2.6786992 , 2.75695362,\n",
       "        2.83520804, 2.91346246, 2.99171689, 3.06997131, 3.14822573,\n",
       "        3.22648015, 3.30473457, 3.382989  , 3.46124342, 3.53949784,\n",
       "        3.61775226, 3.69600669, 3.77426111, 3.85251553, 3.93076995,\n",
       "        4.00902437, 4.0872788 , 4.16553322, 4.24378764, 4.32204206,\n",
       "        4.40029648, 4.47855091, 4.55680533, 4.63505975, 4.71331417,\n",
       "        4.79156859, 4.86982302, 4.94807744, 5.02633186, 5.10458628,\n",
       "        5.1828407 , 5.26109513, 5.33934955, 5.41760397, 5.49585839,\n",
       "        5.57411282, 5.65236724, 5.73062166, 5.80887608, 5.8871305 ,\n",
       "        5.96538493, 6.04363935, 6.12189377, 6.20014819, 6.27840261,\n",
       "        6.35665704, 6.43491146, 6.51316588, 6.5914203 , 6.66967472,\n",
       "        6.74792915, 6.82618357, 6.90443799, 6.98269241, 7.06094683,\n",
       "        7.13920126, 7.21745568, 7.2957101 , 7.37396452, 7.45221895,\n",
       "        7.53047337, 7.60872779, 7.68698221, 7.76523663, 7.84349106,\n",
       "        7.92174548]),\n",
       " <BarContainer object of 100 artists>)"
      ]
     },
     "execution_count": 32,
     "metadata": {},
     "output_type": "execute_result"
    },
    {
     "data": {
      "image/png": "[encoded data removed]",
      "text/plain": [
       "<Figure size 640x480 with 1 Axes>"
      ]
     },
     "metadata": {},
     "output_type": "display_data"
    }
   ],
   "source": [
    "plt.hist(trj2_minus_trj1, bins=100)"
   ]
  },
  {
   "cell_type": "code",
   "execution_count": 33,
   "id": "b952a0d6-1011-4cf2-b7e9-0969155f3ee6",
   "metadata": {},
   "outputs": [
    {
     "data": {
      "text/plain": [
       "0.9357301940820871"
      ]
     },
     "execution_count": 33,
     "metadata": {},
     "output_type": "execute_result"
    }
   ],
   "source": [
    "(trj2_minus_trj1>1).mean()"
   ]
  },
  {
   "cell_type": "code",
   "execution_count": 34,
   "id": "4ec0d0bf-8156-4802-846a-a3b65099b821",
   "metadata": {},
   "outputs": [],
   "source": [
    "reward_pt = reward_per_step(aug_list_1, env_dataset)"
   ]
  },
  {
   "cell_type": "code",
   "execution_count": 35,
   "id": "933e545e-bdcb-4f30-b846-5eee2d707706",
   "metadata": {
    "scrolled": true
   },
   "outputs": [
    {
     "data": {
      "text/plain": [
       "(array([  6.,   2.,   1.,   0.,   2.,  11.,  14.,  24.,  40.,  73., 129.,\n",
       "        230., 316., 429., 503., 408., 445., 422., 377., 372., 379., 375.,\n",
       "        351., 234., 222., 211., 181., 121., 109.,  54.,  40.,  51.,  28.,\n",
       "         19.,  20.,   9.,  14.,  11.,   4.,   3.,   7.,   2.,   1.,   3.,\n",
       "          1.,   0.,   6.,   2.,   2.,   0.,   2.,   1.,   1.,   0.,   1.,\n",
       "          0.,   0.,   2.,  10.,   3.,   0.,   0.,   0.,   0.,   0.,   0.,\n",
       "          0.,   0.,   0.,   0.,   0.,   0.,   0.,   0.,   0.,   0.,   0.,\n",
       "          0.,   0.,   0.,   0.,   0.,   0.,   0.,   0.,   0.,   0.,   0.,\n",
       "          1.,   0.,   0.,   0.,   0.,   0.,   0.,   0.,   0.,   0.,   0.,\n",
       "          1.]),\n",
       " array([0.09630327, 0.17455769, 0.25281211, 0.33106654, 0.40932096,\n",
       "        0.48757538, 0.5658298 , 0.64408422, 0.72233865, 0.80059307,\n",
       "        0.87884749, 0.95710191, 1.03535633, 1.11361076, 1.19186518,\n",
       "        1.2701196 , 1.34837402, 1.42662844, 1.50488287, 1.58313729,\n",
       "        1.66139171, 1.73964613, 1.81790056, 1.89615498, 1.9744094 ,\n",
       "        2.05266382, 2.13091824, 2.20917267, 2.28742709, 2.36568151,\n",
       "        2.44393593, 2.52219035, 2.60044478, 2.6786992 , 2.75695362,\n",
       "        2.83520804, 2.91346246, 2.99171689, 3.06997131, 3.14822573,\n",
       "        3.22648015, 3.30473457, 3.382989  , 3.46124342, 3.53949784,\n",
       "        3.61775226, 3.69600669, 3.77426111, 3.85251553, 3.93076995,\n",
       "        4.00902437, 4.0872788 , 4.16553322, 4.24378764, 4.32204206,\n",
       "        4.40029648, 4.47855091, 4.55680533, 4.63505975, 4.71331417,\n",
       "        4.79156859, 4.86982302, 4.94807744, 5.02633186, 5.10458628,\n",
       "        5.1828407 , 5.26109513, 5.33934955, 5.41760397, 5.49585839,\n",
       "        5.57411282, 5.65236724, 5.73062166, 5.80887608, 5.8871305 ,\n",
       "        5.96538493, 6.04363935, 6.12189377, 6.20014819, 6.27840261,\n",
       "        6.35665704, 6.43491146, 6.51316588, 6.5914203 , 6.66967472,\n",
       "        6.74792915, 6.82618357, 6.90443799, 6.98269241, 7.06094683,\n",
       "        7.13920126, 7.21745568, 7.2957101 , 7.37396452, 7.45221895,\n",
       "        7.53047337, 7.60872779, 7.68698221, 7.76523663, 7.84349106,\n",
       "        7.92174548]),\n",
       " <BarContainer object of 100 artists>)"
      ]
     },
     "execution_count": 35,
     "metadata": {},
     "output_type": "execute_result"
    },
    {
     "data": {
      "image/png": "[encoded data removed]",
      "text/plain": [
       "<Figure size 640x480 with 1 Axes>"
      ]
     },
     "metadata": {},
     "output_type": "display_data"
    }
   ],
   "source": [
    "plt.hist(trj2_minus_trj1, bins=100)"
   ]
  },
  {
   "cell_type": "code",
   "execution_count": 36,
   "id": "53f5da48-18bf-44a3-a658-cacd4a9343de",
   "metadata": {},
   "outputs": [
    {
     "data": {
      "text/plain": [
       "1.2747536"
      ]
     },
     "execution_count": 36,
     "metadata": {},
     "output_type": "execute_result"
    }
   ],
   "source": [
    "reward_pt.mean()"
   ]
  },
  {
   "cell_type": "code",
   "execution_count": 37,
   "id": "d9fe1da0-3b90-464b-906c-055fd74b791b",
   "metadata": {},
   "outputs": [
    {
     "data": {
      "text/plain": [
       "0.9317531021317212"
      ]
     },
     "execution_count": 37,
     "metadata": {},
     "output_type": "execute_result"
    }
   ],
   "source": [
    "(reward_pt>=1).mean()"
   ]
  },
  {
   "cell_type": "code",
   "execution_count": 38,
   "id": "80b05ccd-b010-463d-ade0-f52f106c38ad",
   "metadata": {},
   "outputs": [],
   "source": [
    "def post_process_stitched_trjs(stitched_trjs, last=False):\n",
    "    # for trj in stitched_trjs:\n",
    "    #     trj['dones'][-1] = True\n",
    "    \n",
    "    post_process_stitch = defaultdict(list)\n",
    "    for trj in stitched_trjs:\n",
    "        timeouts = copy(trj['dones'])\n",
    "        timeouts[-1] = not trj['dones'][-1]\n",
    "        \n",
    "        post_process_stitch['actions'].extend(trj['act'])\n",
    "        post_process_stitch['observations'].extend(trj['obs'])\n",
    "        post_process_stitch['terminals'].extend(trj['dones'])\n",
    "        post_process_stitch['rewards'].extend(trj['rew'])\n",
    "        post_process_stitch['timeouts'].extend(timeouts)\n",
    "    for k in post_process_stitch:\n",
    "\n",
    "        post_process_stitch[k] = np.array(post_process_stitch[k])\n",
    "    return post_process_stitch"
   ]
  },
  {
   "cell_type": "code",
   "execution_count": 39,
   "id": "2558b601-bc08-4556-b5c6-053133abffd1",
   "metadata": {},
   "outputs": [],
   "source": [
    "post_processed_stitch1 = post_process_stitched_trjs(stitch_1)\n"
   ]
  },
  {
   "cell_type": "code",
   "execution_count": 135,
   "id": "054161ec-6da0-468e-ac2c-56228805605a",
   "metadata": {},
   "outputs": [],
   "source": [
    "post_processed_stitch2 = post_process_stitched_trjs(stitch_2)"
   ]
  },
  {
   "cell_type": "code",
   "execution_count": 95,
   "id": "ec7b5839-c83d-4d5f-817d-c2b1a865880e",
   "metadata": {},
   "outputs": [
    {
     "ename": "NameError",
     "evalue": "name 'stitch_2' is not defined",
     "output_type": "error",
     "traceback": [
      "\u001b[0;31m---------------------------------------------------------------------------\u001b[0m",
      "\u001b[0;31mNameError\u001b[0m                                 Traceback (most recent call last)",
      "Cell \u001b[0;32mIn[95], line 1\u001b[0m\n\u001b[0;32m----> 1\u001b[0m dones \u001b[38;5;241m=\u001b[39m np\u001b[38;5;241m.\u001b[39marray([\u001b[38;5;28msum\u001b[39m(seq[\u001b[38;5;124m'\u001b[39m\u001b[38;5;124mdones\u001b[39m\u001b[38;5;124m'\u001b[39m]) \u001b[38;5;28;01mfor\u001b[39;00m seq \u001b[38;5;129;01min\u001b[39;00m \u001b[43mstitch_2\u001b[49m])\n",
      "\u001b[0;31mNameError\u001b[0m: name 'stitch_2' is not defined"
     ]
    }
   ],
   "source": [
    "dones = np.array([sum(seq['dones']) for seq in stitch_2])"
   ]
  },
  {
   "cell_type": "code",
   "execution_count": null,
   "id": "6ee50ea9-43ee-4a5a-80fe-115d610734ef",
   "metadata": {},
   "outputs": [],
   "source": [
    "post_processed_stitch1['timeouts'].sum()"
   ]
  },
  {
   "cell_type": "code",
   "execution_count": 107,
   "id": "1d43978e-f3d7-4a1b-80c4-3c3fbc8c73d7",
   "metadata": {},
   "outputs": [
    {
     "data": {
      "text/plain": [
       "'walker2d-medium-replay-v2'"
      ]
     },
     "execution_count": 107,
     "metadata": {},
     "output_type": "execute_result"
    }
   ],
   "source": [
    "Config.dataset"
   ]
  },
  {
   "cell_type": "code",
   "execution_count": 22,
   "id": "1542ca98-09dd-4c75-beb9-74f67fdbfda2",
   "metadata": {},
   "outputs": [],
   "source": [
    "final_done = [stitch_1[idx]['dones'][-1] for idx in indices]"
   ]
  },
  {
   "cell_type": "code",
   "execution_count": 40,
   "id": "de9316e8-c33d-463c-b8a6-cc6ca8767291",
   "metadata": {},
   "outputs": [
    {
     "name": "stdout",
     "output_type": "stream",
     "text": [
      "actions shape: (722401, 3)\n",
      "observations shape: (722401, 11)\n",
      "terminals shape: (722401,)\n",
      "rewards shape: (722401,)\n",
      "timeouts shape: (722401,)\n"
     ]
    }
   ],
   "source": [
    "for k in post_processed_stitch1:\n",
    "    print(f'{k} shape: {post_processed_stitch1[k].shape}')"
   ]
  },
  {
   "cell_type": "code",
   "execution_count": 24,
   "id": "52663274-fc25-42a7-a8b5-e87fa5f63483",
   "metadata": {},
   "outputs": [
    {
     "data": {
      "text/plain": [
       "array([-0.71396416,  0.30277994,  0.6727203 ,  0.83401775,  0.60441285,\n",
       "       -0.897235  ], dtype=float32)"
      ]
     },
     "execution_count": 24,
     "metadata": {},
     "output_type": "execute_result"
    }
   ],
   "source": [
    "stitch_1[1]['act'][40]"
   ]
  },
  {
   "cell_type": "code",
   "execution_count": 21,
   "id": "a368ec6d-434b-46be-a7ec-0bc69014a3bb",
   "metadata": {},
   "outputs": [
    {
     "name": "stdout",
     "output_type": "stream",
     "text": [
      "actions shape: (627833, 3)\n",
      "observations shape: (627833, 11)\n",
      "terminals shape: (627833,)\n",
      "rewards shape: (627833,)\n",
      "timeouts shape: (627833,)\n"
     ]
    }
   ],
   "source": [
    "for k in post_processed_stitch2:\n",
    "    print(f'{k} shape: {post_processed_stitch2[k].shape}')"
   ]
  },
  {
   "cell_type": "code",
   "execution_count": 41,
   "id": "159850b6-c6e2-44f8-bef9-0837b0677b87",
   "metadata": {},
   "outputs": [],
   "source": [
    "file1_name = f\"./scripts/gym_vad/round1_stitch_{Config.dataset}_H50-v2.pkl\"\n",
    "# file2_name = f\"./scripts/gym_v3/round2_stitch_{Config.dataset}_H40-v2.pkl\"\n"
   ]
  },
  {
   "cell_type": "code",
   "execution_count": 42,
   "id": "a1a393b3-f3a6-4874-8177-638eea927130",
   "metadata": {},
   "outputs": [],
   "source": [
    "with open(file1_name, 'wb') as f:\n",
    "    pickle.dump(post_processed_stitch1, f)\n",
    "\n",
    "# with open(file2_name, 'wb') as f:\n",
    "#     pickle.dump(post_processed_stitch2, f)\n"
   ]
  },
  {
   "cell_type": "code",
   "execution_count": 97,
   "id": "b4aaea98-90a0-4913-a11a-bfe960407b74",
   "metadata": {},
   "outputs": [],
   "source": [
    "idx_80 = np.concatenate([np.where(trans_len1 == 81)[0], np.where(trans_len1 == 80)[0]])"
   ]
  },
  {
   "cell_type": "code",
   "execution_count": 98,
   "id": "52ee92a1-0fb4-4e05-8935-508c064b03aa",
   "metadata": {},
   "outputs": [
    {
     "data": {
      "text/plain": [
       "(1886,)"
      ]
     },
     "execution_count": 98,
     "metadata": {},
     "output_type": "execute_result"
    }
   ],
   "source": [
    "idx_80.shape"
   ]
  },
  {
   "cell_type": "code",
   "execution_count": 43,
   "id": "2ef949c4-8b6f-41aa-8e4f-2cc06a4185a4",
   "metadata": {},
   "outputs": [],
   "source": [
    "i = 0\n",
    "trj_ = []\n",
    "for idx in range(len(aug_list_1)):\n",
    "    trj2_idx = aug_list_1[idx][2]\n",
    "    trj1_idx = aug_list_1[idx][0]\n",
    "    if trj2_idx == trj1_idx + 1:\n",
    "        i += 1\n",
    "        trj_.append(trj1_idx)"
   ]
  },
  {
   "cell_type": "code",
   "execution_count": 44,
   "id": "131479ac-c8d0-4d86-a179-0d4d9d2b0741",
   "metadata": {},
   "outputs": [
    {
     "ename": "NameError",
     "evalue": "name 'trans_len1' is not defined",
     "output_type": "error",
     "traceback": [
      "\u001b[0;31m---------------------------------------------------------------------------\u001b[0m",
      "\u001b[0;31mNameError\u001b[0m                                 Traceback (most recent call last)",
      "Cell \u001b[0;32mIn[44], line 1\u001b[0m\n\u001b[0;32m----> 1\u001b[0m \u001b[43mtrans_len1\u001b[49m[:\u001b[38;5;241m10\u001b[39m]\n",
      "\u001b[0;31mNameError\u001b[0m: name 'trans_len1' is not defined"
     ]
    }
   ],
   "source": [
    "trans_len1[:10]"
   ]
  },
  {
   "cell_type": "code",
   "execution_count": 45,
   "id": "b45e36d4-f1da-4c1a-b8c4-82b2c538c1e7",
   "metadata": {},
   "outputs": [
    {
     "data": {
      "text/plain": [
       "62"
      ]
     },
     "execution_count": 45,
     "metadata": {},
     "output_type": "execute_result"
    }
   ],
   "source": [
    "i"
   ]
  },
  {
   "cell_type": "code",
   "execution_count": 46,
   "id": "e1f93da4-d4e7-4641-80ea-c06f7cdda438",
   "metadata": {},
   "outputs": [
    {
     "data": {
      "text/plain": [
       "(41,)"
      ]
     },
     "execution_count": 46,
     "metadata": {},
     "output_type": "execute_result"
    }
   ],
   "source": [
    "np.unique(trj_).shape"
   ]
  },
  {
   "cell_type": "code",
   "execution_count": 71,
   "id": "9b220338-c98b-4faa-9697-2037f8e282a3",
   "metadata": {},
   "outputs": [],
   "source": [
    "trj_idx = np.array([path['traj_idx'] for path in data_buffer.info])"
   ]
  },
  {
   "cell_type": "code",
   "execution_count": 58,
   "id": "2d959330-08bb-41ca-b89e-2961a1841f41",
   "metadata": {},
   "outputs": [
    {
     "data": {
      "text/plain": [
       "(9131,)"
      ]
     },
     "execution_count": 58,
     "metadata": {},
     "output_type": "execute_result"
    }
   ],
   "source": [
    "np.unique(trj_idx).shape"
   ]
  },
  {
   "cell_type": "code",
   "execution_count": 32,
   "id": "9b2ca68f-873f-4b3c-acbd-44fc0727e8c0",
   "metadata": {},
   "outputs": [],
   "source": [
    "path_len = np.array([path['obs'].shape[0] for path in data_buffer.info])"
   ]
  },
  {
   "cell_type": "code",
   "execution_count": 85,
   "id": "ab5be93c-2bb4-4b3f-823e-111af4b9d5cd",
   "metadata": {},
   "outputs": [],
   "source": [
    "path_first_obs = np.array([path['obs'][0] for path in data_buffer.info])"
   ]
  },
  {
   "cell_type": "code",
   "execution_count": 86,
   "id": "95e4bdff-d50e-4745-bb44-b47e7572c7d8",
   "metadata": {},
   "outputs": [],
   "source": [
    "path_lat_obs = np.array([path['obs'][-1] for path in data_buffer.info])"
   ]
  },
  {
   "cell_type": "code",
   "execution_count": 90,
   "id": "c2eede81-84ee-4396-ae25-dc088c4d7f9c",
   "metadata": {},
   "outputs": [
    {
     "data": {
      "text/plain": [
       "0.9980928"
      ]
     },
     "execution_count": 90,
     "metadata": {},
     "output_type": "execute_result"
    }
   ],
   "source": [
    "np.dot(path_lat_obs[5761] / np.linalg.norm(path_lat_obs[5761]), path_first_obs[5762]/np.linalg.norm(path_first_obs[5762]))"
   ]
  },
  {
   "cell_type": "code",
   "execution_count": 76,
   "id": "3d223995-1d84-4b60-8d0b-4e1438fbc9fa",
   "metadata": {},
   "outputs": [
    {
     "data": {
      "text/plain": [
       "array([ 1.3244245 ,  0.30586362,  0.03146961,  0.02950273,  0.82102716,\n",
       "       -0.03242583, -0.81312454, -0.81771326,  2.9789536 , -0.38011533,\n",
       "       -1.767794  ,  0.12680785, -0.0884762 , -0.190126  , -1.3224595 ,\n",
       "       -3.9007967 ,  0.45649   ], dtype=float32)"
      ]
     },
     "execution_count": 76,
     "metadata": {},
     "output_type": "execute_result"
    }
   ],
   "source": [
    "path_first_obs[5762]"
   ]
  },
  {
   "cell_type": "code",
   "execution_count": 89,
   "id": "0789f391-cd70-43a8-ab46-6bb1c72b1e87",
   "metadata": {},
   "outputs": [
    {
     "data": {
      "text/plain": [
       "0.40676054"
      ]
     },
     "execution_count": 89,
     "metadata": {},
     "output_type": "execute_result"
    }
   ],
   "source": [
    "np.linalg.norm(path_lat_obs[5761]- path_first_obs[5762])"
   ]
  },
  {
   "cell_type": "code",
   "execution_count": 87,
   "id": "d20b22fa-3743-4340-96c0-a34b731b950b",
   "metadata": {
    "scrolled": true
   },
   "outputs": [
    {
     "name": "stdout",
     "output_type": "stream",
     "text": [
      "processed 0th sample\n",
      "processed 1000th sample\n",
      "processed 2000th sample\n",
      "processed 3000th sample\n",
      "processed 4000th sample\n",
      "processed 5000th sample\n",
      "processed 6000th sample\n",
      "processed 7000th sample\n"
     ]
    }
   ],
   "source": [
    "num_ = path_lat_obs.shape[0]\n",
    "\n",
    "dist = []\n",
    "for i in range(num_):\n",
    "    dist.append(np.linalg.norm(path_lat_obs[i:i+1] - path_first_obs, axis=-1))\n",
    "    if i % 1000 == 0:\n",
    "        print(f'processed {i}th sample')"
   ]
  },
  {
   "cell_type": "code",
   "execution_count": 123,
   "id": "7a27ab5c-eeb3-4abb-b862-ed2db2ce85b9",
   "metadata": {},
   "outputs": [
    {
     "data": {
      "text/plain": [
       "(9131, 9131)"
      ]
     },
     "execution_count": 123,
     "metadata": {},
     "output_type": "execute_result"
    }
   ],
   "source": [
    "dist = np.array(dist)\n",
    "dist.shape"
   ]
  },
  {
   "cell_type": "code",
   "execution_count": 127,
   "id": "600d399c-b401-4f98-95ba-b7158f62cac1",
   "metadata": {},
   "outputs": [
    {
     "data": {
      "text/plain": [
       "array([5762, 6219, 6850, 6576, 3479, 6797, 5686, 5633, 6889, 7017])"
      ]
     },
     "execution_count": 127,
     "metadata": {},
     "output_type": "execute_result"
    }
   ],
   "source": [
    "dist[5761].argsort()[:10]"
   ]
  },
  {
   "cell_type": "code",
   "execution_count": 33,
   "id": "7c4063e0-9b28-4836-8a97-5265733bc57e",
   "metadata": {},
   "outputs": [],
   "source": [
    "dist_idx = []\n",
    "for i in range(num_):\n",
    "    if dist[i].argmin() == i+1:\n",
    "        dist_idx.append(i)"
   ]
  },
  {
   "cell_type": "code",
   "execution_count": 34,
   "id": "462603e9-e6a8-4eeb-ad38-de31a89903c9",
   "metadata": {},
   "outputs": [
    {
     "data": {
      "text/plain": [
       "852"
      ]
     },
     "execution_count": 34,
     "metadata": {},
     "output_type": "execute_result"
    }
   ],
   "source": [
    "len(dist_idx)"
   ]
  },
  {
   "cell_type": "code",
   "execution_count": null,
   "id": "845b3fa0-382e-4ecc-b549-179d40d00705",
   "metadata": {},
   "outputs": [],
   "source": []
  },
  {
   "cell_type": "code",
   "execution_count": 129,
   "id": "6048852a-28c6-4808-b393-7947eb2b2f6a",
   "metadata": {},
   "outputs": [
    {
     "data": {
      "text/plain": [
       "array([5762, 6219, 6850, 4139, 3796, 4736, 6797, 5996, 5633, 6651])"
      ]
     },
     "execution_count": 129,
     "metadata": {},
     "output_type": "execute_result"
    }
   ],
   "source": [
    "sim[5761].argsort()[-10:][::-1]"
   ]
  },
  {
   "cell_type": "code",
   "execution_count": 88,
   "id": "b518aabd-e0b0-4ba3-b9f8-60db7d975626",
   "metadata": {
    "scrolled": true
   },
   "outputs": [
    {
     "name": "stdout",
     "output_type": "stream",
     "text": [
      "processed 0th sample\n",
      "processed 1000th sample\n",
      "processed 2000th sample\n",
      "processed 3000th sample\n",
      "processed 4000th sample\n",
      "processed 5000th sample\n",
      "processed 6000th sample\n",
      "processed 7000th sample\n"
     ]
    }
   ],
   "source": [
    "num_ = path_lat_obs.shape[0]\n",
    "x_norm = np.linalg.norm(path_lat_obs, axis=1, keepdims=True)\n",
    "x_normed = path_lat_obs / x_norm\n",
    "\n",
    "y_norm = np.linalg.norm(path_first_obs, axis=1, keepdims=True)\n",
    "y_normed = (path_first_obs / y_norm).transpose()\n",
    "\n",
    "\n",
    "    \n",
    "sim = []\n",
    "for i in range(num_):\n",
    "    sim.append(np.dot(x_normed[i:i+1], y_normed))\n",
    "    if i % 1000 == 0:\n",
    "        print(f'processed {i}th sample')"
   ]
  },
  {
   "cell_type": "code",
   "execution_count": 27,
   "id": "771f6ed1-8136-477c-9025-3b437fd1e06e",
   "metadata": {},
   "outputs": [],
   "source": [
    "sim = np.concatenate(sim, axis=0)"
   ]
  },
  {
   "cell_type": "code",
   "execution_count": 93,
   "id": "560032bc-0539-4b4f-af13-30c5e1c380d2",
   "metadata": {},
   "outputs": [],
   "source": [
    "cnt = 0\n",
    "for i in range(num_):\n",
    "    if sim[i].argmax() == i+1:\n",
    "        cnt += 1"
   ]
  },
  {
   "cell_type": "code",
   "execution_count": 94,
   "id": "1404b78c-5dbf-4421-87e4-1f12ec3ab051",
   "metadata": {},
   "outputs": [
    {
     "data": {
      "text/plain": [
       "767"
      ]
     },
     "execution_count": 94,
     "metadata": {},
     "output_type": "execute_result"
    }
   ],
   "source": [
    "cnt"
   ]
  },
  {
   "cell_type": "code",
   "execution_count": 113,
   "id": "08636d9d-3226-4e67-9669-08a4b4ddcd24",
   "metadata": {},
   "outputs": [],
   "source": [
    "idx_97 = np.where(sim.max(-1) > 0.99)[0]"
   ]
  },
  {
   "cell_type": "code",
   "execution_count": 91,
   "id": "ecaff368-0508-4ccc-a916-06f02f1e2459",
   "metadata": {},
   "outputs": [
    {
     "ename": "NameError",
     "evalue": "name 'idx_97' is not defined",
     "output_type": "error",
     "traceback": [
      "\u001b[0;31m---------------------------------------------------------------------------\u001b[0m",
      "\u001b[0;31mNameError\u001b[0m                                 Traceback (most recent call last)",
      "Cell \u001b[0;32mIn[91], line 2\u001b[0m\n\u001b[1;32m      1\u001b[0m idx_sim \u001b[38;5;241m=\u001b[39m []\n\u001b[0;32m----> 2\u001b[0m \u001b[38;5;28;01mfor\u001b[39;00m idx \u001b[38;5;129;01min\u001b[39;00m \u001b[43midx_97\u001b[49m:\n\u001b[1;32m      3\u001b[0m     \u001b[38;5;28;01mif\u001b[39;00m sim[idx]\u001b[38;5;241m.\u001b[39margmax() \u001b[38;5;241m==\u001b[39m idx \u001b[38;5;241m+\u001b[39m \u001b[38;5;241m1\u001b[39m:\n\u001b[1;32m      4\u001b[0m         idx_sim\u001b[38;5;241m.\u001b[39mappend(idx)\n",
      "\u001b[0;31mNameError\u001b[0m: name 'idx_97' is not defined"
     ]
    }
   ],
   "source": [
    "idx_sim = []\n",
    "for idx in idx_97:\n",
    "    if sim[idx].argmax() == idx + 1:\n",
    "        idx_sim.append(idx)"
   ]
  },
  {
   "cell_type": "code",
   "execution_count": 115,
   "id": "a06409c5-7b29-414e-956f-29443f9960c3",
   "metadata": {},
   "outputs": [
    {
     "data": {
      "text/plain": [
       "(801,)"
      ]
     },
     "execution_count": 115,
     "metadata": {},
     "output_type": "execute_result"
    }
   ],
   "source": [
    "np.unique(idx_sim).shape"
   ]
  },
  {
   "cell_type": "code",
   "execution_count": 116,
   "id": "166a2291-5de0-4626-9f19-0bbc66293c74",
   "metadata": {},
   "outputs": [],
   "source": [
    "move_mean = env_dataset.move_mean\n",
    "move_std = env_dataset.move_std\n",
    "std_coef = 1."
   ]
  },
  {
   "cell_type": "code",
   "execution_count": 117,
   "id": "46e1948b-0452-4c5a-bdc4-f49460fc2a15",
   "metadata": {},
   "outputs": [
    {
     "data": {
      "text/plain": [
       "1.0"
      ]
     },
     "execution_count": 117,
     "metadata": {},
     "output_type": "execute_result"
    }
   ],
   "source": [
    "std_coef"
   ]
  },
  {
   "cell_type": "code",
   "execution_count": 92,
   "id": "6433d58c-090b-45be-abf7-971ef095760e",
   "metadata": {},
   "outputs": [
    {
     "ename": "NameError",
     "evalue": "name 'idx_97' is not defined",
     "output_type": "error",
     "traceback": [
      "\u001b[0;31m---------------------------------------------------------------------------\u001b[0m",
      "\u001b[0;31mNameError\u001b[0m                                 Traceback (most recent call last)",
      "Cell \u001b[0;32mIn[92], line 2\u001b[0m\n\u001b[1;32m      1\u001b[0m good_trj_idx \u001b[38;5;241m=\u001b[39m []\n\u001b[0;32m----> 2\u001b[0m \u001b[38;5;28;01mfor\u001b[39;00m idx \u001b[38;5;129;01min\u001b[39;00m \u001b[43midx_97\u001b[49m:\n\u001b[1;32m      3\u001b[0m     move \u001b[38;5;241m=\u001b[39m path_first_obs[idx\u001b[38;5;241m+\u001b[39m\u001b[38;5;241m1\u001b[39m]\u001b[38;5;241m-\u001b[39mpath_lat_obs[idx]\n\u001b[1;32m      4\u001b[0m     \u001b[38;5;28;01mif\u001b[39;00m (move \u001b[38;5;241m>\u001b[39m move_mean \u001b[38;5;241m+\u001b[39m std_coef \u001b[38;5;241m*\u001b[39m move_std)\u001b[38;5;241m.\u001b[39many() \u001b[38;5;129;01mor\u001b[39;00m (\n\u001b[1;32m      5\u001b[0m                     move \u001b[38;5;241m<\u001b[39m move_mean \u001b[38;5;241m-\u001b[39m std_coef \u001b[38;5;241m*\u001b[39m move_std\n\u001b[1;32m      6\u001b[0m                 )\u001b[38;5;241m.\u001b[39many():\n",
      "\u001b[0;31mNameError\u001b[0m: name 'idx_97' is not defined"
     ]
    }
   ],
   "source": [
    "good_trj_idx = []\n",
    "for idx in idx_97:\n",
    "    move = path_first_obs[idx+1]-path_lat_obs[idx]\n",
    "    if (move > move_mean + std_coef * move_std).any() or (\n",
    "                    move < move_mean - std_coef * move_std\n",
    "                ).any():\n",
    "        continue\n",
    "    else:\n",
    "        good_trj_idx.append(idx)"
   ]
  },
  {
   "cell_type": "code",
   "execution_count": 119,
   "id": "cba42953-0ea1-4fb7-851c-873d47ead7dc",
   "metadata": {},
   "outputs": [
    {
     "data": {
      "text/plain": [
       "(887,)"
      ]
     },
     "execution_count": 119,
     "metadata": {},
     "output_type": "execute_result"
    }
   ],
   "source": [
    "np.unique(good_trj_idx).shape"
   ]
  },
  {
   "cell_type": "code",
   "execution_count": 127,
   "id": "29997846-18f2-4d97-8624-8bf42bb361d6",
   "metadata": {},
   "outputs": [],
   "source": [
    "good_trj_idx = []\n",
    "for idx in dist_idx:\n",
    "    move = path_first_obs[idx+1]-path_lat_obs[idx]\n",
    "    if (move > move_mean + std_coef * move_std).any() or (\n",
    "                    move < move_mean - std_coef * move_std\n",
    "                ).any():\n",
    "        continue\n",
    "    else:\n",
    "        good_trj_idx.append(idx)"
   ]
  },
  {
   "cell_type": "code",
   "execution_count": 128,
   "id": "8f4a8939-e7a6-4edb-96dc-8d000d2b893b",
   "metadata": {},
   "outputs": [],
   "source": [
    "trj_idx_max = []\n",
    "for idx in good_trj_idx:\n",
    "    trj_idx_max.append(trj_idx[idx])"
   ]
  },
  {
   "cell_type": "code",
   "execution_count": 129,
   "id": "56577e46-328f-466e-99ca-118005140b00",
   "metadata": {},
   "outputs": [
    {
     "data": {
      "text/plain": [
       "(184,)"
      ]
     },
     "execution_count": 129,
     "metadata": {},
     "output_type": "execute_result"
    }
   ],
   "source": [
    "np.unique(trj_idx_max).shape"
   ]
  },
  {
   "cell_type": "code",
   "execution_count": 102,
   "id": "3e05b8e2-2c34-47ed-b085-367299c15bb9",
   "metadata": {},
   "outputs": [
    {
     "data": {
      "text/plain": [
       "array([5762])"
      ]
     },
     "execution_count": 102,
     "metadata": {},
     "output_type": "execute_result"
    }
   ],
   "source": [
    "sim[5761].argsort()[-1:]"
   ]
  },
  {
   "cell_type": "code",
   "execution_count": 104,
   "id": "bfd0c5d6-4659-446b-a531-a01760e2498c",
   "metadata": {},
   "outputs": [
    {
     "data": {
      "text/plain": [
       "5762"
      ]
     },
     "execution_count": 104,
     "metadata": {},
     "output_type": "execute_result"
    }
   ],
   "source": [
    "sim[5761].argmax()"
   ]
  },
  {
   "cell_type": "code",
   "execution_count": 103,
   "id": "e0a6f4f7-e8fd-4864-a458-c245bd627d40",
   "metadata": {
    "scrolled": true
   },
   "outputs": [
    {
     "data": {
      "text/plain": [
       "array([0.99809283], dtype=float32)"
      ]
     },
     "execution_count": 103,
     "metadata": {},
     "output_type": "execute_result"
    }
   ],
   "source": [
    "np.array(sorted(sim[5761])[-1:])"
   ]
  },
  {
   "cell_type": "code",
   "execution_count": 38,
   "id": "e97869bf-e820-4ecc-9c0c-c489db1ab849",
   "metadata": {},
   "outputs": [],
   "source": [
    "x_norm = np.linalg.norm(obs, axis=1, keepdims=True)\n",
    "x_normed = obs / x_norm"
   ]
  },
  {
   "cell_type": "code",
   "execution_count": 39,
   "id": "e1a35e59-d972-4094-8279-7928a14fa481",
   "metadata": {},
   "outputs": [
    {
     "data": {
      "text/plain": [
       "array([[0.99999994, 0.09732522, 0.11560691, 0.11976532, 0.16260965,\n",
       "        0.0687316 , 0.05573889, 0.05041492, 0.04929625, 0.05939497,\n",
       "        0.05749244, 0.05426392, 0.05926964, 0.07371875, 0.04569846,\n",
       "        0.04928451, 0.05133786, 0.05362457, 0.06352822, 0.07006819,\n",
       "        0.05792499, 0.04703024, 0.04977294, 0.06192559, 0.0507671 ,\n",
       "        0.05468734, 0.08384842, 0.06439942, 0.06214943, 0.06589258,\n",
       "        0.05225323, 0.05117632, 0.07177436, 0.08330059, 0.09973745,\n",
       "        0.06720553, 0.05616046, 0.05139487, 0.05934663, 0.08262889]],\n",
       "      dtype=float32)"
      ]
     },
     "execution_count": 39,
     "metadata": {},
     "output_type": "execute_result"
    }
   ],
   "source": [
    "np.dot(x_normed[:1], x_normed.transpose())"
   ]
  },
  {
   "cell_type": "code",
   "execution_count": 43,
   "id": "7295913c-3140-4f19-bae4-bd21d5a05618",
   "metadata": {},
   "outputs": [
    {
     "data": {
      "text/plain": [
       "array([ 0.       , 12.682061 , 10.596271 , 10.291693 ,  7.4718065,\n",
       "       17.808186 , 21.818405 , 24.928463 , 25.351904 , 20.859837 ,\n",
       "       20.676077 , 22.375874 , 20.3257   , 16.19138  , 25.209568 ,\n",
       "       23.114534 , 21.966192 , 20.911642 , 17.814623 , 16.873768 ,\n",
       "       20.817268 , 25.969921 , 24.596634 , 19.384687 , 24.063148 ,\n",
       "       22.310364 , 14.122533 , 18.107113 , 18.9856   , 17.924696 ,\n",
       "       21.439888 , 21.775223 , 15.669722 , 13.417218 , 11.348156 ,\n",
       "       17.107634 , 20.525871 , 23.163149 , 19.814846 , 14.511565 ],\n",
       "      dtype=float32)"
      ]
     },
     "execution_count": 43,
     "metadata": {},
     "output_type": "execute_result"
    }
   ],
   "source": [
    "np.linalg.norm(obs[:1]- obs, axis=-1)"
   ]
  },
  {
   "cell_type": "code",
   "execution_count": 44,
   "id": "0d7f54b8-e568-4c12-ae7e-1d255bbd3fc6",
   "metadata": {},
   "outputs": [
    {
     "data": {
      "text/plain": [
       "array([ 1.2447867e+00, -2.8652947e-03,  2.8455490e-03, -7.1025225e-03,\n",
       "        5.0128255e-02,  4.5689105e-04,  1.5153259e-03, -3.4880526e-02,\n",
       "       -6.1646890e-02, -1.1687822e-01, -3.2392621e-01,  7.3565617e-02,\n",
       "       -1.4018050e+00,  1.0000000e+01, -1.4415555e-01,  1.0674827e-01,\n",
       "       -7.6612234e+00], dtype=float32)"
      ]
     },
     "execution_count": 44,
     "metadata": {},
     "output_type": "execute_result"
    }
   ],
   "source": [
    "obs[1]"
   ]
  },
  {
   "cell_type": "code",
   "execution_count": 45,
   "id": "cb575de0-0b18-4dd4-9304-41f65fd378de",
   "metadata": {},
   "outputs": [
    {
     "data": {
      "text/plain": [
       "array([ 1.2452362e+00, -1.5761047e-03,  2.5003208e-03, -1.2534391e-03,\n",
       "        3.2847428e-03,  1.0975171e-03,  1.0364329e-03, -4.1910731e-03,\n",
       "        3.6418133e-03,  4.6123820e-03,  1.6055787e-04,  2.1520967e-03,\n",
       "       -4.8873229e-03, -1.7607319e-03, -2.8672458e-03, -2.0256022e-03,\n",
       "       -6.7823566e-04], dtype=float32)"
      ]
     },
     "execution_count": 45,
     "metadata": {},
     "output_type": "execute_result"
    }
   ],
   "source": [
    "obs[0]"
   ]
  },
  {
   "cell_type": "code",
   "execution_count": 118,
   "id": "3c477c2a-5610-4a30-b56c-90fdd6bdc8c2",
   "metadata": {},
   "outputs": [
    {
     "data": {
      "text/plain": [
       "<matplotlib.colorbar.Colorbar at 0x7f0e56fa8dc0>"
      ]
     },
     "execution_count": 118,
     "metadata": {},
     "output_type": "execute_result"
    },
    {
     "data": {
      "image/png": "[encoded data removed]",
      "text/plain": [
       "<Figure size 640x480 with 2 Axes>"
      ]
     },
     "metadata": {},
     "output_type": "display_data"
    }
   ],
   "source": [
    "sim[0]"
   ]
  },
  {
   "cell_type": "code",
   "execution_count": 110,
   "id": "2ae7b80e-bdc7-42b4-b699-9f970b6c32dd",
   "metadata": {},
   "outputs": [
    {
     "data": {
      "text/plain": [
       "array([ 1.1284730e+00,  4.2973909e-01, -1.6874887e-01,  2.6111741e-02,\n",
       "        8.2304472e-01,  4.9716972e-02, -5.2695006e-01, -7.4854568e-02,\n",
       "        4.1253181e+00,  5.0368351e-01,  5.9065133e-01,  7.1575239e-02,\n",
       "       -5.5339611e-01,  4.8856273e-02,  4.6706698e-03, -2.7414680e+00,\n",
       "       -1.0000000e+01], dtype=float32)"
      ]
     },
     "execution_count": 110,
     "metadata": {},
     "output_type": "execute_result"
    }
   ],
   "source": [
    "path_first_obs[6440,]"
   ]
  },
  {
   "cell_type": "code",
   "execution_count": 111,
   "id": "452e04ca-0b5e-4a85-be07-9fb6c4c5dff4",
   "metadata": {},
   "outputs": [
    {
     "data": {
      "text/plain": [
       "array([  1.0641856 ,   0.5022428 ,  -0.22527564,  -1.2424353 ,\n",
       "        -0.25901487,   0.05204702,  -0.04044164,   0.34649873,\n",
       "         4.5565157 ,  -0.9760221 ,   0.33938327,  -7.718694  ,\n",
       "         3.8258088 ,  10.        ,  -0.10568574,  -6.0228014 ,\n",
       "       -10.        ], dtype=float32)"
      ]
     },
     "execution_count": 111,
     "metadata": {},
     "output_type": "execute_result"
    }
   ],
   "source": [
    "path_lat_obs[6439,]"
   ]
  },
  {
   "cell_type": "code",
   "execution_count": 64,
   "id": "2f01aeb6-c2db-4808-a6a9-28798d948890",
   "metadata": {},
   "outputs": [
    {
     "data": {
      "text/plain": [
       "array([[0.06479738, 0.06450819, 0.06585298],\n",
       "       [0.08317117, 0.0827905 , 0.0795382 ],\n",
       "       [0.05712159, 0.05955996, 0.05283558]], dtype=float32)"
      ]
     },
     "execution_count": 64,
     "metadata": {},
     "output_type": "execute_result"
    }
   ],
   "source": [
    "sim[16,:3]"
   ]
  },
  {
   "cell_type": "code",
   "execution_count": 104,
   "id": "24f821b4-740b-4409-a5f7-8bbf368eaa51",
   "metadata": {},
   "outputs": [
    {
     "data": {
      "text/plain": [
       "array([6249, 2315, 6307, 5000, 3330, 3396, 3087, 5262, 6524, 3785, 5881,\n",
       "       5165, 5068, 2358, 5114, 6359, 2732, 5629, 3964, 6187, 2427, 4814,\n",
       "       4887, 4352, 6224, 5442, 4755, 6652, 6607, 4329, 6318, 4596, 4796,\n",
       "        242, 5019, 6535, 4190, 6044, 3820, 5581, 2812, 5965, 4684, 5736,\n",
       "       6322, 6642, 3221, 6906, 5779, 5438, 2925, 5527, 6441, 5214, 6251,\n",
       "       6599, 5562, 5975, 4438, 5893, 5411, 2982, 3363,  241, 6304, 6785,\n",
       "       4037, 5697, 1996, 4200, 5589, 2627, 4693, 6991, 5661, 5358, 5530,\n",
       "       4333, 5703, 5729, 6550, 3955, 5049, 6849, 5482, 5175, 1875, 6129,\n",
       "       3823, 2995, 1295, 4236, 2408, 3953, 3903, 4616, 3935, 4773, 3026,\n",
       "       3800])"
      ]
     },
     "execution_count": 104,
     "metadata": {},
     "output_type": "execute_result"
    }
   ],
   "source": [
    "sim[6439].argsort()[-100:]"
   ]
  },
  {
   "cell_type": "code",
   "execution_count": 106,
   "id": "12b99d45-951f-4d02-b3a2-d8a0de75bdee",
   "metadata": {},
   "outputs": [
    {
     "data": {
      "text/plain": [
       "array([0.26513115], dtype=float32)"
      ]
     },
     "execution_count": 106,
     "metadata": {},
     "output_type": "execute_result"
    }
   ],
   "source": [
    "sim[6439][6439:6440]"
   ]
  },
  {
   "cell_type": "code",
   "execution_count": 47,
   "id": "713f13c8-c772-40f6-b5e5-695620983b32",
   "metadata": {
    "scrolled": true
   },
   "outputs": [
    {
     "name": "stdout",
     "output_type": "stream",
     "text": [
      "[104 125 114 ... 110 128 117]\n",
      "total_trans: 722401 114.92220808145085 100 128\n"
     ]
    },
    {
     "data": {
      "text/plain": [
       "(array([372., 198., 369., 201., 169., 310., 222., 634., 128., 231., 420.,\n",
       "        195., 471., 215., 164., 372., 277., 386., 236., 716.]),\n",
       " array([100. , 101.4, 102.8, 104.2, 105.6, 107. , 108.4, 109.8, 111.2,\n",
       "        112.6, 114. , 115.4, 116.8, 118.2, 119.6, 121. , 122.4, 123.8,\n",
       "        125.2, 126.6, 128. ]),\n",
       " <BarContainer object of 20 artists>)"
      ]
     },
     "execution_count": 47,
     "metadata": {},
     "output_type": "execute_result"
    },
    {
     "data": {
      "image/png": "[encoded data removed]",
      "text/plain": [
       "<Figure size 640x480 with 1 Axes>"
      ]
     },
     "metadata": {},
     "output_type": "display_data"
    }
   ],
   "source": [
    "trans_len1 = np.array([trj['obs'].shape[0] for trj in stitch_1])\n",
    "print(trans_len1)\n",
    "total_trans = np.sum(trans_len1)\n",
    "print(f'total_trans: {total_trans}', np.mean(trans_len1), np.min(trans_len1), np.max(trans_len1))\n",
    "plt.hist(trans_len1, bins=20)"
   ]
  },
  {
   "cell_type": "code",
   "execution_count": 47,
   "id": "97518110-6d98-4554-bc68-f76cb877ad0c",
   "metadata": {},
   "outputs": [
    {
     "data": {
      "text/plain": [
       "array([81, 80, 81, 80])"
      ]
     },
     "execution_count": 47,
     "metadata": {},
     "output_type": "execute_result"
    }
   ],
   "source": [
    "trans_len1[:4]"
   ]
  },
  {
   "cell_type": "code",
   "execution_count": 84,
   "id": "6e32ebc3-03dd-4ee7-91fd-1a51a5577d2f",
   "metadata": {},
   "outputs": [
    {
     "data": {
      "text/plain": [
       "array([[ 1.2064124 , -0.08866196, -0.00640251, -0.07186686],\n",
       "       [ 1.2082661 , -0.05502248,  0.00895147, -0.03472582],\n",
       "       [ 1.2101153 , -0.0237398 ,  0.01892176,  0.00611438],\n",
       "       [ 1.211246  , -0.00679345,  0.01653492,  0.03904326],\n",
       "       [ 1.2119056 ,  0.00126318,  0.01423161,  0.05080751],\n",
       "       [ 1.2110302 ,  0.00141653,  0.01360787,  0.03185162],\n",
       "       [ 1.2107937 , -0.00135229,  0.01363504,  0.02644316],\n",
       "       [ 1.2094947 , -0.00316706,  0.0137958 ,  0.02449972],\n",
       "       [ 1.2094611 , -0.00415523,  0.01365438,  0.02308144],\n",
       "       [ 1.2088863 , -0.0047212 ,  0.01368637,  0.02106016]],\n",
       "      dtype=float32)"
      ]
     },
     "execution_count": 84,
     "metadata": {},
     "output_type": "execute_result"
    }
   ],
   "source": [
    "stitch_1[1]['obs'][35:45,15:17]"
   ]
  },
  {
   "cell_type": "code",
   "execution_count": 88,
   "id": "48f863a8-339f-499c-a1d3-704eafecfbf2",
   "metadata": {},
   "outputs": [],
   "source": [
    "aug_idx = [aug_list_1[i][1] for i in range(len(aug_list_1))]"
   ]
  },
  {
   "cell_type": "code",
   "execution_count": 29,
   "id": "e45060d8-5505-4809-90c2-850fb03a35a9",
   "metadata": {},
   "outputs": [
    {
     "data": {
      "text/plain": [
       "array([  87,  135,  142,  163,  502,  507,  553,  595,  629,  807,  883,\n",
       "        888,  906,  970, 1098, 1139, 1176, 1266, 1277, 1278, 1418, 1534,\n",
       "       1561, 1584, 1620, 1678, 1753, 1804, 1866, 1981, 2055, 2131, 2132,\n",
       "       2152, 2253, 2342, 2345, 2484, 2624, 2660, 2665, 2756, 2797, 2886,\n",
       "       3090, 3106, 3151, 3164, 3354, 3392, 3909, 4005, 4108])"
      ]
     },
     "execution_count": 29,
     "metadata": {},
     "output_type": "execute_result"
    }
   ],
   "source": [
    "np.where(trans_len2 == 80)[0]"
   ]
  },
  {
   "cell_type": "code",
   "execution_count": 136,
   "id": "604f89d1-76af-4f71-a66d-d49d838679a4",
   "metadata": {},
   "outputs": [
    {
     "name": "stdout",
     "output_type": "stream",
     "text": [
      "[82 82 82 ... 82 82 82]\n",
      "total_trans: 392698 81.94866444073456 81 83\n"
     ]
    },
    {
     "data": {
      "text/plain": [
       "(array([ 259.,    0.,    0.,    0.,    0.,    0.,    0.,    0.,    0.,\n",
       "           0., 4520.,    0.,    0.,    0.,    0.,    0.,    0.,    0.,\n",
       "           0.,   13.]),\n",
       " array([81. , 81.1, 81.2, 81.3, 81.4, 81.5, 81.6, 81.7, 81.8, 81.9, 82. ,\n",
       "        82.1, 82.2, 82.3, 82.4, 82.5, 82.6, 82.7, 82.8, 82.9, 83. ]),\n",
       " <BarContainer object of 20 artists>)"
      ]
     },
     "execution_count": 136,
     "metadata": {},
     "output_type": "execute_result"
    },
    {
     "data": {
      "image/png": "[encoded data removed]",
      "text/plain": [
       "<Figure size 640x480 with 1 Axes>"
      ]
     },
     "metadata": {},
     "output_type": "display_data"
    }
   ],
   "source": [
    "trans_len2 = np.array([trj['obs'].shape[0] for trj in stitch_2])\n",
    "print(trans_len2)\n",
    "total_trans = np.sum(trans_len2)\n",
    "print(f'total_trans: {total_trans}', np.mean(trans_len2), np.min(trans_len2), np.max(trans_len2))\n",
    "plt.hist(trans_len2, bins=20)"
   ]
  },
  {
   "cell_type": "code",
   "execution_count": 28,
   "id": "5a9af48d-a2a4-4b65-859c-e590d3e16c0a",
   "metadata": {},
   "outputs": [
    {
     "data": {
      "text/plain": [
       "array([101, 114,  96])"
      ]
     },
     "execution_count": 28,
     "metadata": {},
     "output_type": "execute_result"
    }
   ],
   "source": [
    "aug_list_2[87]"
   ]
  },
  {
   "cell_type": "code",
   "execution_count": 24,
   "id": "594666cf-9a19-42ac-9e23-c611307a10c7",
   "metadata": {},
   "outputs": [
    {
     "name": "stdout",
     "output_type": "stream",
     "text": [
      "stitch1 rew: max: 439.12770318984985\t mean: 282.6796010690622\t min: 169.30892252922058\n"
     ]
    }
   ],
   "source": [
    "stitch_1_rew = np.array([sum(trj['rew']) for trj in stitch_1])\n",
    "print(f'stitch1 rew: max: {np.max(stitch_1_rew)}\\t mean: {np.mean(stitch_1_rew)}\\t min: {np.min(stitch_1_rew)}')\n",
    "\n",
    "# stitch_2_rew = np.array([sum(trj['rew']) for trj in stitch_2])\n",
    "# print(f'stitch1 rew: max: {np.max(stitch_2_rew)}\\t mean: {np.mean(stitch_2_rew)}\\t min: {np.min(stitch_2_rew)}')"
   ]
  },
  {
   "cell_type": "code",
   "execution_count": 25,
   "id": "935b3db3-183a-4e91-82b3-d2ac75eab7f5",
   "metadata": {},
   "outputs": [],
   "source": [
    "def comp_epi_return(dataset, discount=0.99):\n",
    "    discounts = discount ** np.arange(1000)\n",
    "    r = []\n",
    "    for seq in dataset:\n",
    "        rewards = seq['rew']\n",
    "        \n",
    "        r_ = 0\n",
    "        l = len(rewards)\n",
    "        \n",
    "        for i in range(l):\n",
    "            r_ = (discounts[:l-i] * rewards[i:]).sum()\n",
    "            r.append(r_)\n",
    "        \n",
    "    return r"
   ]
  },
  {
   "cell_type": "code",
   "execution_count": 26,
   "id": "6bcefba2-b932-429f-9469-f936240131a5",
   "metadata": {},
   "outputs": [
    {
     "name": "stdout",
     "output_type": "stream",
     "text": [
      "traj1 return: max: 265.5836302432208\t, mean: 111.49977897591957\t min: 1.9787611961364746\n"
     ]
    }
   ],
   "source": [
    "round1_return = np.array(comp_epi_return(stitch_1))\n",
    "# round2_return = np.array(comp_epi_return(stitch_2))\n",
    "print(f'traj1 return: max: {np.max(round1_return)}\\t, mean: {np.mean(round1_return)}\\t min: {np.min(round1_return)}')\n",
    "# print(f'traj2 return: max: {np.max(round2_return)}\\t, mean: {np.mean(round2_return)}\\t min: {np.min(round2_return)}')"
   ]
  },
  {
   "cell_type": "code",
   "execution_count": 28,
   "id": "c9ffc5b0-4158-4a85-a015-2063177d3db7",
   "metadata": {
    "scrolled": true
   },
   "outputs": [
    {
     "data": {
      "text/plain": [
       "(array([    0.,  5000., 10000., 15000., 20000., 25000., 30000., 35000.]),\n",
       " [Text(0, 0, ''),\n",
       "  Text(0, 0, ''),\n",
       "  Text(0, 0, ''),\n",
       "  Text(0, 0, ''),\n",
       "  Text(0, 0, ''),\n",
       "  Text(0, 0, ''),\n",
       "  Text(0, 0, ''),\n",
       "  Text(0, 0, '')])"
      ]
     },
     "execution_count": 28,
     "metadata": {},
     "output_type": "execute_result"
    },
    {
     "data": {
      "image/png": "[encoded data removed]",
      "text/plain": [
       "<Figure size 640x480 with 1 Axes>"
      ]
     },
     "metadata": {},
     "output_type": "display_data"
    }
   ],
   "source": [
    "plt.hist(round1_return/300, bins=100)\n",
    "plt.xticks(size = 10)\n",
    "plt.yticks(size = 10)"
   ]
  },
  {
   "cell_type": "code",
   "execution_count": 32,
   "id": "163be323-d526-4b5c-8c43-cc5bd27b62fe",
   "metadata": {
    "scrolled": true
   },
   "outputs": [
    {
     "data": {
      "text/plain": [
       "(array([    0.,  2000.,  4000.,  6000.,  8000., 10000., 12000., 14000.,\n",
       "        16000.]),\n",
       " [Text(0, 0, ''),\n",
       "  Text(0, 0, ''),\n",
       "  Text(0, 0, ''),\n",
       "  Text(0, 0, ''),\n",
       "  Text(0, 0, ''),\n",
       "  Text(0, 0, ''),\n",
       "  Text(0, 0, ''),\n",
       "  Text(0, 0, ''),\n",
       "  Text(0, 0, '')])"
      ]
     },
     "execution_count": 32,
     "metadata": {},
     "output_type": "execute_result"
    },
    {
     "data": {
      "image/png": "[encoded data removed]",
      "text/plain": [
       "<Figure size 640x480 with 1 Axes>"
      ]
     },
     "metadata": {},
     "output_type": "display_data"
    }
   ],
   "source": [
    "plt.hist(round2_return/200, bins=100)\n",
    "plt.xticks(size = 10)\n",
    "plt.yticks(size = 10)"
   ]
  },
  {
   "cell_type": "code",
   "execution_count": null,
   "id": "e37f43cc-0aee-497c-aa0e-7d756932b966",
   "metadata": {},
   "outputs": [],
   "source": []
  }
 ],
 "metadata": {
  "kernelspec": {
   "display_name": "Python 3 (ipykernel)",
   "language": "python",
   "name": "python3"
  },
  "language_info": {
   "codemirror_mode": {
    "name": "ipython",
    "version": 3
   },
   "file_extension": ".py",
   "mimetype": "text/x-python",
   "name": "python",
   "nbconvert_exporter": "python",
   "pygments_lexer": "ipython3",
   "version": "3.8.19"
  }
 },
 "nbformat": 4,
 "nbformat_minor": 5
}
